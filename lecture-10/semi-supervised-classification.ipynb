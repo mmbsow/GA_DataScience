{
 "metadata": {
  "name": "",
  "signature": "sha256:a4e88016334eb4467b3df7df4ab46b56ba6fd89326f93f5ab03133a41b4fbf04"
 },
 "nbformat": 3,
 "nbformat_minor": 0,
 "worksheets": [
  {
   "cells": [
    {
     "cell_type": "markdown",
     "metadata": {},
     "source": [
      "# Clustering Features\n",
      "\n",
      "In this lab we build a semi-supervised classifier that can predict whether a photograph depicts a cat or a dog.  \n",
      "\n",
      "![files/cats-and-dogs-img/cat.94.jpg](files/cats-and-dogs-img/cat.9364.jpg)\n",
      "![files/cats-and-dogs-img/dog.8892.jpg](files/cats-and-dogs-img/dog.8892.jpg)\n",
      "\n",
      "Classifying natural images is a challenging problem. We will extract a variable number of SURF descriptors from each image.  \n",
      "Describing SURF descriptors is beyond the scope of this class; for this lab it is sufficient to know that they describe the \"interesting\" parts of an image.\n",
      "We then cluster the SURF descriptors, and train the classifier using the clusters as features.  \n",
      "This approach is sometimes called the \"bag-of-features\" representation, since it is analogous to the bag-of-words representation.  \n",
      "Note that this approach does not achieve state-of-the-art performance in object recognition, but it is a good demonstration of using clustering for vector quantization, and state-of-the-art approaches may too costly for some problems.  \n",
      "\n",
      "We require the `mahotas` library to cluster the images. Install `mahotas` by executing `pip install mahotas` in your terminal emulator.  \n",
      "\n",
      "Please execute the next two cells at the beginning of class."
     ]
    },
    {
     "cell_type": "code",
     "collapsed": false,
     "input": [
      "# First we will make a list of the image files that need to be loaded and create a list of the classes.\n",
      "# TODO open the cats-and-dogs-img directory and inspect some of the images.\n",
      "import glob\n",
      "all_instance_filenames = []\n",
      "all_instance_targets = []\n",
      "for f in glob.glob('cats-and-dogs-img/*.jpg'):\n",
      "    target = 1 if 'cat' in f[18:] else 0\n",
      "    all_instance_filenames.append(f)\n",
      "    all_instance_targets.append(target)"
     ],
     "language": "python",
     "metadata": {},
     "outputs": [],
     "prompt_number": 1
    },
    {
     "cell_type": "code",
     "collapsed": false,
     "input": [
      "# We will extract SURF descriptors from each of the images.\n",
      "import mahotas as mh\n",
      "from mahotas.features import surf\n",
      "surf_features = []\n",
      "counter = 0\n",
      "for f in all_instance_filenames:\n",
      "    if counter % 100 == 0:\n",
      "        print 'Loaded image %s of 2000' % counter\n",
      "    counter += 1\n",
      "    image = mh.imread(f, as_grey=True)\n",
      "    surf_features.append(surf.surf(image)[:, 5:])\n",
      "print 'SURF extraction complete.'"
     ],
     "language": "python",
     "metadata": {},
     "outputs": [
      {
       "output_type": "stream",
       "stream": "stdout",
       "text": [
        "Loaded image 0 of 2000\n",
        "Loaded image 100 of 2000"
       ]
      },
      {
       "output_type": "stream",
       "stream": "stdout",
       "text": [
        "\n",
        "Loaded image 200 of 2000"
       ]
      },
      {
       "output_type": "stream",
       "stream": "stdout",
       "text": [
        "\n",
        "Loaded image 300 of 2000"
       ]
      },
      {
       "output_type": "stream",
       "stream": "stdout",
       "text": [
        "\n",
        "Loaded image 400 of 2000"
       ]
      },
      {
       "output_type": "stream",
       "stream": "stdout",
       "text": [
        "\n",
        "Loaded image 500 of 2000"
       ]
      },
      {
       "output_type": "stream",
       "stream": "stdout",
       "text": [
        "\n",
        "Loaded image 600 of 2000"
       ]
      },
      {
       "output_type": "stream",
       "stream": "stdout",
       "text": [
        "\n",
        "Loaded image 700 of 2000"
       ]
      },
      {
       "output_type": "stream",
       "stream": "stdout",
       "text": [
        "\n",
        "Loaded image 800 of 2000"
       ]
      },
      {
       "output_type": "stream",
       "stream": "stdout",
       "text": [
        "\n",
        "Loaded image 900 of 2000"
       ]
      },
      {
       "output_type": "stream",
       "stream": "stdout",
       "text": [
        "\n",
        "Loaded image 1000 of 2000"
       ]
      },
      {
       "output_type": "stream",
       "stream": "stdout",
       "text": [
        "\n",
        "Loaded image 1100 of 2000"
       ]
      },
      {
       "output_type": "stream",
       "stream": "stdout",
       "text": [
        "\n",
        "Loaded image 1200 of 2000"
       ]
      },
      {
       "output_type": "stream",
       "stream": "stdout",
       "text": [
        "\n",
        "Loaded image 1300 of 2000"
       ]
      },
      {
       "output_type": "stream",
       "stream": "stdout",
       "text": [
        "\n",
        "Loaded image 1400 of 2000"
       ]
      },
      {
       "output_type": "stream",
       "stream": "stdout",
       "text": [
        "\n",
        "Loaded image 1500 of 2000"
       ]
      },
      {
       "output_type": "stream",
       "stream": "stdout",
       "text": [
        "\n",
        "Loaded image 1600 of 2000"
       ]
      },
      {
       "output_type": "stream",
       "stream": "stdout",
       "text": [
        "\n",
        "Loaded image 1700 of 2000"
       ]
      },
      {
       "output_type": "stream",
       "stream": "stdout",
       "text": [
        "\n",
        "Loaded image 1800 of 2000"
       ]
      },
      {
       "output_type": "stream",
       "stream": "stdout",
       "text": [
        "\n",
        "Loaded image 1900 of 2000"
       ]
      },
      {
       "output_type": "stream",
       "stream": "stdout",
       "text": [
        "\n",
        "SURF extraction complete."
       ]
      },
      {
       "output_type": "stream",
       "stream": "stdout",
       "text": [
        "\n"
       ]
      }
     ],
     "prompt_number": 2
    },
    {
     "cell_type": "code",
     "collapsed": false,
     "input": [
      "# TODO how many images did we load?\n",
      "len(surf_features)"
     ],
     "language": "python",
     "metadata": {},
     "outputs": [
      {
       "metadata": {},
       "output_type": "pyout",
       "prompt_number": 4,
       "text": [
        "1999"
       ]
      }
     ],
     "prompt_number": 4
    },
    {
     "cell_type": "code",
     "collapsed": false,
     "input": [
      "# TODO would you expect the same number of SURF descriptors to be extracted from each image?\n",
      "# TODO check your answer by printing the shapes of a few of the elements in surf_features.\n",
      "for i in range(0,5):\n",
      "    print surf_features[i].shape"
     ],
     "language": "python",
     "metadata": {},
     "outputs": [
      {
       "output_type": "stream",
       "stream": "stdout",
       "text": [
        "(814, 65)\n",
        "(956, 65)\n",
        "(93, 65)\n",
        "(909, 65)\n",
        "(888, 65)\n"
       ]
      }
     ],
     "prompt_number": 6
    },
    {
     "cell_type": "code",
     "collapsed": false,
     "input": [
      "# TODO import numpy, LogisticRegression, MiniBatchKMeans, and the entire metrics module.\n",
      "import numpy as np\n",
      "from sklearn.linear_model import LogisticRegression\n",
      "from sklearn.cluster import MiniBatchKMeans\n",
      "from sklearn.metrics import *"
     ],
     "language": "python",
     "metadata": {},
     "outputs": [],
     "prompt_number": 7
    },
    {
     "cell_type": "code",
     "collapsed": false,
     "input": [
      "# TODO now we are going to split the data into training and test sets. \n",
      "# We cannot use train_test_split because X is not a design matrix; a different number of SURF descriptors were extracted for each image.\n",
      "# TODO set train_len equal to 75% of the instances\n",
      "train_len = int(len(surf_features) * .75)\n",
      "# TODO Use NumPy to concatenate all of the rows of the training set into one array. We will cluster these features.\n",
      "X_train_surf_features = np.concatenate(surf_features[:train_len])\n",
      "# TODO set y_train equal to the classes for the training instances\n",
      "y_train = all_instance_targets[:train_len]\n",
      "# TODO set y_test equal to the classes for the testing instances\n",
      "y_test = all_instance_targets[train_len:]"
     ],
     "language": "python",
     "metadata": {},
     "outputs": [],
     "prompt_number": 8
    },
    {
     "cell_type": "code",
     "collapsed": false,
     "input": [
      "n_clusters = 150\n",
      "print 'Clustering', len(X_train_surf_features), 'features'\n",
      "# TODO instantiate MiniBatchKMeans. Set n_clusters.\n",
      "estimator = MiniBatchKMeans(n_clusters=n_clusters)\n",
      "# TODO fit the estimator on the training features.\n",
      "estimator.fit_transform(X_train_surf_features)"
     ],
     "language": "python",
     "metadata": {},
     "outputs": [
      {
       "output_type": "stream",
       "stream": "stdout",
       "text": [
        "Clustering 946746 features\n"
       ]
      },
      {
       "metadata": {},
       "output_type": "pyout",
       "prompt_number": 9,
       "text": [
        "array([[ 1.19709563,  3.37368178,  1.69633667, ...,  1.05383185,\n",
        "         1.05789643,  0.92978622],\n",
        "       [ 2.6909434 ,  1.07540182,  4.20019499, ...,  2.83177261,\n",
        "         1.83790805,  2.1204357 ],\n",
        "       [ 3.79826242,  0.7825527 ,  5.13464587, ...,  3.80600733,\n",
        "         2.78410869,  3.07114651],\n",
        "       ..., \n",
        "       [ 3.66820098,  0.93292195,  4.93756826, ...,  3.60131264,\n",
        "         2.56427297,  2.84111435],\n",
        "       [ 1.4704615 ,  2.71669729,  2.69924836, ...,  1.53124564,\n",
        "         1.03349553,  0.55801698],\n",
        "       [ 1.47632431,  2.68548855,  2.72581072, ...,  1.54298952,\n",
        "         1.02304936,  0.56126532]])"
       ]
      }
     ],
     "prompt_number": 9
    },
    {
     "cell_type": "code",
     "collapsed": false,
     "input": [
      "# We have now clustered the SURF descriptors for the test set.\n",
      "# We can now create consistent feature representations for the training set.\n",
      "# For each training image, we will assign each of its extracted SURF descriptors to one of the 150 clusters.\n",
      "# TODO how many features will our design matrix have?\n",
      "X_train = []\n",
      "for instance in surf_features[:train_len]:\n",
      "    if len(instance) == 0:\n",
      "        X_train.append(np.zeros(150))\n",
      "        continue\n",
      "    clusters = estimator.predict(instance)\n",
      "    features = np.bincount(clusters)\n",
      "    if len(features) < n_clusters:\n",
      "        features = np.append(features, np.zeros((1, n_clusters-len(features))))\n",
      "    X_train.append(features)"
     ],
     "language": "python",
     "metadata": {},
     "outputs": [],
     "prompt_number": 10
    },
    {
     "cell_type": "code",
     "collapsed": false,
     "input": [
      "# Now we will assign each of the SURF descriptors for each of the testing instances to one of the training clusters.\n",
      "X_test = []\n",
      "for instance in surf_features[train_len:]:\n",
      "    if len(instance) == 0:\n",
      "        X_test.append(np.zeros(150))\n",
      "        continue\n",
      "    clusters = estimator.predict(instance)\n",
      "    features = np.bincount(clusters)\n",
      "    if len(features) < n_clusters:\n",
      "        features = np.append(features, np.zeros((1, n_clusters-len(features))))\n",
      "    X_test.append(features)"
     ],
     "language": "python",
     "metadata": {},
     "outputs": [],
     "prompt_number": 11
    },
    {
     "cell_type": "code",
     "collapsed": false,
     "input": [
      "# TODO print the dimensions of X_train and X_test\n",
      "print len(X_train)\n",
      "print X_train[0].shape"
     ],
     "language": "python",
     "metadata": {},
     "outputs": [
      {
       "output_type": "stream",
       "stream": "stdout",
       "text": [
        "1499\n",
        "(150,)\n"
       ]
      }
     ],
     "prompt_number": 12
    },
    {
     "cell_type": "code",
     "collapsed": false,
     "input": [
      "# TODO instantiate a LogisticRegression classifier\n",
      "clf = LogisticRegression()\n",
      "# TODO fit the classifier.\n",
      "clf.fit(X_train, y_train)\n",
      "# TODO evaluate the classifier's accuracy, precision and recall.\n",
      "# TODO print the classification report for the classifier.\n",
      "predictions = clf.predict(X_test)\n",
      "print classification_report(y_test, predictions)"
     ],
     "language": "python",
     "metadata": {},
     "outputs": [
      {
       "output_type": "stream",
       "stream": "stdout",
       "text": [
        "             precision    recall  f1-score   support\n",
        "\n",
        "          0       1.00      0.47      0.64       500\n",
        "          1       0.00      0.00      0.00         0\n",
        "\n",
        "avg / total       1.00      0.47      0.64       500\n",
        "\n"
       ]
      }
     ],
     "prompt_number": 15
    },
    {
     "cell_type": "code",
     "collapsed": false,
     "input": [
      "# BONUS TODO fit another classifier on the training data. Does it perform better?\n"
     ],
     "language": "python",
     "metadata": {},
     "outputs": [],
     "prompt_number": 14
    },
    {
     "cell_type": "code",
     "collapsed": false,
     "input": [
      "# BONUS TODO grid search to optimize the hyperparameters of one of the classifiers."
     ],
     "language": "python",
     "metadata": {},
     "outputs": []
    },
    {
     "cell_type": "code",
     "collapsed": false,
     "input": [
      "# BONUS TODO does changing the number of clusters improve performance?"
     ],
     "language": "python",
     "metadata": {},
     "outputs": []
    }
   ],
   "metadata": {}
  }
 ]
}