{
 "metadata": {
  "name": "elbow-method-solutions"
 },
 "nbformat": 3,
 "nbformat_minor": 0,
 "worksheets": [
  {
   "cells": [
    {
     "cell_type": "markdown",
     "metadata": {},
     "source": [
      "# Selecting K with the Elbow Method\n",
      "\n",
      "In this lab we will use the Elbow Method to select the value of K for two data sets."
     ]
    },
    {
     "cell_type": "code",
     "collapsed": false,
     "input": [
      "# My desktop uses a different backend\n",
      "#import matplotlib\n",
      "#matplotlib.use('Qt4Agg')\n",
      "# TODO set matplotlib to display inline\n",
      "\n",
      "# TODO import pyplot as plt\n"
     ],
     "language": "python",
     "metadata": {},
     "outputs": []
    },
    {
     "cell_type": "code",
     "collapsed": false,
     "input": [
      "# TODO import numpy as np\n",
      "\n",
      "# We will use np.random.uniform to create 2 clusters in 2D space. \n",
      "# Each cluster will contain 10 points.\n",
      "# One cluster will be centered around (1, 1), and the other will be \n",
      "# centered around (4, 4)\n",
      "cluster1 = np.random.uniform(0.5, 1.5, (2, 10))\n",
      "cluster2 = np.random.uniform(3.5, 4.5, (2, 10))\n",
      "X = np.hstack((cluster1, cluster2)).T"
     ],
     "language": "python",
     "metadata": {},
     "outputs": []
    },
    {
     "cell_type": "code",
     "collapsed": false,
     "input": [
      "# TODO import KMeans from the cluster module of sklearn.\n",
      "\n",
      "# TODO import the cdist function from scipy.spatial.distance\n",
      "\n",
      "# TODO create a list of values of K from 1 to 10\n",
      "\n",
      "# TODO create a list of the mean dispersions\n",
      "\n",
      "# TODO loop through each value of K\n",
      "\n",
      "    # TODO create a KMeans estimator with n_clusters set to the current value of K\n",
      "\n",
      "    # TODO fit the estimator\n",
      "\n",
      "    # Append the average cluster dispersion\n",
      "    meanDispersions.append(sum(np.min(cdist(X, kmeans.cluster_centers_, 'euclidean'), axis=1)) / X.shape[0]) "
     ],
     "language": "python",
     "metadata": {},
     "outputs": []
    },
    {
     "cell_type": "code",
     "collapsed": false,
     "input": [
      "# TODO plot the value of K on the X axis and the mean dispersion on the Y axis\n",
      "\n",
      "# TODO label the X axis\n",
      "\n",
      "# TODO label the Y axis\n",
      "\n",
      "# TODO title the graph\n"
     ],
     "language": "python",
     "metadata": {},
     "outputs": []
    },
    {
     "cell_type": "markdown",
     "metadata": {},
     "source": [
      "### What is the value of K indicated by the elbow method?"
     ]
    },
    {
     "cell_type": "markdown",
     "metadata": {},
     "source": [
      "## Selecting K for the Iris Data Set"
     ]
    },
    {
     "cell_type": "code",
     "collapsed": false,
     "input": [
      "# TODO import the load_iris convenience function\n"
     ],
     "language": "python",
     "metadata": {},
     "outputs": []
    },
    {
     "cell_type": "code",
     "collapsed": false,
     "input": [
      "# TODO load the Iris data set\n",
      "\n",
      "# TODO get the features\n",
      "\n",
      "# TODO set meanDispersions to an empty list\n",
      "\n",
      "# TODO loop through each value of K\n",
      "\n",
      "    # TODO create a KMeans estimator with n_clusters set to the current value of K\n",
      "\n",
      "    # TODO fit the estimator\n",
      "\n",
      "    # Append the average cluster dispersion\n",
      "    meanDispersions.append(sum(np.min(cdist(X, kmeans.cluster_centers_, 'euclidean'), axis=1)) / X.shape[0]) "
     ],
     "language": "python",
     "metadata": {},
     "outputs": []
    },
    {
     "cell_type": "code",
     "collapsed": false,
     "input": [
      "# TODO plot the value of K on the X axis and the mean dispersion on the Y axis\n",
      "\n",
      "# TODO label the X axis\n",
      "\n",
      "# TODO label the Y axis\n",
      "\n",
      "# TODO title the graph\n"
     ],
     "language": "python",
     "metadata": {},
     "outputs": []
    },
    {
     "cell_type": "markdown",
     "metadata": {},
     "source": [
      "### What is the best value of K for the Iris data set?"
     ]
    }
   ],
   "metadata": {}
  }
 ]
}