{
 "metadata": {
  "name": "",
  "signature": "sha256:40c116c5dbbe214f12114145e0773beef581bdfbbeac7859eaa5ce79fea563dd"
 },
 "nbformat": 3,
 "nbformat_minor": 0,
 "worksheets": [
  {
   "cells": [
    {
     "cell_type": "markdown",
     "metadata": {},
     "source": [
      "# Multiple Linear Regression Review\n",
      "\n",
      "Our goal is to predict the median value of a home in a Boston suburb.\n",
      "\n",
      "Response Variable:\n",
      "\n",
      "MEDV: Median value of owner-occupied homes in $1000's\n",
      "\n",
      "Explanatory Variables:\n",
      "\n",
      "CRIM: per capita crime rate by town \n",
      "ZN: proportion of residential land zoned for lots over 25,000 sq.ft. \n",
      "INDUS: proportion of non-retail business acres per town \n",
      "CHAS: Charles River dummy variable (= 1 if tract bounds river; 0 otherwise) \n",
      "NOX: nitric oxides concentration (parts per 10 million) \n",
      "RM: average number of rooms per dwelling \n",
      "AGE: proportion of owner-occupied units built prior to 1940 \n",
      "...\n"
     ]
    },
    {
     "cell_type": "code",
     "collapsed": false,
     "input": [
      "# TODO import the load_boston() convenience function from the `datasets` module of scikit-learn.\n",
      "from sklearn.datasets import load_boston"
     ],
     "language": "python",
     "metadata": {},
     "outputs": [],
     "prompt_number": 1
    },
    {
     "cell_type": "code",
     "collapsed": false,
     "input": [
      "# load_boston() returns an object containing data (the values of the features for the instances)\n",
      "# and targets (the values of the response variable for the instances)\n",
      "obj = load_boston()"
     ],
     "language": "python",
     "metadata": {},
     "outputs": [],
     "prompt_number": 4
    },
    {
     "cell_type": "code",
     "collapsed": false,
     "input": [
      "# TODO print the `data` and `target` attributes of the `boston` object.\n",
      "# Hint: if you aren't sure what the attributes are called, use the built-in function `dir()` \n",
      "# to print all of the object's attributes and methods.\n",
      "print obj.data\n",
      "print obj.target"
     ],
     "language": "python",
     "metadata": {},
     "outputs": [
      {
       "output_type": "stream",
       "stream": "stdout",
       "text": [
        "[[  6.32000000e-03   1.80000000e+01   2.31000000e+00 ...,   1.53000000e+01\n",
        "    3.96900000e+02   4.98000000e+00]\n",
        " [  2.73100000e-02   0.00000000e+00   7.07000000e+00 ...,   1.78000000e+01\n",
        "    3.96900000e+02   9.14000000e+00]\n",
        " [  2.72900000e-02   0.00000000e+00   7.07000000e+00 ...,   1.78000000e+01\n",
        "    3.92830000e+02   4.03000000e+00]\n",
        " ..., \n",
        " [  6.07600000e-02   0.00000000e+00   1.19300000e+01 ...,   2.10000000e+01\n",
        "    3.96900000e+02   5.64000000e+00]\n",
        " [  1.09590000e-01   0.00000000e+00   1.19300000e+01 ...,   2.10000000e+01\n",
        "    3.93450000e+02   6.48000000e+00]\n",
        " [  4.74100000e-02   0.00000000e+00   1.19300000e+01 ...,   2.10000000e+01\n",
        "    3.96900000e+02   7.88000000e+00]]\n",
        "[ 24.   21.6  34.7  33.4  36.2  28.7  22.9  27.1  16.5  18.9  15.   18.9\n",
        "  21.7  20.4  18.2  19.9  23.1  17.5  20.2  18.2  13.6  19.6  15.2  14.5\n",
        "  15.6  13.9  16.6  14.8  18.4  21.   12.7  14.5  13.2  13.1  13.5  18.9\n",
        "  20.   21.   24.7  30.8  34.9  26.6  25.3  24.7  21.2  19.3  20.   16.6\n",
        "  14.4  19.4  19.7  20.5  25.   23.4  18.9  35.4  24.7  31.6  23.3  19.6\n",
        "  18.7  16.   22.2  25.   33.   23.5  19.4  22.   17.4  20.9  24.2  21.7\n",
        "  22.8  23.4  24.1  21.4  20.   20.8  21.2  20.3  28.   23.9  24.8  22.9\n",
        "  23.9  26.6  22.5  22.2  23.6  28.7  22.6  22.   22.9  25.   20.6  28.4\n",
        "  21.4  38.7  43.8  33.2  27.5  26.5  18.6  19.3  20.1  19.5  19.5  20.4\n",
        "  19.8  19.4  21.7  22.8  18.8  18.7  18.5  18.3  21.2  19.2  20.4  19.3\n",
        "  22.   20.3  20.5  17.3  18.8  21.4  15.7  16.2  18.   14.3  19.2  19.6\n",
        "  23.   18.4  15.6  18.1  17.4  17.1  13.3  17.8  14.   14.4  13.4  15.6\n",
        "  11.8  13.8  15.6  14.6  17.8  15.4  21.5  19.6  15.3  19.4  17.   15.6\n",
        "  13.1  41.3  24.3  23.3  27.   50.   50.   50.   22.7  25.   50.   23.8\n",
        "  23.8  22.3  17.4  19.1  23.1  23.6  22.6  29.4  23.2  24.6  29.9  37.2\n",
        "  39.8  36.2  37.9  32.5  26.4  29.6  50.   32.   29.8  34.9  37.   30.5\n",
        "  36.4  31.1  29.1  50.   33.3  30.3  34.6  34.9  32.9  24.1  42.3  48.5\n",
        "  50.   22.6  24.4  22.5  24.4  20.   21.7  19.3  22.4  28.1  23.7  25.\n",
        "  23.3  28.7  21.5  23.   26.7  21.7  27.5  30.1  44.8  50.   37.6  31.6\n",
        "  46.7  31.5  24.3  31.7  41.7  48.3  29.   24.   25.1  31.5  23.7  23.3\n",
        "  22.   20.1  22.2  23.7  17.6  18.5  24.3  20.5  24.5  26.2  24.4  24.8\n",
        "  29.6  42.8  21.9  20.9  44.   50.   36.   30.1  33.8  43.1  48.8  31.\n",
        "  36.5  22.8  30.7  50.   43.5  20.7  21.1  25.2  24.4  35.2  32.4  32.\n",
        "  33.2  33.1  29.1  35.1  45.4  35.4  46.   50.   32.2  22.   20.1  23.2\n",
        "  22.3  24.8  28.5  37.3  27.9  23.9  21.7  28.6  27.1  20.3  22.5  29.\n",
        "  24.8  22.   26.4  33.1  36.1  28.4  33.4  28.2  22.8  20.3  16.1  22.1\n",
        "  19.4  21.6  23.8  16.2  17.8  19.8  23.1  21.   23.8  23.1  20.4  18.5\n",
        "  25.   24.6  23.   22.2  19.3  22.6  19.8  17.1  19.4  22.2  20.7  21.1\n",
        "  19.5  18.5  20.6  19.   18.7  32.7  16.5  23.9  31.2  17.5  17.2  23.1\n",
        "  24.5  26.6  22.9  24.1  18.6  30.1  18.2  20.6  17.8  21.7  22.7  22.6\n",
        "  25.   19.9  20.8  16.8  21.9  27.5  21.9  23.1  50.   50.   50.   50.\n",
        "  50.   13.8  13.8  15.   13.9  13.3  13.1  10.2  10.4  10.9  11.3  12.3\n",
        "   8.8   7.2  10.5   7.4  10.2  11.5  15.1  23.2   9.7  13.8  12.7  13.1\n",
        "  12.5   8.5   5.    6.3   5.6   7.2  12.1   8.3   8.5   5.   11.9  27.9\n",
        "  17.2  27.5  15.   17.2  17.9  16.3   7.    7.2   7.5  10.4   8.8   8.4\n",
        "  16.7  14.2  20.8  13.4  11.7   8.3  10.2  10.9  11.    9.5  14.5  14.1\n",
        "  16.1  14.3  11.7  13.4   9.6   8.7   8.4  12.8  10.5  17.1  18.4  15.4\n",
        "  10.8  11.8  14.9  12.6  14.1  13.   13.4  15.2  16.1  17.8  14.9  14.1\n",
        "  12.7  13.5  14.9  20.   16.4  17.7  19.5  20.2  21.4  19.9  19.   19.1\n",
        "  19.1  20.1  19.9  19.6  23.2  29.8  13.8  13.3  16.7  12.   14.6  21.4\n",
        "  23.   23.7  25.   21.8  20.6  21.2  19.1  20.6  15.2   7.    8.1  13.6\n",
        "  20.1  21.8  24.5  23.1  19.7  18.3  21.2  17.5  16.8  22.4  20.6  23.9\n",
        "  22.   11.9]\n"
       ]
      }
     ],
     "prompt_number": 6
    },
    {
     "cell_type": "code",
     "collapsed": false,
     "input": [
      "# TODO assign the object's data to a variable called X.\n",
      "# TODO assign the object's targets to a variable called y.\n",
      "X = obj.data\n",
      "y = obj.target"
     ],
     "language": "python",
     "metadata": {},
     "outputs": [],
     "prompt_number": 7
    },
    {
     "cell_type": "code",
     "collapsed": false,
     "input": [
      "# TODO print the types of X and y.\n",
      "print type(X)\n",
      "print type(y)"
     ],
     "language": "python",
     "metadata": {},
     "outputs": [
      {
       "output_type": "stream",
       "stream": "stdout",
       "text": [
        "<type 'numpy.ndarray'>\n",
        "<type 'numpy.ndarray'>\n"
       ]
      }
     ],
     "prompt_number": 8
    },
    {
     "cell_type": "code",
     "collapsed": false,
     "input": [
      "# TODO print the shapes of X and y.\n",
      "print X.shape\n",
      "print y.shape"
     ],
     "language": "python",
     "metadata": {},
     "outputs": [
      {
       "output_type": "stream",
       "stream": "stdout",
       "text": [
        "(506, 13)\n",
        "(506,)\n"
       ]
      }
     ],
     "prompt_number": 9
    },
    {
     "cell_type": "code",
     "collapsed": false,
     "input": [
      "# TODO import the function `train_test_split()` from the `cross_validation` module of scikit-learn.\n",
      "from sklearn.cross_validation import train_test_split"
     ],
     "language": "python",
     "metadata": {},
     "outputs": [],
     "prompt_number": 10
    },
    {
     "cell_type": "code",
     "collapsed": false,
     "input": [
      "# TODO use `train_test_split()` to create separate training and test sets from X and y.\n",
      "X_train, X_test, y_train, y_test = train_test_split(X, y)"
     ],
     "language": "python",
     "metadata": {},
     "outputs": [],
     "prompt_number": 12
    },
    {
     "cell_type": "code",
     "collapsed": false,
     "input": [
      "# TODO print the shapes of the training and test sets for the features and the values of the response variable.\n",
      "# What percent of the total instances were assigned to the test set?\n",
      "print X_train.shape\n",
      "print X_test.shape\n",
      "print y_train.shape\n",
      "print y_test.shape\n",
      "total = (X_train.shape[0] + X_test.shape[0])\n",
      "print 'Percentage in the training set: %.1f%%' % (100.0 * X_train.shape[0] / total)\n",
      "print 'Percentage in the test set: %.1f%%' % (100.0 * X_test.shape[0] / total)"
     ],
     "language": "python",
     "metadata": {},
     "outputs": [
      {
       "output_type": "stream",
       "stream": "stdout",
       "text": [
        "(379, 13)\n",
        "(127, 13)\n",
        "(379,)\n",
        "(127,)\n",
        "Percentage in the training set: 74.9%\n",
        "Percentage in the test set: 25.1%\n"
       ]
      }
     ],
     "prompt_number": 28
    },
    {
     "cell_type": "code",
     "collapsed": false,
     "input": [
      "# TODO import the LinearRegression class from the linear_model module of scikit-learn.\n",
      "from sklearn.linear_model import LinearRegression"
     ],
     "language": "python",
     "metadata": {},
     "outputs": [],
     "prompt_number": 18
    },
    {
     "cell_type": "code",
     "collapsed": false,
     "input": [
      "# TODO create an instance of the LinearRegression class.\n",
      "regressor = LinearRegression()"
     ],
     "language": "python",
     "metadata": {},
     "outputs": [],
     "prompt_number": 19
    },
    {
     "cell_type": "code",
     "collapsed": false,
     "input": [
      "# TODO train the regressor. Recall that an estimator is trained by calling its `fit()` method.\n",
      "# Training the estimator solves, or estimates, the values of its parameters.\n",
      "# Training an instance of LinearRegression means finding the values of the y-intercept and the coefficients of the features.\n",
      "# That is, we are finding the values of the matrix $\\beta$.\n",
      "regressor.fit(X_train, y_train)\n",
      "print regressor.intercept_\n",
      "print regressor.coef_"
     ],
     "language": "python",
     "metadata": {},
     "outputs": [
      {
       "output_type": "stream",
       "stream": "stdout",
       "text": [
        "37.3497692006\n",
        "[ -9.31851582e-02   4.78555475e-02   1.11976377e-02   2.61890092e+00\n",
        "  -1.54017123e+01   3.58461774e+00  -1.94639442e-03  -1.41792748e+00\n",
        "   2.50528718e-01  -1.09386382e-02  -9.69428988e-01   6.76899253e-03\n",
        "  -5.13030376e-01]\n"
       ]
      }
     ],
     "prompt_number": 20
    },
    {
     "cell_type": "code",
     "collapsed": false,
     "input": [
      "# TODO Evalute the performance of the regressor on the test set.\n",
      "score = regressor.score(X_test, y_test)\n",
      "# TODO interpret the score.\n",
      "print '%.2f%% of the variance is explained by the model' % (score * 100)"
     ],
     "language": "python",
     "metadata": {},
     "outputs": [
      {
       "output_type": "stream",
       "stream": "stdout",
       "text": [
        "70.36% of the variance is explained by the model\n"
       ]
      }
     ],
     "prompt_number": 22
    },
    {
     "cell_type": "code",
     "collapsed": false,
     "input": [
      "# TODO predict the values of the response variable for the test set.\n",
      "predictions = regressor.predict(X_test)"
     ],
     "language": "python",
     "metadata": {},
     "outputs": [],
     "prompt_number": 25
    },
    {
     "cell_type": "code",
     "collapsed": false,
     "input": [
      "# Create a `for` loop to compare each prediction to the true price.\n",
      "# Hint: it is easy to iterate over two collections using the same collection with the built-in function `enumerate()`. \n",
      "# See [https://docs.python.org/2/library/functions.html#enumerate](https://docs.python.org/2/library/functions.html#enumerate)\n",
      "for p,y in zip(predictions, y_test):\n",
      "    print p, y"
     ],
     "language": "python",
     "metadata": {},
     "outputs": [
      {
       "output_type": "stream",
       "stream": "stdout",
       "text": [
        "24.5236722332 21.5\n",
        "11.6897765325 16.5\n",
        "22.0570073294 25.0\n",
        "21.2744623179 19.3\n",
        "36.8094261623 42.3\n",
        "15.6708692678 14.9\n",
        "22.1335894513 20.6\n",
        "15.5627103258 18.9\n",
        "36.0898014501 36.0\n",
        "24.8586519663 28.1\n",
        "22.113380523 26.6\n",
        "13.3197912495 9.5\n",
        "15.4094791343 13.1\n",
        "20.9618379995 24.5\n",
        "14.7193356882 10.4\n",
        "18.8457096442 20.6\n",
        "24.1376758035 50.0\n",
        "21.8316734466 20.6\n",
        "20.5455994781 21.8\n",
        "27.4789268736 23.9\n",
        "13.5333002834 13.9\n",
        "19.5445762208 27.9\n",
        "12.4794264653 13.6\n",
        "14.9898364776 11.7\n",
        "22.0692338823 21.4\n",
        "9.52314585401 8.7\n",
        "30.7135413095 35.4\n",
        "20.3473830915 20.4\n",
        "35.4832371581 36.5\n",
        "26.8105815055 22.0\n",
        "20.8792203552 15.3\n",
        "24.6188474614 21.6\n",
        "13.4969897351 13.4\n",
        "25.6161316708 25.0\n",
        "24.2582789241 22.6\n",
        "22.6675553377 21.2\n",
        "18.2311749028 19.5\n",
        "36.9796727868 41.7\n",
        "14.0865510011 19.7\n",
        "14.9687939097 8.4\n",
        "19.4294444472 27.1\n",
        "13.6312748695 13.4\n",
        "33.7335020243 35.4\n",
        "24.7100705489 22.7\n",
        "18.8940066581 19.1\n",
        "36.9863410633 44.0\n",
        "17.0973966525 18.1\n",
        "20.197095458 20.5\n",
        "32.4910864748 27.0\n",
        "16.5733614106 17.5\n",
        "14.8455965587 10.9\n",
        "27.3742015283 25.0\n",
        "21.9697755227 21.7\n",
        "18.512603555 14.6\n",
        "21.8742770711 22.5\n",
        "14.4706234601 15.7\n",
        "36.1434684697 48.3\n",
        "18.0974904599 16.0\n",
        "24.9672581431 25.3\n",
        "22.1337656856 21.7\n",
        "33.0716064806 37.9\n",
        "34.6838676056 46.7\n",
        "27.297122139 36.2\n",
        "18.0241476752 16.1\n",
        "27.6415734579 26.6\n",
        "25.377960795 23.2\n",
        "34.6808531386 30.1\n",
        "19.5128138031 27.5\n",
        "34.6640076762 35.2\n",
        "12.5813781304 10.5\n",
        "20.2824768299 16.8\n",
        "17.2700150172 7.2\n",
        "32.2698815094 33.1\n",
        "17.3481564593 17.4\n",
        "27.3788174667 36.2\n",
        "33.0656279026 32.0\n",
        "17.1687512092 14.3\n",
        "14.0645810949 14.3\n",
        "21.1647006865 21.4\n",
        "17.565065119 15.4\n",
        "17.69348095 12.1\n",
        "29.0959692075 22.5\n",
        "22.0823861293 21.1\n",
        "22.4541958498 22.6\n",
        "32.8156712072 31.6\n",
        "19.4162209568 19.4\n",
        "40.3674644301 48.8\n",
        "18.1667004992 20.8\n",
        "17.060759096 19.4\n",
        "44.0764258207 50.0\n",
        "35.9411988848 33.3\n",
        "16.9800671086 15.6\n",
        "30.3111964474 28.7\n",
        "33.3788443476 50.0\n",
        "17.5309695622 19.9\n",
        "29.2539875544 42.8\n",
        "18.1912930154 19.4\n",
        "18.1949343581 18.4\n",
        "21.3592857044 16.1\n",
        "24.9255082974 24.7\n",
        "11.3465846926 23.7\n",
        "14.7491418249 14.8\n",
        "16.6538509424 10.2\n",
        "15.2835778512 13.4\n",
        "30.5190321336 24.8\n",
        "41.0211023041 50.0\n",
        "24.4088583944 23.1\n",
        "-2.9600306839 7.0\n",
        "16.717996988 15.1\n",
        "9.07839816865 14.4\n",
        "16.0069528403 15.0\n",
        "18.9177005664 18.9\n",
        "23.3455102335 23.0\n",
        "25.1798211082 21.6\n",
        "24.7970168699 24.2\n",
        "23.1235505933 50.0\n",
        "20.1762928069 18.6\n",
        "24.3551710554 24.7\n",
        "19.0506622291 18.2\n",
        "31.613511398 31.6\n",
        "23.8405193858 24.4\n",
        "21.1301645865 21.2\n",
        "10.542550689 8.3\n",
        "22.5187413355 20.4\n",
        "28.3898750195 31.2\n",
        "27.4267419713 24.5\n",
        "20.9382989717 21.2\n"
       ]
      }
     ],
     "prompt_number": 24
    }
   ],
   "metadata": {}
  }
 ]
}