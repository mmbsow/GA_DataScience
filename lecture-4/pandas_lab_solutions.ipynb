{
 "metadata": {
  "css": [
   ""
  ],
  "name": "pandas_lab_solutions",
  "signature": "sha256:c5d0784f9fa6695cb269d34cd050a671f49bf57162c8aeeb8dff1df682442296"
 },
 "nbformat": 3,
 "nbformat_minor": 0,
 "worksheets": [
  {
   "cells": [
    {
     "cell_type": "markdown",
     "metadata": {},
     "source": "# Solutions to Lab 3"
    },
    {
     "cell_type": "markdown",
     "metadata": {},
     "source": "## Lab 3a Solution"
    },
    {
     "cell_type": "markdown",
     "metadata": {},
     "source": "This is a quiz given in Roger Peng [Coursera](https://www.coursera.org) class [Computing for Data Analysis](https://www.coursera.org/course/compdata).\n\n"
    },
    {
     "cell_type": "code",
     "collapsed": false,
     "input": "import pandas as pd\nimport os\n\ndata = pd.read_csv(os.path.join('data', 'ozone.csv'))",
     "language": "python",
     "metadata": {},
     "outputs": [],
     "prompt_number": 1
    },
    {
     "cell_type": "code",
     "collapsed": false,
     "input": "print data.head()",
     "language": "python",
     "metadata": {},
     "outputs": [
      {
       "output_type": "stream",
       "stream": "stdout",
       "text": "   Ozone  Solar.R  Wind  Temp  Month  Day\n0     41      190   7.4    67      5    1\n1     36      118   8.0    72      5    2\n2     12      149  12.6    74      5    3\n3     18      313  11.5    62      5    4\n4    NaN      NaN  14.3    56      5    5\n"
      }
     ],
     "prompt_number": 2
    },
    {
     "cell_type": "markdown",
     "metadata": {},
     "source": "Print the column names of the dataset to the screen, one column name per line.  "
    },
    {
     "cell_type": "code",
     "collapsed": false,
     "input": "for x in data.columns.values:\n    print x",
     "language": "python",
     "metadata": {},
     "outputs": [
      {
       "output_type": "stream",
       "stream": "stdout",
       "text": "Ozone\nSolar.R\nWind\nTemp\nMonth\nDay\n"
      }
     ],
     "prompt_number": 3
    },
    {
     "cell_type": "markdown",
     "metadata": {},
     "source": "Extract the first 2 rows of the data frame and print them to the console. What does the output\nlook like?"
    },
    {
     "cell_type": "code",
     "collapsed": false,
     "input": "tmp = data.ix[0:1] # or data.head(2)\nprint tmp.head()",
     "language": "python",
     "metadata": {},
     "outputs": [
      {
       "output_type": "stream",
       "stream": "stdout",
       "text": "   Ozone  Solar.R  Wind  Temp  Month  Day\n0     41      190   7.4    67      5    1\n1     36      118   8.0    72      5    2\n"
      }
     ],
     "prompt_number": 4
    },
    {
     "cell_type": "markdown",
     "metadata": {},
     "source": "How many observations (i.e. rows) are in this data frame?"
    },
    {
     "cell_type": "code",
     "collapsed": false,
     "input": "print len(data)",
     "language": "python",
     "metadata": {},
     "outputs": [
      {
       "output_type": "stream",
       "stream": "stdout",
       "text": "153\n"
      }
     ],
     "prompt_number": 5
    },
    {
     "cell_type": "markdown",
     "metadata": {},
     "source": "Extract the last 2 rows of the data frame and print them to the console. What does the output\nlook like?"
    },
    {
     "cell_type": "code",
     "collapsed": false,
     "input": "tmp = data.tail(2)\nprint tmp.head()",
     "language": "python",
     "metadata": {},
     "outputs": [
      {
       "output_type": "stream",
       "stream": "stdout",
       "text": "     Ozone  Solar.R  Wind  Temp  Month  Day\n151     18      131   8.0    76      9   29\n152     20      223  11.5    68      9   30\n"
      }
     ],
     "prompt_number": 6
    },
    {
     "cell_type": "markdown",
     "metadata": {},
     "source": "What is the value of Ozone in the 47th row?"
    },
    {
     "cell_type": "code",
     "collapsed": false,
     "input": "print data.ix[46:48,]",
     "language": "python",
     "metadata": {},
     "outputs": [
      {
       "output_type": "stream",
       "stream": "stdout",
       "text": "    Ozone  Solar.R  Wind  Temp  Month  Day\n46     21      191  14.9    77      6   16\n47     37      284  20.7    72      6   17\n48     20       37   9.2    65      6   18\n"
      }
     ],
     "prompt_number": 7
    },
    {
     "cell_type": "markdown",
     "metadata": {},
     "source": "How many missing values are in the Ozone column of this data frame?"
    },
    {
     "cell_type": "code",
     "collapsed": false,
     "input": "print data['Ozone'].isnull().sum()\nprint len(data) - len(data['Ozone'].dropna())",
     "language": "python",
     "metadata": {},
     "outputs": [
      {
       "output_type": "stream",
       "stream": "stdout",
       "text": "37\n37\n"
      }
     ],
     "prompt_number": 8
    },
    {
     "cell_type": "markdown",
     "metadata": {},
     "source": "What is the mean of the Ozone column in this dataset? Exclude missing values (coded as NA)\nfrom this calculation."
    },
    {
     "cell_type": "code",
     "collapsed": false,
     "input": "print data['Ozone'].mean()",
     "language": "python",
     "metadata": {},
     "outputs": [
      {
       "output_type": "stream",
       "stream": "stdout",
       "text": "42.1293103448\n"
      }
     ],
     "prompt_number": 9
    },
    {
     "cell_type": "markdown",
     "metadata": {},
     "source": "Extract the subset of rows of the data frame where Ozone values are above 31 and Temp values\nare above 90. What is the mean of Solar.R in this subset?"
    },
    {
     "cell_type": "code",
     "collapsed": false,
     "input": "print data[(data.Ozone > 31) & (data.Temp > 90)].head()",
     "language": "python",
     "metadata": {},
     "outputs": [
      {
       "output_type": "stream",
       "stream": "stdout",
       "text": "     Ozone  Solar.R  Wind  Temp  Month  Day\n68      97      267   6.3    92      7    8\n69      97      272   5.7    92      7    9\n119     76      203   9.7    97      8   28\n120    118      225   2.3    94      8   29\n121     84      237   6.3    96      8   30\n"
      }
     ],
     "prompt_number": 10
    },
    {
     "cell_type": "code",
     "collapsed": false,
     "input": "print data[(data.Ozone > 31) & (data.Temp > 90)]['Solar.R'].mean()",
     "language": "python",
     "metadata": {},
     "outputs": [
      {
       "output_type": "stream",
       "stream": "stdout",
       "text": "212.8\n"
      }
     ],
     "prompt_number": 11
    },
    {
     "cell_type": "markdown",
     "metadata": {},
     "source": "What is the mean of \"Temp\" when \"Month\" is equal to 6?"
    },
    {
     "cell_type": "code",
     "collapsed": false,
     "input": "print data[ data.Month==6 ].Temp.mean()\nprint data[ data.Month==6 ]['Temp'].mean()",
     "language": "python",
     "metadata": {},
     "outputs": [
      {
       "output_type": "stream",
       "stream": "stdout",
       "text": "79.1\n79.1\n"
      }
     ],
     "prompt_number": 12
    },
    {
     "cell_type": "markdown",
     "metadata": {},
     "source": "What was the maximum ozone value in the month of May (i.e. Month = 5)?"
    },
    {
     "cell_type": "code",
     "collapsed": false,
     "input": "print data[ data.Month==5 ].Ozone.max()",
     "language": "python",
     "metadata": {},
     "outputs": [
      {
       "output_type": "stream",
       "stream": "stdout",
       "text": "115.0\n"
      }
     ],
     "prompt_number": 13
    },
    {
     "cell_type": "markdown",
     "metadata": {},
     "source": "## Lab 3b Solution:"
    },
    {
     "cell_type": "code",
     "collapsed": false,
     "input": "import pandas as pd\ndf = pd.read_csv('./data/titanic.csv')\nprint len(df)",
     "language": "python",
     "metadata": {},
     "outputs": [
      {
       "output_type": "stream",
       "stream": "stdout",
       "text": "891\n"
      }
     ],
     "prompt_number": 9
    },
    {
     "cell_type": "code",
     "collapsed": false,
     "input": "### What percent of the people survied?\n\ndf[df.survived == 1].sum() / len(df) * 100",
     "language": "python",
     "metadata": {},
     "outputs": [
      {
       "metadata": {},
       "output_type": "pyout",
       "prompt_number": 10,
       "text": "survived      38.383838\npclass        74.859708\nage          922.521886\nsibsp         18.181818\nparch         17.845118\nfare        1857.601504\ndtype: float64"
      }
     ],
     "prompt_number": 10
    },
    {
     "cell_type": "code",
     "collapsed": false,
     "input": "from collections import defaultdict\n\ndef titanic_function(data):\n    tmp = defaultdict(int)\n    for d in data:\n        try:\n            if int(d[0]) == 1:\n                tmp['survived'] += 1\n            else:\n                tmp['not survived'] += 1\n        except ValueError:\n                tmp['unknown'] += 1\n    return tmp\n\nprint titanic_function(data)",
     "language": "python",
     "metadata": {},
     "outputs": [
      {
       "output_type": "stream",
       "stream": "stdout",
       "text": "defaultdict(<type 'int'>, {'unknown': 1, 'survived': 342, 'not survived': 549})\n"
      }
     ],
     "prompt_number": 13
    },
    {
     "cell_type": "code",
     "collapsed": false,
     "input": "###What percent of males survived? Females?\nfrom __future__ import division\nprint len(a[ (a.sex == 'male') & (a.survived == 1) ]) / len(a[a.sex == 'male']) * 100\nprint len(a[ (a.sex == 'female') & (a.survived == 1) ]) / len(a[a.sex == 'female']) * 100",
     "language": "python",
     "metadata": {},
     "outputs": [
      {
       "output_type": "stream",
       "stream": "stdout",
       "text": "18.8908145581\n74.2038216561\n"
      }
     ],
     "prompt_number": 16
    },
    {
     "cell_type": "code",
     "collapsed": false,
     "input": "",
     "language": "python",
     "metadata": {},
     "outputs": []
    }
   ],
   "metadata": {}
  }
 ]
}