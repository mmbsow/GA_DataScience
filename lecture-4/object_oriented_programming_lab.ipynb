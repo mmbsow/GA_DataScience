{
 "metadata": {
  "name": "",
  "signature": "sha256:087f68c7797d96f29ebf40003d91fc19215f9a286dbc9c9f25256b8d91e8e7e6"
 },
 "nbformat": 3,
 "nbformat_minor": 0,
 "worksheets": [
  {
   "cells": [
    {
     "cell_type": "markdown",
     "metadata": {
      "slideshow": {
       "slide_type": "skip"
      }
     },
     "source": [
      "# Object-Oriented Programming\n",
      "\n",
      "## Terms\n",
      "\n",
      "* Class\n",
      "* Object\n",
      "* Instance\n",
      "* Subclass\n",
      "* Method / function\n",
      "* Inheritance\n",
      "* Abstraction\n",
      "* Hierarchy\n",
      "* Model\n",
      "* DRY\n",
      "* type"
     ]
    },
    {
     "cell_type": "markdown",
     "metadata": {
      "slideshow": {
       "slide_type": "slide"
      }
     },
     "source": [
      "## Motivation\n",
      "\n",
      "1. Building a system (like a car, a website, or a database) is hard, so we often break the task into smaller pieces. \n",
      "2. We should avoid repeating previous work for two reasons. First, we are lazy. Second, having multiple versions of something in the same system increases the likelihood that we will make a mistake. This is known as the  **DRY principle**, or the \"don't repeat yourself\" principle.\n",
      "\n",
      "**Object-oriented programming** (OOP) is a paradigm for thinking about how to break systems into smaller pieces."
     ]
    },
    {
     "cell_type": "markdown",
     "metadata": {
      "slideshow": {
       "slide_type": "slide"
      }
     },
     "source": [
      "## Definitions\n",
      "\n",
      "* **Class** - a definition or a type of object.\n",
      "* **Object** - a specific instance of a class.\n",
      "\n",
      "All objects of the same class have the same set of attributes (properties) and methods (behaviors), though not necessarily the same values.\n",
      "\n",
      "For example, every instance of the Student class has a name and a GPA. Particular students, or instances of the student class, may have different names and GPAs.\n",
      "\n",
      "A **class** is a description, an **object** is a specific version of the description.\n",
      "\n",
      "When you create an **object**, you are **initializing** or **instantiating** a class. That **object**'s **type** is the class.\n",
      "\n",
      "* **Subclass** - a class that **inherits** from another class. It adds things to an already-created class. It is of **type** itself and it's superclass. \n",
      "* **Superclass** - the class that a subclass inherits from\n",
      "\n",
      "A subclass has all the variables and methods from the superclass"
     ]
    },
    {
     "cell_type": "markdown",
     "metadata": {
      "slideshow": {
       "slide_type": "slide"
      }
     },
     "source": [
      "## Classes in Python"
     ]
    },
    {
     "cell_type": "code",
     "collapsed": false,
     "input": [
      "class Student(object):\n",
      "    def __init__(self, name, gpa=4.0):\n",
      "        self.name = name\n",
      "        self.gpa = gpa\n",
      "    \n",
      "    def is_on_honor_roll(self):\n",
      "        if self.gpa >= 3.0:\n",
      "            return True\n",
      "        return False"
     ],
     "language": "python",
     "metadata": {
      "slideshow": {
       "slide_type": "fragment"
      }
     },
     "outputs": [],
     "prompt_number": 1
    },
    {
     "cell_type": "markdown",
     "metadata": {
      "slideshow": {
       "slide_type": "slide"
      }
     },
     "source": [
      "* In Python, every class is a subclass of the master class **object**\n",
      "* By convention, Python class names should be `CamelCase` and method names should be `names_with_underscores_for_spaces`"
     ]
    },
    {
     "cell_type": "code",
     "collapsed": false,
     "input": [
      "student_1 = Student(\"Bob\")\n",
      "print student_1.name\n",
      "print student_1.gpa\n",
      "print student_1.is_on_honor_roll()\n",
      "student_1.gpa = 2.0\n",
      "print student_1.is_on_honor_roll()"
     ],
     "language": "python",
     "metadata": {
      "slideshow": {
       "slide_type": "skip"
      }
     },
     "outputs": [
      {
       "output_type": "stream",
       "stream": "stdout",
       "text": [
        "Bob\n",
        "4.0\n",
        "True\n",
        "False\n"
       ]
      }
     ],
     "prompt_number": 2
    },
    {
     "cell_type": "markdown",
     "metadata": {
      "slideshow": {
       "slide_type": "slide"
      }
     },
     "source": [
      "## Subclasses in Python"
     ]
    },
    {
     "cell_type": "code",
     "collapsed": false,
     "input": [
      "class UniversityStudent(Student):\n",
      "    def __init__(self, name, university, gpa=4.0):\n",
      "        super(UniversityStudent, self).__init__(name, gpa)\n",
      "        self.university = university"
     ],
     "language": "python",
     "metadata": {
      "slideshow": {
       "slide_type": "fragment"
      }
     },
     "outputs": [],
     "prompt_number": 3
    },
    {
     "cell_type": "code",
     "collapsed": false,
     "input": [
      "student_2 = UniversityStudent(\"Jane\", \"MIT\")\n",
      "print student_2.name\n",
      "print student_2.university\n",
      "print isinstance(student_1, UniversityStudent)\n",
      "print isinstance(student_1, Student)\n",
      "print isinstance(student_2, UniversityStudent)\n",
      "print isinstance(student_2, Student)\n",
      "type(student_2)"
     ],
     "language": "python",
     "metadata": {
      "slideshow": {
       "slide_type": "subslide"
      }
     },
     "outputs": [
      {
       "output_type": "stream",
       "stream": "stdout",
       "text": [
        "Jane\n",
        "MIT\n",
        "False\n",
        "True\n",
        "True\n",
        "True\n"
       ]
      },
      {
       "metadata": {},
       "output_type": "pyout",
       "prompt_number": 4,
       "text": [
        "__main__.UniversityStudent"
       ]
      }
     ],
     "prompt_number": 4
    },
    {
     "cell_type": "code",
     "collapsed": false,
     "input": [
      "# TODO create a new Student who is not on honor roll.\n",
      "student_3 = Student(\"Ann\", 2.5)\n",
      "print student_3.is_on_honor_roll()"
     ],
     "language": "python",
     "metadata": {},
     "outputs": [
      {
       "output_type": "stream",
       "stream": "stdout",
       "text": [
        "False\n"
       ]
      }
     ],
     "prompt_number": 5
    },
    {
     "cell_type": "code",
     "collapsed": false,
     "input": [
      "# TODO create a new UniversityStudent who is on honor roll and who attends NYU.\n",
      "student_4 = UniversityStudent(\"Carl\", \"NYU\", 3.5)\n",
      "print student_4.is_on_honor_roll()"
     ],
     "language": "python",
     "metadata": {},
     "outputs": [
      {
       "output_type": "stream",
       "stream": "stdout",
       "text": [
        "True\n"
       ]
      }
     ],
     "prompt_number": 6
    },
    {
     "cell_type": "code",
     "collapsed": false,
     "input": [],
     "language": "python",
     "metadata": {},
     "outputs": []
    }
   ],
   "metadata": {}
  }
 ]
}