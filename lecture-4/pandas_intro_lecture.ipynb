{
 "metadata": {
  "name": "",
  "signature": "sha256:87f8939d2dc640846549e179e71191f2faa208940102910b4111e1d0dadd1fe1"
 },
 "nbformat": 3,
 "nbformat_minor": 0,
 "worksheets": [
  {
   "cells": [
    {
     "cell_type": "markdown",
     "metadata": {},
     "source": [
      "# Introduction to pandas\n",
      "\n",
      "* Object Creation\n",
      "* Viewing data\n",
      "* Selection\n",
      "* Missing data\n",
      "* Grouping\n",
      "* i/o\n",
      " \n",
      "_pandas.pydata.org_"
     ]
    },
    {
     "cell_type": "code",
     "collapsed": false,
     "input": [
      "import pandas as pd\n",
      "import numpy as np\n",
      "import matplotlib.pyplot as plt"
     ],
     "language": "python",
     "metadata": {
      "slideshow": {
       "slide_type": "subslide"
      }
     },
     "outputs": [],
     "prompt_number": 1
    },
    {
     "cell_type": "markdown",
     "metadata": {},
     "source": [
      "## Dataframes\n",
      "\n",
      "Two-dimensional size-mutable, potentially heterogeneous tabular data structure with labeled axes (rows and columns). Arithmetic operations align on both row and column labels. Can be thought of as a dict-like container for Series objects. The primary pandas data structure."
     ]
    },
    {
     "cell_type": "code",
     "collapsed": false,
     "input": [
      "dates = pd.date_range('20140814',periods=6)\n",
      "dates"
     ],
     "language": "python",
     "metadata": {
      "slideshow": {
       "slide_type": "subslide"
      }
     },
     "outputs": [
      {
       "metadata": {},
       "output_type": "pyout",
       "prompt_number": 2,
       "text": [
        "<class 'pandas.tseries.index.DatetimeIndex'>\n",
        "[2014-08-14, ..., 2014-08-19]\n",
        "Length: 6, Freq: D, Timezone: None"
       ]
      }
     ],
     "prompt_number": 2
    },
    {
     "cell_type": "code",
     "collapsed": false,
     "input": [
      "df = pd.DataFrame(np.random.randn(6,4),index=dates,columns=list('ABCD'))"
     ],
     "language": "python",
     "metadata": {
      "slideshow": {
       "slide_type": "subslide"
      }
     },
     "outputs": [],
     "prompt_number": 3
    },
    {
     "cell_type": "code",
     "collapsed": false,
     "input": [
      "# Index, columns, underlying numpy data\n",
      "df"
     ],
     "language": "python",
     "metadata": {
      "slideshow": {
       "slide_type": "subslide"
      }
     },
     "outputs": [
      {
       "html": [
        "<div style=\"max-height:1000px;max-width:1500px;overflow:auto;\">\n",
        "<table border=\"1\" class=\"dataframe\">\n",
        "  <thead>\n",
        "    <tr style=\"text-align: right;\">\n",
        "      <th></th>\n",
        "      <th>A</th>\n",
        "      <th>B</th>\n",
        "      <th>C</th>\n",
        "      <th>D</th>\n",
        "    </tr>\n",
        "  </thead>\n",
        "  <tbody>\n",
        "    <tr>\n",
        "      <th>2014-08-14</th>\n",
        "      <td> 0.581911</td>\n",
        "      <td> 0.716929</td>\n",
        "      <td> 1.072134</td>\n",
        "      <td> 0.501621</td>\n",
        "    </tr>\n",
        "    <tr>\n",
        "      <th>2014-08-15</th>\n",
        "      <td> 0.690809</td>\n",
        "      <td> 0.111880</td>\n",
        "      <td>-1.294641</td>\n",
        "      <td> 0.944500</td>\n",
        "    </tr>\n",
        "    <tr>\n",
        "      <th>2014-08-16</th>\n",
        "      <td> 1.548389</td>\n",
        "      <td>-1.458131</td>\n",
        "      <td>-0.894669</td>\n",
        "      <td> 0.473547</td>\n",
        "    </tr>\n",
        "    <tr>\n",
        "      <th>2014-08-17</th>\n",
        "      <td> 0.236776</td>\n",
        "      <td> 1.173872</td>\n",
        "      <td> 0.007240</td>\n",
        "      <td>-1.435798</td>\n",
        "    </tr>\n",
        "    <tr>\n",
        "      <th>2014-08-18</th>\n",
        "      <td> 0.545466</td>\n",
        "      <td>-0.320988</td>\n",
        "      <td> 0.607325</td>\n",
        "      <td>-1.313921</td>\n",
        "    </tr>\n",
        "    <tr>\n",
        "      <th>2014-08-19</th>\n",
        "      <td> 0.611391</td>\n",
        "      <td>-0.144911</td>\n",
        "      <td> 0.011954</td>\n",
        "      <td> 0.755417</td>\n",
        "    </tr>\n",
        "  </tbody>\n",
        "</table>\n",
        "</div>"
       ],
       "metadata": {},
       "output_type": "pyout",
       "prompt_number": 4,
       "text": [
        "                   A         B         C         D\n",
        "2014-08-14  0.581911  0.716929  1.072134  0.501621\n",
        "2014-08-15  0.690809  0.111880 -1.294641  0.944500\n",
        "2014-08-16  1.548389 -1.458131 -0.894669  0.473547\n",
        "2014-08-17  0.236776  1.173872  0.007240 -1.435798\n",
        "2014-08-18  0.545466 -0.320988  0.607325 -1.313921\n",
        "2014-08-19  0.611391 -0.144911  0.011954  0.755417"
       ]
      }
     ],
     "prompt_number": 4
    },
    {
     "cell_type": "code",
     "collapsed": false,
     "input": [
      "df2 = pd.DataFrame({ 'A' : 1., # constant 1\n",
      "                         'B' : pd.Timestamp('20130102'), # constant timestamp\n",
      "                         'C' : pd.Series(1,index=list(range(5)),dtype='float32'), # series with constant 1 and length 4\n",
      "                         'D' : np.array([3] * 5,dtype='int32'), # array with constant 3\n",
      "                         'E' : 'foo' }) # constant string\n",
      "    \n",
      "\n",
      "df2"
     ],
     "language": "python",
     "metadata": {
      "slideshow": {
       "slide_type": "subslide"
      }
     },
     "outputs": [
      {
       "html": [
        "<div style=\"max-height:1000px;max-width:1500px;overflow:auto;\">\n",
        "<table border=\"1\" class=\"dataframe\">\n",
        "  <thead>\n",
        "    <tr style=\"text-align: right;\">\n",
        "      <th></th>\n",
        "      <th>A</th>\n",
        "      <th>B</th>\n",
        "      <th>C</th>\n",
        "      <th>D</th>\n",
        "      <th>E</th>\n",
        "    </tr>\n",
        "  </thead>\n",
        "  <tbody>\n",
        "    <tr>\n",
        "      <th>0</th>\n",
        "      <td> 1</td>\n",
        "      <td>2013-01-02</td>\n",
        "      <td> 1</td>\n",
        "      <td> 3</td>\n",
        "      <td> foo</td>\n",
        "    </tr>\n",
        "    <tr>\n",
        "      <th>1</th>\n",
        "      <td> 1</td>\n",
        "      <td>2013-01-02</td>\n",
        "      <td> 1</td>\n",
        "      <td> 3</td>\n",
        "      <td> foo</td>\n",
        "    </tr>\n",
        "    <tr>\n",
        "      <th>2</th>\n",
        "      <td> 1</td>\n",
        "      <td>2013-01-02</td>\n",
        "      <td> 1</td>\n",
        "      <td> 3</td>\n",
        "      <td> foo</td>\n",
        "    </tr>\n",
        "    <tr>\n",
        "      <th>3</th>\n",
        "      <td> 1</td>\n",
        "      <td>2013-01-02</td>\n",
        "      <td> 1</td>\n",
        "      <td> 3</td>\n",
        "      <td> foo</td>\n",
        "    </tr>\n",
        "    <tr>\n",
        "      <th>4</th>\n",
        "      <td> 1</td>\n",
        "      <td>2013-01-02</td>\n",
        "      <td> 1</td>\n",
        "      <td> 3</td>\n",
        "      <td> foo</td>\n",
        "    </tr>\n",
        "  </tbody>\n",
        "</table>\n",
        "</div>"
       ],
       "metadata": {},
       "output_type": "pyout",
       "prompt_number": 10,
       "text": [
        "   A          B  C  D    E\n",
        "0  1 2013-01-02  1  3  foo\n",
        "1  1 2013-01-02  1  3  foo\n",
        "2  1 2013-01-02  1  3  foo\n",
        "3  1 2013-01-02  1  3  foo\n",
        "4  1 2013-01-02  1  3  foo"
       ]
      }
     ],
     "prompt_number": 10
    },
    {
     "cell_type": "code",
     "collapsed": false,
     "input": [
      "# With specific dtypes\n",
      "df2.dtypes"
     ],
     "language": "python",
     "metadata": {
      "slideshow": {
       "slide_type": "subslide"
      }
     },
     "outputs": [
      {
       "metadata": {},
       "output_type": "pyout",
       "prompt_number": 11,
       "text": [
        "A           float64\n",
        "B    datetime64[ns]\n",
        "C           float32\n",
        "D             int32\n",
        "E            object\n",
        "dtype: object"
       ]
      }
     ],
     "prompt_number": 11
    },
    {
     "cell_type": "markdown",
     "metadata": {
      "slideshow": {
       "slide_type": "slide"
      }
     },
     "source": [
      "#### Viewing Data"
     ]
    },
    {
     "cell_type": "code",
     "collapsed": false,
     "input": [
      "df.head(2)"
     ],
     "language": "python",
     "metadata": {
      "slideshow": {
       "slide_type": "subslide"
      }
     },
     "outputs": [
      {
       "html": [
        "<div style=\"max-height:1000px;max-width:1500px;overflow:auto;\">\n",
        "<table border=\"1\" class=\"dataframe\">\n",
        "  <thead>\n",
        "    <tr style=\"text-align: right;\">\n",
        "      <th></th>\n",
        "      <th>A</th>\n",
        "      <th>B</th>\n",
        "      <th>C</th>\n",
        "      <th>D</th>\n",
        "    </tr>\n",
        "  </thead>\n",
        "  <tbody>\n",
        "    <tr>\n",
        "      <th>2014-08-14</th>\n",
        "      <td> 0.581911</td>\n",
        "      <td> 0.716929</td>\n",
        "      <td> 1.072134</td>\n",
        "      <td> 0.501621</td>\n",
        "    </tr>\n",
        "    <tr>\n",
        "      <th>2014-08-15</th>\n",
        "      <td> 0.690809</td>\n",
        "      <td> 0.111880</td>\n",
        "      <td>-1.294641</td>\n",
        "      <td> 0.944500</td>\n",
        "    </tr>\n",
        "  </tbody>\n",
        "</table>\n",
        "</div>"
       ],
       "metadata": {},
       "output_type": "pyout",
       "prompt_number": 12,
       "text": [
        "                   A         B         C         D\n",
        "2014-08-14  0.581911  0.716929  1.072134  0.501621\n",
        "2014-08-15  0.690809  0.111880 -1.294641  0.944500"
       ]
      }
     ],
     "prompt_number": 12
    },
    {
     "cell_type": "code",
     "collapsed": false,
     "input": [
      "df.tail(1)"
     ],
     "language": "python",
     "metadata": {
      "slideshow": {
       "slide_type": "fragment"
      }
     },
     "outputs": [
      {
       "html": [
        "<div style=\"max-height:1000px;max-width:1500px;overflow:auto;\">\n",
        "<table border=\"1\" class=\"dataframe\">\n",
        "  <thead>\n",
        "    <tr style=\"text-align: right;\">\n",
        "      <th></th>\n",
        "      <th>A</th>\n",
        "      <th>B</th>\n",
        "      <th>C</th>\n",
        "      <th>D</th>\n",
        "    </tr>\n",
        "  </thead>\n",
        "  <tbody>\n",
        "    <tr>\n",
        "      <th>2014-08-19</th>\n",
        "      <td> 0.611391</td>\n",
        "      <td>-0.144911</td>\n",
        "      <td> 0.011954</td>\n",
        "      <td> 0.755417</td>\n",
        "    </tr>\n",
        "  </tbody>\n",
        "</table>\n",
        "</div>"
       ],
       "metadata": {},
       "output_type": "pyout",
       "prompt_number": 13,
       "text": [
        "                   A         B         C         D\n",
        "2014-08-19  0.611391 -0.144911  0.011954  0.755417"
       ]
      }
     ],
     "prompt_number": 13
    },
    {
     "cell_type": "code",
     "collapsed": false,
     "input": [
      "df.index"
     ],
     "language": "python",
     "metadata": {
      "slideshow": {
       "slide_type": "subslide"
      }
     },
     "outputs": [
      {
       "metadata": {},
       "output_type": "pyout",
       "prompt_number": 14,
       "text": [
        "<class 'pandas.tseries.index.DatetimeIndex'>\n",
        "[2014-08-14, ..., 2014-08-19]\n",
        "Length: 6, Freq: D, Timezone: None"
       ]
      }
     ],
     "prompt_number": 14
    },
    {
     "cell_type": "code",
     "collapsed": false,
     "input": [
      "df.describe()"
     ],
     "language": "python",
     "metadata": {
      "slideshow": {
       "slide_type": "subslide"
      }
     },
     "outputs": [
      {
       "html": [
        "<div style=\"max-height:1000px;max-width:1500px;overflow:auto;\">\n",
        "<table border=\"1\" class=\"dataframe\">\n",
        "  <thead>\n",
        "    <tr style=\"text-align: right;\">\n",
        "      <th></th>\n",
        "      <th>A</th>\n",
        "      <th>B</th>\n",
        "      <th>C</th>\n",
        "      <th>D</th>\n",
        "    </tr>\n",
        "  </thead>\n",
        "  <tbody>\n",
        "    <tr>\n",
        "      <th>count</th>\n",
        "      <td> 6.000000</td>\n",
        "      <td> 6.000000</td>\n",
        "      <td> 6.000000</td>\n",
        "      <td> 6.000000</td>\n",
        "    </tr>\n",
        "    <tr>\n",
        "      <th>mean</th>\n",
        "      <td> 0.702457</td>\n",
        "      <td> 0.013108</td>\n",
        "      <td>-0.081776</td>\n",
        "      <td>-0.012439</td>\n",
        "    </tr>\n",
        "    <tr>\n",
        "      <th>std</th>\n",
        "      <td> 0.442734</td>\n",
        "      <td> 0.911441</td>\n",
        "      <td> 0.889372</td>\n",
        "      <td> 1.070101</td>\n",
        "    </tr>\n",
        "    <tr>\n",
        "      <th>min</th>\n",
        "      <td> 0.236776</td>\n",
        "      <td>-1.458131</td>\n",
        "      <td>-1.294641</td>\n",
        "      <td>-1.435798</td>\n",
        "    </tr>\n",
        "    <tr>\n",
        "      <th>25%</th>\n",
        "      <td> 0.554577</td>\n",
        "      <td>-0.276969</td>\n",
        "      <td>-0.669192</td>\n",
        "      <td>-0.867054</td>\n",
        "    </tr>\n",
        "    <tr>\n",
        "      <th>50%</th>\n",
        "      <td> 0.596651</td>\n",
        "      <td>-0.016516</td>\n",
        "      <td> 0.009597</td>\n",
        "      <td> 0.487584</td>\n",
        "    </tr>\n",
        "    <tr>\n",
        "      <th>75%</th>\n",
        "      <td> 0.670955</td>\n",
        "      <td> 0.565666</td>\n",
        "      <td> 0.458483</td>\n",
        "      <td> 0.691968</td>\n",
        "    </tr>\n",
        "    <tr>\n",
        "      <th>max</th>\n",
        "      <td> 1.548389</td>\n",
        "      <td> 1.173872</td>\n",
        "      <td> 1.072134</td>\n",
        "      <td> 0.944500</td>\n",
        "    </tr>\n",
        "  </tbody>\n",
        "</table>\n",
        "</div>"
       ],
       "metadata": {},
       "output_type": "pyout",
       "prompt_number": 16,
       "text": [
        "              A         B         C         D\n",
        "count  6.000000  6.000000  6.000000  6.000000\n",
        "mean   0.702457  0.013108 -0.081776 -0.012439\n",
        "std    0.442734  0.911441  0.889372  1.070101\n",
        "min    0.236776 -1.458131 -1.294641 -1.435798\n",
        "25%    0.554577 -0.276969 -0.669192 -0.867054\n",
        "50%    0.596651 -0.016516  0.009597  0.487584\n",
        "75%    0.670955  0.565666  0.458483  0.691968\n",
        "max    1.548389  1.173872  1.072134  0.944500"
       ]
      }
     ],
     "prompt_number": 16
    },
    {
     "cell_type": "code",
     "collapsed": false,
     "input": [
      "df.sort(columns=['A','B'])"
     ],
     "language": "python",
     "metadata": {
      "slideshow": {
       "slide_type": "subslide"
      }
     },
     "outputs": [
      {
       "html": [
        "<div style=\"max-height:1000px;max-width:1500px;overflow:auto;\">\n",
        "<table border=\"1\" class=\"dataframe\">\n",
        "  <thead>\n",
        "    <tr style=\"text-align: right;\">\n",
        "      <th></th>\n",
        "      <th>A</th>\n",
        "      <th>B</th>\n",
        "      <th>C</th>\n",
        "      <th>D</th>\n",
        "    </tr>\n",
        "  </thead>\n",
        "  <tbody>\n",
        "    <tr>\n",
        "      <th>2014-08-17</th>\n",
        "      <td> 0.236776</td>\n",
        "      <td> 1.173872</td>\n",
        "      <td> 0.007240</td>\n",
        "      <td>-1.435798</td>\n",
        "    </tr>\n",
        "    <tr>\n",
        "      <th>2014-08-18</th>\n",
        "      <td> 0.545466</td>\n",
        "      <td>-0.320988</td>\n",
        "      <td> 0.607325</td>\n",
        "      <td>-1.313921</td>\n",
        "    </tr>\n",
        "    <tr>\n",
        "      <th>2014-08-14</th>\n",
        "      <td> 0.581911</td>\n",
        "      <td> 0.716929</td>\n",
        "      <td> 1.072134</td>\n",
        "      <td> 0.501621</td>\n",
        "    </tr>\n",
        "    <tr>\n",
        "      <th>2014-08-19</th>\n",
        "      <td> 0.611391</td>\n",
        "      <td>-0.144911</td>\n",
        "      <td> 0.011954</td>\n",
        "      <td> 0.755417</td>\n",
        "    </tr>\n",
        "    <tr>\n",
        "      <th>2014-08-15</th>\n",
        "      <td> 0.690809</td>\n",
        "      <td> 0.111880</td>\n",
        "      <td>-1.294641</td>\n",
        "      <td> 0.944500</td>\n",
        "    </tr>\n",
        "    <tr>\n",
        "      <th>2014-08-16</th>\n",
        "      <td> 1.548389</td>\n",
        "      <td>-1.458131</td>\n",
        "      <td>-0.894669</td>\n",
        "      <td> 0.473547</td>\n",
        "    </tr>\n",
        "  </tbody>\n",
        "</table>\n",
        "</div>"
       ],
       "metadata": {},
       "output_type": "pyout",
       "prompt_number": 18,
       "text": [
        "                   A         B         C         D\n",
        "2014-08-17  0.236776  1.173872  0.007240 -1.435798\n",
        "2014-08-18  0.545466 -0.320988  0.607325 -1.313921\n",
        "2014-08-14  0.581911  0.716929  1.072134  0.501621\n",
        "2014-08-19  0.611391 -0.144911  0.011954  0.755417\n",
        "2014-08-15  0.690809  0.111880 -1.294641  0.944500\n",
        "2014-08-16  1.548389 -1.458131 -0.894669  0.473547"
       ]
      }
     ],
     "prompt_number": 18
    },
    {
     "cell_type": "markdown",
     "metadata": {
      "slideshow": {
       "slide_type": "slide"
      }
     },
     "source": [
      "### Selection"
     ]
    },
    {
     "cell_type": "code",
     "collapsed": false,
     "input": [
      "print df\n",
      "df['A']"
     ],
     "language": "python",
     "metadata": {
      "slideshow": {
       "slide_type": "subslide"
      }
     },
     "outputs": [
      {
       "output_type": "stream",
       "stream": "stdout",
       "text": [
        "                   A         B         C         D\n",
        "2014-08-14  0.581911  0.716929  1.072134  0.501621\n",
        "2014-08-15  0.690809  0.111880 -1.294641  0.944500\n",
        "2014-08-16  1.548389 -1.458131 -0.894669  0.473547\n",
        "2014-08-17  0.236776  1.173872  0.007240 -1.435798\n",
        "2014-08-18  0.545466 -0.320988  0.607325 -1.313921\n",
        "2014-08-19  0.611391 -0.144911  0.011954  0.755417\n"
       ]
      },
      {
       "metadata": {},
       "output_type": "pyout",
       "prompt_number": 19,
       "text": [
        "2014-08-14    0.581911\n",
        "2014-08-15    0.690809\n",
        "2014-08-16    1.548389\n",
        "2014-08-17    0.236776\n",
        "2014-08-18    0.545466\n",
        "2014-08-19    0.611391\n",
        "Freq: D, Name: A, dtype: float64"
       ]
      }
     ],
     "prompt_number": 19
    },
    {
     "cell_type": "code",
     "collapsed": false,
     "input": [
      "df[0:3]"
     ],
     "language": "python",
     "metadata": {
      "slideshow": {
       "slide_type": "subslide"
      }
     },
     "outputs": [
      {
       "html": [
        "<div style=\"max-height:1000px;max-width:1500px;overflow:auto;\">\n",
        "<table border=\"1\" class=\"dataframe\">\n",
        "  <thead>\n",
        "    <tr style=\"text-align: right;\">\n",
        "      <th></th>\n",
        "      <th>A</th>\n",
        "      <th>B</th>\n",
        "      <th>C</th>\n",
        "      <th>D</th>\n",
        "    </tr>\n",
        "  </thead>\n",
        "  <tbody>\n",
        "    <tr>\n",
        "      <th>2014-08-14</th>\n",
        "      <td> 0.581911</td>\n",
        "      <td> 0.716929</td>\n",
        "      <td> 1.072134</td>\n",
        "      <td> 0.501621</td>\n",
        "    </tr>\n",
        "    <tr>\n",
        "      <th>2014-08-15</th>\n",
        "      <td> 0.690809</td>\n",
        "      <td> 0.111880</td>\n",
        "      <td>-1.294641</td>\n",
        "      <td> 0.944500</td>\n",
        "    </tr>\n",
        "    <tr>\n",
        "      <th>2014-08-16</th>\n",
        "      <td> 1.548389</td>\n",
        "      <td>-1.458131</td>\n",
        "      <td>-0.894669</td>\n",
        "      <td> 0.473547</td>\n",
        "    </tr>\n",
        "  </tbody>\n",
        "</table>\n",
        "</div>"
       ],
       "metadata": {},
       "output_type": "pyout",
       "prompt_number": 20,
       "text": [
        "                   A         B         C         D\n",
        "2014-08-14  0.581911  0.716929  1.072134  0.501621\n",
        "2014-08-15  0.690809  0.111880 -1.294641  0.944500\n",
        "2014-08-16  1.548389 -1.458131 -0.894669  0.473547"
       ]
      }
     ],
     "prompt_number": 20
    },
    {
     "cell_type": "code",
     "collapsed": false,
     "input": [
      "# By label\n",
      "df.loc[dates[0]]"
     ],
     "language": "python",
     "metadata": {
      "slideshow": {
       "slide_type": "subslide"
      }
     },
     "outputs": [
      {
       "metadata": {},
       "output_type": "pyout",
       "prompt_number": 21,
       "text": [
        "A    0.581911\n",
        "B    0.716929\n",
        "C    1.072134\n",
        "D    0.501621\n",
        "Name: 2014-08-14 00:00:00, dtype: float64"
       ]
      }
     ],
     "prompt_number": 21
    },
    {
     "cell_type": "code",
     "collapsed": false,
     "input": [
      "# multi-axis by label\n",
      "df.loc[:,['A','B']]\n",
      "df.loc[[dates[0],dates[1]],['A','B']]"
     ],
     "language": "python",
     "metadata": {
      "slideshow": {
       "slide_type": "fragment"
      }
     },
     "outputs": [
      {
       "html": [
        "<div style=\"max-height:1000px;max-width:1500px;overflow:auto;\">\n",
        "<table border=\"1\" class=\"dataframe\">\n",
        "  <thead>\n",
        "    <tr style=\"text-align: right;\">\n",
        "      <th></th>\n",
        "      <th>A</th>\n",
        "      <th>B</th>\n",
        "    </tr>\n",
        "  </thead>\n",
        "  <tbody>\n",
        "    <tr>\n",
        "      <th>2014-08-14</th>\n",
        "      <td> 0.581911</td>\n",
        "      <td> 0.716929</td>\n",
        "    </tr>\n",
        "    <tr>\n",
        "      <th>2014-08-15</th>\n",
        "      <td> 0.690809</td>\n",
        "      <td> 0.111880</td>\n",
        "    </tr>\n",
        "  </tbody>\n",
        "</table>\n",
        "</div>"
       ],
       "metadata": {},
       "output_type": "pyout",
       "prompt_number": 23,
       "text": [
        "                   A         B\n",
        "2014-08-14  0.581911  0.716929\n",
        "2014-08-15  0.690809  0.111880"
       ]
      }
     ],
     "prompt_number": 23
    },
    {
     "cell_type": "code",
     "collapsed": false,
     "input": [
      "# Date Range\n",
      "df.loc['20140814':'20140816',['B']]"
     ],
     "language": "python",
     "metadata": {
      "slideshow": {
       "slide_type": "fragment"
      }
     },
     "outputs": [
      {
       "html": [
        "<div style=\"max-height:1000px;max-width:1500px;overflow:auto;\">\n",
        "<table border=\"1\" class=\"dataframe\">\n",
        "  <thead>\n",
        "    <tr style=\"text-align: right;\">\n",
        "      <th></th>\n",
        "      <th>B</th>\n",
        "    </tr>\n",
        "  </thead>\n",
        "  <tbody>\n",
        "    <tr>\n",
        "      <th>2014-08-14</th>\n",
        "      <td> 0.716929</td>\n",
        "    </tr>\n",
        "    <tr>\n",
        "      <th>2014-08-15</th>\n",
        "      <td> 0.111880</td>\n",
        "    </tr>\n",
        "    <tr>\n",
        "      <th>2014-08-16</th>\n",
        "      <td>-1.458131</td>\n",
        "    </tr>\n",
        "  </tbody>\n",
        "</table>\n",
        "</div>"
       ],
       "metadata": {},
       "output_type": "pyout",
       "prompt_number": 24,
       "text": [
        "                   B\n",
        "2014-08-14  0.716929\n",
        "2014-08-15  0.111880\n",
        "2014-08-16 -1.458131"
       ]
      }
     ],
     "prompt_number": 24
    },
    {
     "cell_type": "code",
     "collapsed": false,
     "input": [
      "# Fast access to scalar\n",
      "print df\n",
      "df.at[dates[1],'B'] # same as df.loc[dates[1],'B']"
     ],
     "language": "python",
     "metadata": {
      "slideshow": {
       "slide_type": "fragment"
      }
     },
     "outputs": [
      {
       "output_type": "stream",
       "stream": "stdout",
       "text": [
        "                   A         B         C         D\n",
        "2014-08-14  0.581911  0.716929  1.072134  0.501621\n",
        "2014-08-15  0.690809  0.111880 -1.294641  0.944500\n",
        "2014-08-16  1.548389 -1.458131 -0.894669  0.473547\n",
        "2014-08-17  0.236776  1.173872  0.007240 -1.435798\n",
        "2014-08-18  0.545466 -0.320988  0.607325 -1.313921\n",
        "2014-08-19  0.611391 -0.144911  0.011954  0.755417\n"
       ]
      },
      {
       "metadata": {},
       "output_type": "pyout",
       "prompt_number": 28,
       "text": [
        "0.1118795180300259"
       ]
      }
     ],
     "prompt_number": 28
    },
    {
     "cell_type": "markdown",
     "metadata": {
      "slideshow": {
       "slide_type": "subslide"
      }
     },
     "source": [
      "#### Boolean Indexing"
     ]
    },
    {
     "cell_type": "code",
     "collapsed": false,
     "input": [
      "print df\n",
      "df[(df.B < 0) & (df.A > 1)] # Basically a 'where' operation"
     ],
     "language": "python",
     "metadata": {
      "slideshow": {
       "slide_type": "fragment"
      }
     },
     "outputs": [
      {
       "output_type": "stream",
       "stream": "stdout",
       "text": [
        "                   A         B         C         D\n",
        "2014-08-14  0.581911  0.716929  1.072134  0.501621\n",
        "2014-08-15  0.690809  0.111880 -1.294641  0.944500\n",
        "2014-08-16  1.548389 -1.458131 -0.894669  0.473547\n",
        "2014-08-17  0.236776  1.173872  0.007240 -1.435798\n",
        "2014-08-18  0.545466 -0.320988  0.607325 -1.313921\n",
        "2014-08-19  0.611391 -0.144911  0.011954  0.755417\n"
       ]
      },
      {
       "html": [
        "<div style=\"max-height:1000px;max-width:1500px;overflow:auto;\">\n",
        "<table border=\"1\" class=\"dataframe\">\n",
        "  <thead>\n",
        "    <tr style=\"text-align: right;\">\n",
        "      <th></th>\n",
        "      <th>A</th>\n",
        "      <th>B</th>\n",
        "      <th>C</th>\n",
        "      <th>D</th>\n",
        "    </tr>\n",
        "  </thead>\n",
        "  <tbody>\n",
        "    <tr>\n",
        "      <th>2014-08-16</th>\n",
        "      <td> 1.548389</td>\n",
        "      <td>-1.458131</td>\n",
        "      <td>-0.894669</td>\n",
        "      <td> 0.473547</td>\n",
        "    </tr>\n",
        "  </tbody>\n",
        "</table>\n",
        "</div>"
       ],
       "metadata": {},
       "output_type": "pyout",
       "prompt_number": 36,
       "text": [
        "                   A         B         C         D\n",
        "2014-08-16  1.548389 -1.458131 -0.894669  0.473547"
       ]
      }
     ],
     "prompt_number": 36
    },
    {
     "cell_type": "markdown",
     "metadata": {
      "slideshow": {
       "slide_type": "subslide"
      }
     },
     "source": [
      "#### Setting"
     ]
    },
    {
     "cell_type": "code",
     "collapsed": false,
     "input": [
      "df_posA = df.copy() # Without \"copy\" it would act on the dataset\n",
      "df_posA[df_posA.A < 0] = -1*df_posA"
     ],
     "language": "python",
     "metadata": {
      "slideshow": {
       "slide_type": "fragment"
      }
     },
     "outputs": [],
     "prompt_number": 37
    },
    {
     "cell_type": "code",
     "collapsed": false,
     "input": [
      "df_posA"
     ],
     "language": "python",
     "metadata": {
      "slideshow": {
       "slide_type": "fragment"
      }
     },
     "outputs": [
      {
       "html": [
        "<div style=\"max-height:1000px;max-width:1500px;overflow:auto;\">\n",
        "<table border=\"1\" class=\"dataframe\">\n",
        "  <thead>\n",
        "    <tr style=\"text-align: right;\">\n",
        "      <th></th>\n",
        "      <th>A</th>\n",
        "      <th>B</th>\n",
        "      <th>C</th>\n",
        "      <th>D</th>\n",
        "    </tr>\n",
        "  </thead>\n",
        "  <tbody>\n",
        "    <tr>\n",
        "      <th>2014-08-14</th>\n",
        "      <td> 0.581911</td>\n",
        "      <td> 0.716929</td>\n",
        "      <td> 1.072134</td>\n",
        "      <td> 0.501621</td>\n",
        "    </tr>\n",
        "    <tr>\n",
        "      <th>2014-08-15</th>\n",
        "      <td> 0.690809</td>\n",
        "      <td> 0.111880</td>\n",
        "      <td>-1.294641</td>\n",
        "      <td> 0.944500</td>\n",
        "    </tr>\n",
        "    <tr>\n",
        "      <th>2014-08-16</th>\n",
        "      <td> 1.548389</td>\n",
        "      <td>-1.458131</td>\n",
        "      <td>-0.894669</td>\n",
        "      <td> 0.473547</td>\n",
        "    </tr>\n",
        "    <tr>\n",
        "      <th>2014-08-17</th>\n",
        "      <td> 0.236776</td>\n",
        "      <td> 1.173872</td>\n",
        "      <td> 0.007240</td>\n",
        "      <td>-1.435798</td>\n",
        "    </tr>\n",
        "    <tr>\n",
        "      <th>2014-08-18</th>\n",
        "      <td> 0.545466</td>\n",
        "      <td>-0.320988</td>\n",
        "      <td> 0.607325</td>\n",
        "      <td>-1.313921</td>\n",
        "    </tr>\n",
        "    <tr>\n",
        "      <th>2014-08-19</th>\n",
        "      <td> 0.611391</td>\n",
        "      <td>-0.144911</td>\n",
        "      <td> 0.011954</td>\n",
        "      <td> 0.755417</td>\n",
        "    </tr>\n",
        "  </tbody>\n",
        "</table>\n",
        "</div>"
       ],
       "metadata": {},
       "output_type": "pyout",
       "prompt_number": 38,
       "text": [
        "                   A         B         C         D\n",
        "2014-08-14  0.581911  0.716929  1.072134  0.501621\n",
        "2014-08-15  0.690809  0.111880 -1.294641  0.944500\n",
        "2014-08-16  1.548389 -1.458131 -0.894669  0.473547\n",
        "2014-08-17  0.236776  1.173872  0.007240 -1.435798\n",
        "2014-08-18  0.545466 -0.320988  0.607325 -1.313921\n",
        "2014-08-19  0.611391 -0.144911  0.011954  0.755417"
       ]
      }
     ],
     "prompt_number": 38
    },
    {
     "cell_type": "code",
     "collapsed": false,
     "input": [
      "#Setting new column aligns data by index\n",
      "s1 = pd.Series([1,2,3,4,5,6],index=pd.date_range('20140814',periods=6))"
     ],
     "language": "python",
     "metadata": {
      "slideshow": {
       "slide_type": "subslide"
      }
     },
     "outputs": [],
     "prompt_number": 39
    },
    {
     "cell_type": "code",
     "collapsed": false,
     "input": [
      "s1"
     ],
     "language": "python",
     "metadata": {
      "slideshow": {
       "slide_type": "fragment"
      }
     },
     "outputs": [
      {
       "metadata": {},
       "output_type": "pyout",
       "prompt_number": 40,
       "text": [
        "2014-08-14    1\n",
        "2014-08-15    2\n",
        "2014-08-16    3\n",
        "2014-08-17    4\n",
        "2014-08-18    5\n",
        "2014-08-19    6\n",
        "Freq: D, dtype: int64"
       ]
      }
     ],
     "prompt_number": 40
    },
    {
     "cell_type": "code",
     "collapsed": false,
     "input": [
      "df['F'] = s1 # we can add the column because we have the same indices between the series and the dataframe"
     ],
     "language": "python",
     "metadata": {
      "slideshow": {
       "slide_type": "fragment"
      }
     },
     "outputs": [],
     "prompt_number": 43
    },
    {
     "cell_type": "code",
     "collapsed": false,
     "input": [
      "df"
     ],
     "language": "python",
     "metadata": {
      "slideshow": {
       "slide_type": "fragment"
      }
     },
     "outputs": [
      {
       "html": [
        "<div style=\"max-height:1000px;max-width:1500px;overflow:auto;\">\n",
        "<table border=\"1\" class=\"dataframe\">\n",
        "  <thead>\n",
        "    <tr style=\"text-align: right;\">\n",
        "      <th></th>\n",
        "      <th>A</th>\n",
        "      <th>B</th>\n",
        "      <th>C</th>\n",
        "      <th>D</th>\n",
        "      <th>F</th>\n",
        "    </tr>\n",
        "  </thead>\n",
        "  <tbody>\n",
        "    <tr>\n",
        "      <th>2014-08-14</th>\n",
        "      <td> 0.581911</td>\n",
        "      <td> 0.716929</td>\n",
        "      <td> 1.072134</td>\n",
        "      <td> 0.501621</td>\n",
        "      <td> 1</td>\n",
        "    </tr>\n",
        "    <tr>\n",
        "      <th>2014-08-15</th>\n",
        "      <td> 0.690809</td>\n",
        "      <td> 0.111880</td>\n",
        "      <td>-1.294641</td>\n",
        "      <td> 0.944500</td>\n",
        "      <td> 2</td>\n",
        "    </tr>\n",
        "    <tr>\n",
        "      <th>2014-08-16</th>\n",
        "      <td> 1.548389</td>\n",
        "      <td>-1.458131</td>\n",
        "      <td>-0.894669</td>\n",
        "      <td> 0.473547</td>\n",
        "      <td> 3</td>\n",
        "    </tr>\n",
        "    <tr>\n",
        "      <th>2014-08-17</th>\n",
        "      <td> 0.236776</td>\n",
        "      <td> 1.173872</td>\n",
        "      <td> 0.007240</td>\n",
        "      <td>-1.435798</td>\n",
        "      <td> 4</td>\n",
        "    </tr>\n",
        "    <tr>\n",
        "      <th>2014-08-18</th>\n",
        "      <td> 0.545466</td>\n",
        "      <td>-0.320988</td>\n",
        "      <td> 0.607325</td>\n",
        "      <td>-1.313921</td>\n",
        "      <td> 5</td>\n",
        "    </tr>\n",
        "    <tr>\n",
        "      <th>2014-08-19</th>\n",
        "      <td> 0.611391</td>\n",
        "      <td>-0.144911</td>\n",
        "      <td> 0.011954</td>\n",
        "      <td> 0.755417</td>\n",
        "      <td> 6</td>\n",
        "    </tr>\n",
        "  </tbody>\n",
        "</table>\n",
        "</div>"
       ],
       "metadata": {},
       "output_type": "pyout",
       "prompt_number": 44,
       "text": [
        "                   A         B         C         D  F\n",
        "2014-08-14  0.581911  0.716929  1.072134  0.501621  1\n",
        "2014-08-15  0.690809  0.111880 -1.294641  0.944500  2\n",
        "2014-08-16  1.548389 -1.458131 -0.894669  0.473547  3\n",
        "2014-08-17  0.236776  1.173872  0.007240 -1.435798  4\n",
        "2014-08-18  0.545466 -0.320988  0.607325 -1.313921  5\n",
        "2014-08-19  0.611391 -0.144911  0.011954  0.755417  6"
       ]
      }
     ],
     "prompt_number": 44
    },
    {
     "cell_type": "markdown",
     "metadata": {
      "slideshow": {
       "slide_type": "slide"
      }
     },
     "source": [
      "### Missing Data"
     ]
    },
    {
     "cell_type": "code",
     "collapsed": false,
     "input": [
      "# Add a column with missing data\n",
      "df1 = df.reindex(index=dates[0:4], columns=list(df.columns) + ['E'])\n",
      "# change the index (we keep only the first 5 rows) and change the columns to old columns + new column E"
     ],
     "language": "python",
     "metadata": {
      "slideshow": {
       "slide_type": "subslide"
      }
     },
     "outputs": [],
     "prompt_number": 48
    },
    {
     "cell_type": "code",
     "collapsed": false,
     "input": [
      "df1.loc[dates[0]:dates[1],'E'] = 1"
     ],
     "language": "python",
     "metadata": {
      "slideshow": {
       "slide_type": "subslide"
      }
     },
     "outputs": [],
     "prompt_number": 49
    },
    {
     "cell_type": "code",
     "collapsed": false,
     "input": [
      "df1"
     ],
     "language": "python",
     "metadata": {
      "slideshow": {
       "slide_type": "fragment"
      }
     },
     "outputs": [
      {
       "html": [
        "<div style=\"max-height:1000px;max-width:1500px;overflow:auto;\">\n",
        "<table border=\"1\" class=\"dataframe\">\n",
        "  <thead>\n",
        "    <tr style=\"text-align: right;\">\n",
        "      <th></th>\n",
        "      <th>A</th>\n",
        "      <th>B</th>\n",
        "      <th>C</th>\n",
        "      <th>D</th>\n",
        "      <th>F</th>\n",
        "      <th>E</th>\n",
        "    </tr>\n",
        "  </thead>\n",
        "  <tbody>\n",
        "    <tr>\n",
        "      <th>2014-08-14</th>\n",
        "      <td> 0.581911</td>\n",
        "      <td> 0.716929</td>\n",
        "      <td> 1.072134</td>\n",
        "      <td> 0.501621</td>\n",
        "      <td> 1</td>\n",
        "      <td>  1</td>\n",
        "    </tr>\n",
        "    <tr>\n",
        "      <th>2014-08-15</th>\n",
        "      <td> 0.690809</td>\n",
        "      <td> 0.111880</td>\n",
        "      <td>-1.294641</td>\n",
        "      <td> 0.944500</td>\n",
        "      <td> 2</td>\n",
        "      <td>  1</td>\n",
        "    </tr>\n",
        "    <tr>\n",
        "      <th>2014-08-16</th>\n",
        "      <td> 1.548389</td>\n",
        "      <td>-1.458131</td>\n",
        "      <td>-0.894669</td>\n",
        "      <td> 0.473547</td>\n",
        "      <td> 3</td>\n",
        "      <td>NaN</td>\n",
        "    </tr>\n",
        "    <tr>\n",
        "      <th>2014-08-17</th>\n",
        "      <td> 0.236776</td>\n",
        "      <td> 1.173872</td>\n",
        "      <td> 0.007240</td>\n",
        "      <td>-1.435798</td>\n",
        "      <td> 4</td>\n",
        "      <td>NaN</td>\n",
        "    </tr>\n",
        "  </tbody>\n",
        "</table>\n",
        "</div>"
       ],
       "metadata": {},
       "output_type": "pyout",
       "prompt_number": 50,
       "text": [
        "                   A         B         C         D  F   E\n",
        "2014-08-14  0.581911  0.716929  1.072134  0.501621  1   1\n",
        "2014-08-15  0.690809  0.111880 -1.294641  0.944500  2   1\n",
        "2014-08-16  1.548389 -1.458131 -0.894669  0.473547  3 NaN\n",
        "2014-08-17  0.236776  1.173872  0.007240 -1.435798  4 NaN"
       ]
      }
     ],
     "prompt_number": 50
    },
    {
     "cell_type": "code",
     "collapsed": false,
     "input": [
      "# find where values are null\n",
      "pd.isnull(df1)"
     ],
     "language": "python",
     "metadata": {
      "slideshow": {
       "slide_type": "subslide"
      }
     },
     "outputs": [
      {
       "html": [
        "<div style=\"max-height:1000px;max-width:1500px;overflow:auto;\">\n",
        "<table border=\"1\" class=\"dataframe\">\n",
        "  <thead>\n",
        "    <tr style=\"text-align: right;\">\n",
        "      <th></th>\n",
        "      <th>A</th>\n",
        "      <th>B</th>\n",
        "      <th>C</th>\n",
        "      <th>D</th>\n",
        "      <th>F</th>\n",
        "      <th>E</th>\n",
        "    </tr>\n",
        "  </thead>\n",
        "  <tbody>\n",
        "    <tr>\n",
        "      <th>2014-08-14</th>\n",
        "      <td> False</td>\n",
        "      <td> False</td>\n",
        "      <td> False</td>\n",
        "      <td> False</td>\n",
        "      <td> False</td>\n",
        "      <td> False</td>\n",
        "    </tr>\n",
        "    <tr>\n",
        "      <th>2014-08-15</th>\n",
        "      <td> False</td>\n",
        "      <td> False</td>\n",
        "      <td> False</td>\n",
        "      <td> False</td>\n",
        "      <td> False</td>\n",
        "      <td> False</td>\n",
        "    </tr>\n",
        "    <tr>\n",
        "      <th>2014-08-16</th>\n",
        "      <td> False</td>\n",
        "      <td> False</td>\n",
        "      <td> False</td>\n",
        "      <td> False</td>\n",
        "      <td> False</td>\n",
        "      <td>  True</td>\n",
        "    </tr>\n",
        "    <tr>\n",
        "      <th>2014-08-17</th>\n",
        "      <td> False</td>\n",
        "      <td> False</td>\n",
        "      <td> False</td>\n",
        "      <td> False</td>\n",
        "      <td> False</td>\n",
        "      <td>  True</td>\n",
        "    </tr>\n",
        "  </tbody>\n",
        "</table>\n",
        "</div>"
       ],
       "metadata": {},
       "output_type": "pyout",
       "prompt_number": 51,
       "text": [
        "                A      B      C      D      F      E\n",
        "2014-08-14  False  False  False  False  False  False\n",
        "2014-08-15  False  False  False  False  False  False\n",
        "2014-08-16  False  False  False  False  False   True\n",
        "2014-08-17  False  False  False  False  False   True"
       ]
      }
     ],
     "prompt_number": 51
    },
    {
     "cell_type": "markdown",
     "metadata": {
      "slideshow": {
       "slide_type": "slide"
      }
     },
     "source": [
      "### Operations"
     ]
    },
    {
     "cell_type": "code",
     "collapsed": false,
     "input": [
      "# Operation on two different axes\n",
      "df.mean() # compute mean for each of the columns\n",
      "df.mean(1) # compute mean for each row"
     ],
     "language": "python",
     "metadata": {
      "slideshow": {
       "slide_type": "subslide"
      }
     },
     "outputs": [
      {
       "metadata": {},
       "output_type": "pyout",
       "prompt_number": 53,
       "text": [
        "2014-08-14    0.774519\n",
        "2014-08-15    0.490509\n",
        "2014-08-16    0.533827\n",
        "2014-08-17    0.796418\n",
        "2014-08-18    0.903576\n",
        "2014-08-19    1.446770\n",
        "Freq: D, dtype: float64"
       ]
      }
     ],
     "prompt_number": 53
    },
    {
     "cell_type": "markdown",
     "metadata": {
      "slideshow": {
       "slide_type": "slide"
      }
     },
     "source": [
      "### Applying functions"
     ]
    },
    {
     "cell_type": "code",
     "collapsed": false,
     "input": [
      "df"
     ],
     "language": "python",
     "metadata": {
      "slideshow": {
       "slide_type": "subslide"
      }
     },
     "outputs": [
      {
       "html": [
        "<div style=\"max-height:1000px;max-width:1500px;overflow:auto;\">\n",
        "<table border=\"1\" class=\"dataframe\">\n",
        "  <thead>\n",
        "    <tr style=\"text-align: right;\">\n",
        "      <th></th>\n",
        "      <th>A</th>\n",
        "      <th>B</th>\n",
        "      <th>C</th>\n",
        "      <th>D</th>\n",
        "      <th>F</th>\n",
        "    </tr>\n",
        "  </thead>\n",
        "  <tbody>\n",
        "    <tr>\n",
        "      <th>2014-08-14</th>\n",
        "      <td> 0.581911</td>\n",
        "      <td> 0.716929</td>\n",
        "      <td> 1.072134</td>\n",
        "      <td> 0.501621</td>\n",
        "      <td> 1</td>\n",
        "    </tr>\n",
        "    <tr>\n",
        "      <th>2014-08-15</th>\n",
        "      <td> 0.690809</td>\n",
        "      <td> 0.111880</td>\n",
        "      <td>-1.294641</td>\n",
        "      <td> 0.944500</td>\n",
        "      <td> 2</td>\n",
        "    </tr>\n",
        "    <tr>\n",
        "      <th>2014-08-16</th>\n",
        "      <td> 1.548389</td>\n",
        "      <td>-1.458131</td>\n",
        "      <td>-0.894669</td>\n",
        "      <td> 0.473547</td>\n",
        "      <td> 3</td>\n",
        "    </tr>\n",
        "    <tr>\n",
        "      <th>2014-08-17</th>\n",
        "      <td> 0.236776</td>\n",
        "      <td> 1.173872</td>\n",
        "      <td> 0.007240</td>\n",
        "      <td>-1.435798</td>\n",
        "      <td> 4</td>\n",
        "    </tr>\n",
        "    <tr>\n",
        "      <th>2014-08-18</th>\n",
        "      <td> 0.545466</td>\n",
        "      <td>-0.320988</td>\n",
        "      <td> 0.607325</td>\n",
        "      <td>-1.313921</td>\n",
        "      <td> 5</td>\n",
        "    </tr>\n",
        "    <tr>\n",
        "      <th>2014-08-19</th>\n",
        "      <td> 0.611391</td>\n",
        "      <td>-0.144911</td>\n",
        "      <td> 0.011954</td>\n",
        "      <td> 0.755417</td>\n",
        "      <td> 6</td>\n",
        "    </tr>\n",
        "  </tbody>\n",
        "</table>\n",
        "</div>"
       ],
       "metadata": {},
       "output_type": "pyout",
       "prompt_number": 54,
       "text": [
        "                   A         B         C         D  F\n",
        "2014-08-14  0.581911  0.716929  1.072134  0.501621  1\n",
        "2014-08-15  0.690809  0.111880 -1.294641  0.944500  2\n",
        "2014-08-16  1.548389 -1.458131 -0.894669  0.473547  3\n",
        "2014-08-17  0.236776  1.173872  0.007240 -1.435798  4\n",
        "2014-08-18  0.545466 -0.320988  0.607325 -1.313921  5\n",
        "2014-08-19  0.611391 -0.144911  0.011954  0.755417  6"
       ]
      }
     ],
     "prompt_number": 54
    },
    {
     "cell_type": "code",
     "collapsed": false,
     "input": [
      "# cumulative sum on the columns\n",
      "df.apply(np.cumsum)"
     ],
     "language": "python",
     "metadata": {
      "slideshow": {
       "slide_type": "fragment"
      }
     },
     "outputs": [
      {
       "html": [
        "<div style=\"max-height:1000px;max-width:1500px;overflow:auto;\">\n",
        "<table border=\"1\" class=\"dataframe\">\n",
        "  <thead>\n",
        "    <tr style=\"text-align: right;\">\n",
        "      <th></th>\n",
        "      <th>A</th>\n",
        "      <th>B</th>\n",
        "      <th>C</th>\n",
        "      <th>D</th>\n",
        "      <th>F</th>\n",
        "    </tr>\n",
        "  </thead>\n",
        "  <tbody>\n",
        "    <tr>\n",
        "      <th>2014-08-14</th>\n",
        "      <td> 0.581911</td>\n",
        "      <td> 0.716929</td>\n",
        "      <td> 1.072134</td>\n",
        "      <td> 0.501621</td>\n",
        "      <td>  1</td>\n",
        "    </tr>\n",
        "    <tr>\n",
        "      <th>2014-08-15</th>\n",
        "      <td> 1.272720</td>\n",
        "      <td> 0.828808</td>\n",
        "      <td>-0.222507</td>\n",
        "      <td> 1.446120</td>\n",
        "      <td>  3</td>\n",
        "    </tr>\n",
        "    <tr>\n",
        "      <th>2014-08-16</th>\n",
        "      <td> 2.821109</td>\n",
        "      <td>-0.629323</td>\n",
        "      <td>-1.117176</td>\n",
        "      <td> 1.919668</td>\n",
        "      <td>  6</td>\n",
        "    </tr>\n",
        "    <tr>\n",
        "      <th>2014-08-17</th>\n",
        "      <td> 3.057885</td>\n",
        "      <td> 0.544549</td>\n",
        "      <td>-1.109936</td>\n",
        "      <td> 0.483870</td>\n",
        "      <td> 10</td>\n",
        "    </tr>\n",
        "    <tr>\n",
        "      <th>2014-08-18</th>\n",
        "      <td> 3.603351</td>\n",
        "      <td> 0.223561</td>\n",
        "      <td>-0.502611</td>\n",
        "      <td>-0.830051</td>\n",
        "      <td> 15</td>\n",
        "    </tr>\n",
        "    <tr>\n",
        "      <th>2014-08-19</th>\n",
        "      <td> 4.214742</td>\n",
        "      <td> 0.078651</td>\n",
        "      <td>-0.490657</td>\n",
        "      <td>-0.074634</td>\n",
        "      <td> 21</td>\n",
        "    </tr>\n",
        "  </tbody>\n",
        "</table>\n",
        "</div>"
       ],
       "metadata": {},
       "output_type": "pyout",
       "prompt_number": 56,
       "text": [
        "                   A         B         C         D   F\n",
        "2014-08-14  0.581911  0.716929  1.072134  0.501621   1\n",
        "2014-08-15  1.272720  0.828808 -0.222507  1.446120   3\n",
        "2014-08-16  2.821109 -0.629323 -1.117176  1.919668   6\n",
        "2014-08-17  3.057885  0.544549 -1.109936  0.483870  10\n",
        "2014-08-18  3.603351  0.223561 -0.502611 -0.830051  15\n",
        "2014-08-19  4.214742  0.078651 -0.490657 -0.074634  21"
       ]
      }
     ],
     "prompt_number": 56
    },
    {
     "cell_type": "code",
     "collapsed": false,
     "input": [
      "# Built in string methods\n",
      "s = pd.Series(['A', 'B', 'C', 'Aaba', 'Baca', np.nan, 'CABA', 'dog', 'cat'])\n",
      "s.str.lower()"
     ],
     "language": "python",
     "metadata": {
      "slideshow": {
       "slide_type": "subslide"
      }
     },
     "outputs": [
      {
       "metadata": {},
       "output_type": "pyout",
       "prompt_number": 57,
       "text": [
        "0       a\n",
        "1       b\n",
        "2       c\n",
        "3    aaba\n",
        "4    baca\n",
        "5     NaN\n",
        "6    caba\n",
        "7     dog\n",
        "8     cat\n",
        "dtype: object"
       ]
      }
     ],
     "prompt_number": 57
    },
    {
     "cell_type": "markdown",
     "metadata": {
      "slideshow": {
       "slide_type": "subslide"
      }
     },
     "source": [
      "###Merge"
     ]
    },
    {
     "cell_type": "code",
     "collapsed": false,
     "input": [
      "np.random.randn(10,4)"
     ],
     "language": "python",
     "metadata": {
      "slideshow": {
       "slide_type": "subslide"
      }
     },
     "outputs": [
      {
       "metadata": {},
       "output_type": "pyout",
       "prompt_number": 60,
       "text": [
        "array([[-0.34665934,  1.00529834, -0.26614319,  0.93032027],\n",
        "       [-0.57746858, -0.23340872,  1.04566647,  0.76892669],\n",
        "       [-0.75661859,  0.66539216, -0.01899751, -1.0039359 ],\n",
        "       [-2.82236553, -0.45408997,  0.75147846, -0.46141696],\n",
        "       [-0.82149416, -0.18029047,  0.4508794 ,  2.36063941],\n",
        "       [ 0.19398892,  0.46872138,  0.72565392, -0.17113916],\n",
        "       [ 1.35371551, -1.13087319, -0.00683908, -0.34248022],\n",
        "       [-0.11860205, -1.20460696,  0.33389302,  0.76780746],\n",
        "       [-1.67978635,  1.31000728, -0.32718599,  0.16613026],\n",
        "       [ 0.15491879, -0.48559688,  0.2066761 , -2.93241364]])"
       ]
      }
     ],
     "prompt_number": 60
    },
    {
     "cell_type": "code",
     "collapsed": false,
     "input": [
      "#Concatenating pandas objects together\n",
      "df = pd.DataFrame(np.random.randn(10,4))\n",
      "df"
     ],
     "language": "python",
     "metadata": {
      "slideshow": {
       "slide_type": "subslide"
      }
     },
     "outputs": [
      {
       "html": [
        "<div style=\"max-height:1000px;max-width:1500px;overflow:auto;\">\n",
        "<table border=\"1\" class=\"dataframe\">\n",
        "  <thead>\n",
        "    <tr style=\"text-align: right;\">\n",
        "      <th></th>\n",
        "      <th>0</th>\n",
        "      <th>1</th>\n",
        "      <th>2</th>\n",
        "      <th>3</th>\n",
        "    </tr>\n",
        "  </thead>\n",
        "  <tbody>\n",
        "    <tr>\n",
        "      <th>0</th>\n",
        "      <td> 1.199862</td>\n",
        "      <td>-0.617970</td>\n",
        "      <td> 0.113130</td>\n",
        "      <td>-0.097706</td>\n",
        "    </tr>\n",
        "    <tr>\n",
        "      <th>1</th>\n",
        "      <td> 1.574491</td>\n",
        "      <td>-0.865529</td>\n",
        "      <td> 1.261497</td>\n",
        "      <td>-0.093965</td>\n",
        "    </tr>\n",
        "    <tr>\n",
        "      <th>2</th>\n",
        "      <td> 0.214449</td>\n",
        "      <td>-0.146531</td>\n",
        "      <td> 0.202092</td>\n",
        "      <td>-0.433849</td>\n",
        "    </tr>\n",
        "    <tr>\n",
        "      <th>3</th>\n",
        "      <td>-0.231117</td>\n",
        "      <td>-1.561534</td>\n",
        "      <td>-0.477426</td>\n",
        "      <td>-1.557242</td>\n",
        "    </tr>\n",
        "    <tr>\n",
        "      <th>4</th>\n",
        "      <td>-0.323142</td>\n",
        "      <td>-1.435736</td>\n",
        "      <td> 0.217195</td>\n",
        "      <td>-1.329658</td>\n",
        "    </tr>\n",
        "    <tr>\n",
        "      <th>5</th>\n",
        "      <td> 0.236542</td>\n",
        "      <td> 1.147373</td>\n",
        "      <td> 1.287086</td>\n",
        "      <td>-1.755323</td>\n",
        "    </tr>\n",
        "    <tr>\n",
        "      <th>6</th>\n",
        "      <td> 0.203793</td>\n",
        "      <td> 0.078666</td>\n",
        "      <td>-0.664617</td>\n",
        "      <td>-0.130900</td>\n",
        "    </tr>\n",
        "    <tr>\n",
        "      <th>7</th>\n",
        "      <td>-0.504914</td>\n",
        "      <td> 0.252950</td>\n",
        "      <td> 0.361491</td>\n",
        "      <td>-1.323369</td>\n",
        "    </tr>\n",
        "    <tr>\n",
        "      <th>8</th>\n",
        "      <td> 0.057091</td>\n",
        "      <td> 0.097109</td>\n",
        "      <td>-0.059704</td>\n",
        "      <td> 0.930529</td>\n",
        "    </tr>\n",
        "    <tr>\n",
        "      <th>9</th>\n",
        "      <td> 1.102145</td>\n",
        "      <td>-1.616568</td>\n",
        "      <td> 0.307560</td>\n",
        "      <td> 0.099944</td>\n",
        "    </tr>\n",
        "  </tbody>\n",
        "</table>\n",
        "</div>"
       ],
       "metadata": {},
       "output_type": "pyout",
       "prompt_number": 61,
       "text": [
        "          0         1         2         3\n",
        "0  1.199862 -0.617970  0.113130 -0.097706\n",
        "1  1.574491 -0.865529  1.261497 -0.093965\n",
        "2  0.214449 -0.146531  0.202092 -0.433849\n",
        "3 -0.231117 -1.561534 -0.477426 -1.557242\n",
        "4 -0.323142 -1.435736  0.217195 -1.329658\n",
        "5  0.236542  1.147373  1.287086 -1.755323\n",
        "6  0.203793  0.078666 -0.664617 -0.130900\n",
        "7 -0.504914  0.252950  0.361491 -1.323369\n",
        "8  0.057091  0.097109 -0.059704  0.930529\n",
        "9  1.102145 -1.616568  0.307560  0.099944"
       ]
      }
     ],
     "prompt_number": 61
    },
    {
     "cell_type": "code",
     "collapsed": false,
     "input": [
      "# Break it into pieces\n",
      "pieces = [df[:3], df[3:7], df[7:]]\n",
      "print pieces"
     ],
     "language": "python",
     "metadata": {
      "slideshow": {
       "slide_type": "subslide"
      }
     },
     "outputs": [
      {
       "output_type": "stream",
       "stream": "stdout",
       "text": [
        "[          0         1         2         3\n",
        "0  1.199862 -0.617970  0.113130 -0.097706\n",
        "1  1.574491 -0.865529  1.261497 -0.093965\n",
        "2  0.214449 -0.146531  0.202092 -0.433849,           0         1         2         3\n",
        "3 -0.231117 -1.561534 -0.477426 -1.557242\n",
        "4 -0.323142 -1.435736  0.217195 -1.329658\n",
        "5  0.236542  1.147373  1.287086 -1.755323\n",
        "6  0.203793  0.078666 -0.664617 -0.130900,           0         1         2         3\n",
        "7 -0.504914  0.252950  0.361491 -1.323369\n",
        "8  0.057091  0.097109 -0.059704  0.930529\n",
        "9  1.102145 -1.616568  0.307560  0.099944]\n"
       ]
      }
     ],
     "prompt_number": 64
    },
    {
     "cell_type": "code",
     "collapsed": false,
     "input": [
      "pd.concat(pieces)"
     ],
     "language": "python",
     "metadata": {
      "slideshow": {
       "slide_type": "fragment"
      }
     },
     "outputs": [
      {
       "html": [
        "<div style=\"max-height:1000px;max-width:1500px;overflow:auto;\">\n",
        "<table border=\"1\" class=\"dataframe\">\n",
        "  <thead>\n",
        "    <tr style=\"text-align: right;\">\n",
        "      <th></th>\n",
        "      <th>0</th>\n",
        "      <th>1</th>\n",
        "      <th>2</th>\n",
        "      <th>3</th>\n",
        "    </tr>\n",
        "  </thead>\n",
        "  <tbody>\n",
        "    <tr>\n",
        "      <th>0</th>\n",
        "      <td> 1.199862</td>\n",
        "      <td>-0.617970</td>\n",
        "      <td> 0.113130</td>\n",
        "      <td>-0.097706</td>\n",
        "    </tr>\n",
        "    <tr>\n",
        "      <th>1</th>\n",
        "      <td> 1.574491</td>\n",
        "      <td>-0.865529</td>\n",
        "      <td> 1.261497</td>\n",
        "      <td>-0.093965</td>\n",
        "    </tr>\n",
        "    <tr>\n",
        "      <th>2</th>\n",
        "      <td> 0.214449</td>\n",
        "      <td>-0.146531</td>\n",
        "      <td> 0.202092</td>\n",
        "      <td>-0.433849</td>\n",
        "    </tr>\n",
        "    <tr>\n",
        "      <th>3</th>\n",
        "      <td>-0.231117</td>\n",
        "      <td>-1.561534</td>\n",
        "      <td>-0.477426</td>\n",
        "      <td>-1.557242</td>\n",
        "    </tr>\n",
        "    <tr>\n",
        "      <th>4</th>\n",
        "      <td>-0.323142</td>\n",
        "      <td>-1.435736</td>\n",
        "      <td> 0.217195</td>\n",
        "      <td>-1.329658</td>\n",
        "    </tr>\n",
        "    <tr>\n",
        "      <th>5</th>\n",
        "      <td> 0.236542</td>\n",
        "      <td> 1.147373</td>\n",
        "      <td> 1.287086</td>\n",
        "      <td>-1.755323</td>\n",
        "    </tr>\n",
        "    <tr>\n",
        "      <th>6</th>\n",
        "      <td> 0.203793</td>\n",
        "      <td> 0.078666</td>\n",
        "      <td>-0.664617</td>\n",
        "      <td>-0.130900</td>\n",
        "    </tr>\n",
        "    <tr>\n",
        "      <th>7</th>\n",
        "      <td>-0.504914</td>\n",
        "      <td> 0.252950</td>\n",
        "      <td> 0.361491</td>\n",
        "      <td>-1.323369</td>\n",
        "    </tr>\n",
        "    <tr>\n",
        "      <th>8</th>\n",
        "      <td> 0.057091</td>\n",
        "      <td> 0.097109</td>\n",
        "      <td>-0.059704</td>\n",
        "      <td> 0.930529</td>\n",
        "    </tr>\n",
        "    <tr>\n",
        "      <th>9</th>\n",
        "      <td> 1.102145</td>\n",
        "      <td>-1.616568</td>\n",
        "      <td> 0.307560</td>\n",
        "      <td> 0.099944</td>\n",
        "    </tr>\n",
        "  </tbody>\n",
        "</table>\n",
        "</div>"
       ],
       "metadata": {},
       "output_type": "pyout",
       "prompt_number": 63,
       "text": [
        "          0         1         2         3\n",
        "0  1.199862 -0.617970  0.113130 -0.097706\n",
        "1  1.574491 -0.865529  1.261497 -0.093965\n",
        "2  0.214449 -0.146531  0.202092 -0.433849\n",
        "3 -0.231117 -1.561534 -0.477426 -1.557242\n",
        "4 -0.323142 -1.435736  0.217195 -1.329658\n",
        "5  0.236542  1.147373  1.287086 -1.755323\n",
        "6  0.203793  0.078666 -0.664617 -0.130900\n",
        "7 -0.504914  0.252950  0.361491 -1.323369\n",
        "8  0.057091  0.097109 -0.059704  0.930529\n",
        "9  1.102145 -1.616568  0.307560  0.099944"
       ]
      }
     ],
     "prompt_number": 63
    },
    {
     "cell_type": "code",
     "collapsed": false,
     "input": [
      "# Also can \"Join\" and \"Append\""
     ],
     "language": "python",
     "metadata": {
      "slideshow": {
       "slide_type": "fragment"
      }
     },
     "outputs": []
    },
    {
     "cell_type": "markdown",
     "metadata": {
      "slideshow": {
       "slide_type": "subslide"
      }
     },
     "source": [
      "###Grouping\n"
     ]
    },
    {
     "cell_type": "code",
     "collapsed": false,
     "input": [
      "df = pd.DataFrame({'A' : ['foo', 'bar', 'foo', 'bar',\n",
      "                       'foo', 'bar', 'foo', 'foo'],\n",
      "                       'B' : ['one', 'one', 'two', 'three',\n",
      "                             'two', 'two', 'one', 'three'],\n",
      "                       'C' : np.random.randn(8),\n",
      "                       'D' : np.random.randn(8)})"
     ],
     "language": "python",
     "metadata": {
      "slideshow": {
       "slide_type": "subslide"
      }
     },
     "outputs": [],
     "prompt_number": 65
    },
    {
     "cell_type": "code",
     "collapsed": false,
     "input": [
      "df"
     ],
     "language": "python",
     "metadata": {
      "slideshow": {
       "slide_type": "fragment"
      }
     },
     "outputs": [
      {
       "html": [
        "<div style=\"max-height:1000px;max-width:1500px;overflow:auto;\">\n",
        "<table border=\"1\" class=\"dataframe\">\n",
        "  <thead>\n",
        "    <tr style=\"text-align: right;\">\n",
        "      <th></th>\n",
        "      <th>A</th>\n",
        "      <th>B</th>\n",
        "      <th>C</th>\n",
        "      <th>D</th>\n",
        "    </tr>\n",
        "  </thead>\n",
        "  <tbody>\n",
        "    <tr>\n",
        "      <th>0</th>\n",
        "      <td> foo</td>\n",
        "      <td>   one</td>\n",
        "      <td> 1.710111</td>\n",
        "      <td>-2.285120</td>\n",
        "    </tr>\n",
        "    <tr>\n",
        "      <th>1</th>\n",
        "      <td> bar</td>\n",
        "      <td>   one</td>\n",
        "      <td> 1.666917</td>\n",
        "      <td> 0.685001</td>\n",
        "    </tr>\n",
        "    <tr>\n",
        "      <th>2</th>\n",
        "      <td> foo</td>\n",
        "      <td>   two</td>\n",
        "      <td>-0.631937</td>\n",
        "      <td> 0.052871</td>\n",
        "    </tr>\n",
        "    <tr>\n",
        "      <th>3</th>\n",
        "      <td> bar</td>\n",
        "      <td> three</td>\n",
        "      <td>-0.135477</td>\n",
        "      <td>-1.645642</td>\n",
        "    </tr>\n",
        "    <tr>\n",
        "      <th>4</th>\n",
        "      <td> foo</td>\n",
        "      <td>   two</td>\n",
        "      <td>-1.597980</td>\n",
        "      <td> 0.566015</td>\n",
        "    </tr>\n",
        "    <tr>\n",
        "      <th>5</th>\n",
        "      <td> bar</td>\n",
        "      <td>   two</td>\n",
        "      <td>-0.047490</td>\n",
        "      <td>-1.936221</td>\n",
        "    </tr>\n",
        "    <tr>\n",
        "      <th>6</th>\n",
        "      <td> foo</td>\n",
        "      <td>   one</td>\n",
        "      <td>-0.149744</td>\n",
        "      <td> 1.150533</td>\n",
        "    </tr>\n",
        "    <tr>\n",
        "      <th>7</th>\n",
        "      <td> foo</td>\n",
        "      <td> three</td>\n",
        "      <td>-0.913056</td>\n",
        "      <td>-0.190492</td>\n",
        "    </tr>\n",
        "  </tbody>\n",
        "</table>\n",
        "</div>"
       ],
       "metadata": {},
       "output_type": "pyout",
       "prompt_number": 66,
       "text": [
        "     A      B         C         D\n",
        "0  foo    one  1.710111 -2.285120\n",
        "1  bar    one  1.666917  0.685001\n",
        "2  foo    two -0.631937  0.052871\n",
        "3  bar  three -0.135477 -1.645642\n",
        "4  foo    two -1.597980  0.566015\n",
        "5  bar    two -0.047490 -1.936221\n",
        "6  foo    one -0.149744  1.150533\n",
        "7  foo  three -0.913056 -0.190492"
       ]
      }
     ],
     "prompt_number": 66
    },
    {
     "cell_type": "code",
     "collapsed": false,
     "input": [
      "df.groupby(['A']).mean()\n",
      "df.groupby(['B']).mean()"
     ],
     "language": "python",
     "metadata": {
      "slideshow": {
       "slide_type": "fragment"
      }
     },
     "outputs": [
      {
       "html": [
        "<div style=\"max-height:1000px;max-width:1500px;overflow:auto;\">\n",
        "<table border=\"1\" class=\"dataframe\">\n",
        "  <thead>\n",
        "    <tr style=\"text-align: right;\">\n",
        "      <th></th>\n",
        "      <th>C</th>\n",
        "      <th>D</th>\n",
        "    </tr>\n",
        "    <tr>\n",
        "      <th>B</th>\n",
        "      <th></th>\n",
        "      <th></th>\n",
        "    </tr>\n",
        "  </thead>\n",
        "  <tbody>\n",
        "    <tr>\n",
        "      <th>one</th>\n",
        "      <td> 1.075762</td>\n",
        "      <td>-0.149862</td>\n",
        "    </tr>\n",
        "    <tr>\n",
        "      <th>three</th>\n",
        "      <td>-0.524267</td>\n",
        "      <td>-0.918067</td>\n",
        "    </tr>\n",
        "    <tr>\n",
        "      <th>two</th>\n",
        "      <td>-0.759136</td>\n",
        "      <td>-0.439112</td>\n",
        "    </tr>\n",
        "  </tbody>\n",
        "</table>\n",
        "</div>"
       ],
       "metadata": {},
       "output_type": "pyout",
       "prompt_number": 69,
       "text": [
        "              C         D\n",
        "B                        \n",
        "one    1.075762 -0.149862\n",
        "three -0.524267 -0.918067\n",
        "two   -0.759136 -0.439112"
       ]
      }
     ],
     "prompt_number": 69
    },
    {
     "cell_type": "markdown",
     "metadata": {
      "slideshow": {
       "slide_type": "subslide"
      }
     },
     "source": [
      "###I/O\n",
      "I/O is straightforward with, for example, pd.read_csv or df.to_csv"
     ]
    },
    {
     "cell_type": "markdown",
     "metadata": {
      "slideshow": {
       "slide_type": "slide"
      }
     },
     "source": [
      "#Lab"
     ]
    },
    {
     "cell_type": "markdown",
     "metadata": {
      "slideshow": {
       "slide_type": "slide"
      }
     },
     "source": [
      "# Next Steps\n",
      "\n",
      "**Recommended Resources**\n",
      "\n",
      "Name | Description\n",
      "--- | ---\n",
      "[Official Pandas Tutorials](http://pandas.pydata.org/pandas-docs/stable/tutorials.html) | Tutorials and lectures\n",
      "[Julia Evans Pandas Cookbook](https://github.com/jvns/pandas-cookbook) | Great resource with examples from weather, bikes and 311 calls\n",
      "[Learn Pandas Tutorials](https://bitbucket.org/hrojas/learn-pandas) | A great series of Pandas tutorials from Dave Rojas\n",
      "[Research Computing Python Data PYNBs](https://github.com/ResearchComputing/Meetup-Fall-2013/tree/master/python) | An awesome set of python notebooks from a meetup-based course exclusively devoted to pandas"
     ]
    },
    {
     "cell_type": "code",
     "collapsed": false,
     "input": [],
     "language": "python",
     "metadata": {},
     "outputs": []
    }
   ],
   "metadata": {}
  }
 ]
}