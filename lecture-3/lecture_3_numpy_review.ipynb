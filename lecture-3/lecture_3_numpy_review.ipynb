{
 "metadata": {
  "name": "",
  "signature": "sha256:124710585f9348370738e7381c464ed951963de246f1eec248650d5138042223"
 },
 "nbformat": 3,
 "nbformat_minor": 0,
 "worksheets": [
  {
   "cells": [
    {
     "cell_type": "markdown",
     "metadata": {},
     "source": [
      "# NumPy Basics Review"
     ]
    },
    {
     "cell_type": "markdown",
     "metadata": {},
     "source": [
      "Today we will review:\n",
      "\n",
      "* Creating arrays\n",
      "* Indexing and slicing\n",
      "\n",
      "You can find a comprehensive tutorial at http://wiki.scipy.org/Tentative_NumPy_Tutorial"
     ]
    },
    {
     "cell_type": "code",
     "collapsed": false,
     "input": [
      "from numpy import * #Load all the numpy packages"
     ],
     "language": "python",
     "metadata": {},
     "outputs": [],
     "prompt_number": 37
    },
    {
     "cell_type": "markdown",
     "metadata": {},
     "source": [
      "## Note: \"import as\"\n",
      "\n",
      "`import *` loads all submodules and is wasteful when used in production code. We use it here for convenience.\n",
      "\n",
      "Conventionally, `numpy` is imported under the `np` alias.\n",
      "\n",
      "    import numpy as np\n",
      "    \n",
      "And then to specifically call needed methods:\n",
      "\n",
      "![](http://note.io/1juA60F)"
     ]
    },
    {
     "cell_type": "markdown",
     "metadata": {},
     "source": [
      "## Creating arrays\n",
      "\n",
      "The `array` object represents a multidimensional, homogeneous collection of items with a fixed size.\n",
      "\n",
      "A vector is an array with one dimension. That is, it is a single row or column of numbers.\n",
      "A matrix is an array with more than one dimension. We will generally work with two-dimensional matrices. That is, the matrix will have some number of rows and columns. The dimensions of a matrix with 2 rows and 3 columns are 2\u00d73.\n",
      "\n",
      "We will represent vectors and matrices using the `array` object."
     ]
    },
    {
     "cell_type": "code",
     "collapsed": false,
     "input": [
      "# Creating arrays\n",
      "a = zeros(3) # create a one-dimensional array, or a vector, of three zeros.\n",
      "b = ones((2, 3)) # create a matrix of ones with the dimensions 2x3 - note: takes a tuple as parameter\n",
      "c = arange(0,11,1) # create a vector of integers from 0 through 10 with a 1 increment.\n",
      "\n",
      "print 'a', a\n",
      "print 'b', b\n",
      "print 'c', c"
     ],
     "language": "python",
     "metadata": {},
     "outputs": [
      {
       "output_type": "stream",
       "stream": "stdout",
       "text": [
        "a [ 0.  0.  0.]\n",
        "b [[ 1.  1.  1.]\n",
        " [ 1.  1.  1.]]\n",
        "c [ 0  1  2  3  4  5  6  7  8  9 10]\n"
       ]
      }
     ],
     "prompt_number": 38
    },
    {
     "cell_type": "markdown",
     "metadata": {},
     "source": [
      "The dimensions of the array can be retrieved with `shape`:"
     ]
    },
    {
     "cell_type": "code",
     "collapsed": false,
     "input": [
      "print a.shape # a is 1-dimensional\n",
      "print b.shape # b is 2-dimensional\n",
      "print c.shape # c is 1-dimensional"
     ],
     "language": "python",
     "metadata": {},
     "outputs": [
      {
       "output_type": "stream",
       "stream": "stdout",
       "text": [
        "(3,)\n",
        "(2, 3)\n",
        "(11,)\n"
       ]
      }
     ],
     "prompt_number": 39
    },
    {
     "cell_type": "code",
     "collapsed": false,
     "input": [
      "# TODO now you create a 1-dimensional array containing five ones\n",
      "# ones = ...\n",
      "arr1 = ones(5)\n",
      "print arr1"
     ],
     "language": "python",
     "metadata": {},
     "outputs": [
      {
       "output_type": "stream",
       "stream": "stdout",
       "text": [
        "[ 1.  1.  1.  1.  1.]\n"
       ]
      }
     ],
     "prompt_number": 40
    },
    {
     "cell_type": "code",
     "collapsed": false,
     "input": [
      "# TODO now you create a matrix of zeros with dimensions 4x5\n",
      "# zeros = ...\n",
      "arr2 = zeros((4,5))\n",
      "print arr2"
     ],
     "language": "python",
     "metadata": {},
     "outputs": [
      {
       "output_type": "stream",
       "stream": "stdout",
       "text": [
        "[[ 0.  0.  0.  0.  0.]\n",
        " [ 0.  0.  0.  0.  0.]\n",
        " [ 0.  0.  0.  0.  0.]\n",
        " [ 0.  0.  0.  0.  0.]]\n"
       ]
      }
     ],
     "prompt_number": 41
    },
    {
     "cell_type": "code",
     "collapsed": false,
     "input": [
      "# TODO now you create an array that contains the integers from 53 to 64, inclusive\n",
      "# ints = \n",
      "arr3 = arange(53,65,1)\n",
      "print arr3"
     ],
     "language": "python",
     "metadata": {},
     "outputs": [
      {
       "output_type": "stream",
       "stream": "stdout",
       "text": [
        "[53 54 55 56 57 58 59 60 61 62 63 64]\n"
       ]
      }
     ],
     "prompt_number": 42
    },
    {
     "cell_type": "code",
     "collapsed": false,
     "input": [
      "# TODO now print the shapes of ones, zeros, and ints\n",
      "print arr1.shape\n",
      "print arr2.shape\n",
      "print arr3.shape"
     ],
     "language": "python",
     "metadata": {},
     "outputs": [
      {
       "output_type": "stream",
       "stream": "stdout",
       "text": [
        "(5,)\n",
        "(4, 5)\n",
        "(12,)\n"
       ]
      }
     ],
     "prompt_number": 43
    },
    {
     "cell_type": "markdown",
     "metadata": {},
     "source": [
      "## Array Arithmetic"
     ]
    },
    {
     "cell_type": "code",
     "collapsed": false,
     "input": [
      "# TODO create an array that contains the integers from 0 to 10, inclusive\n",
      "# a = \n",
      "a = arange(0,11)\n",
      "a"
     ],
     "language": "python",
     "metadata": {},
     "outputs": [
      {
       "metadata": {},
       "output_type": "pyout",
       "prompt_number": 44,
       "text": [
        "array([ 0,  1,  2,  3,  4,  5,  6,  7,  8,  9, 10])"
       ]
      }
     ],
     "prompt_number": 44
    },
    {
     "cell_type": "code",
     "collapsed": false,
     "input": [
      "# TODO create an array that contains starts with 0, ends with 1, and uses step of 0.1\n",
      "# b = \n",
      "b = arange(0,1.1,0.1)\n",
      "b"
     ],
     "language": "python",
     "metadata": {},
     "outputs": [
      {
       "metadata": {},
       "output_type": "pyout",
       "prompt_number": 45,
       "text": [
        "array([ 0. ,  0.1,  0.2,  0.3,  0.4,  0.5,  0.6,  0.7,  0.8,  0.9,  1. ])"
       ]
      }
     ],
     "prompt_number": 45
    },
    {
     "cell_type": "code",
     "collapsed": false,
     "input": [
      "# TODO subtract b from a\n",
      "a - b"
     ],
     "language": "python",
     "metadata": {},
     "outputs": [
      {
       "metadata": {},
       "output_type": "pyout",
       "prompt_number": 46,
       "text": [
        "array([ 0. ,  0.9,  1.8,  2.7,  3.6,  4.5,  5.4,  6.3,  7.2,  8.1,  9. ])"
       ]
      }
     ],
     "prompt_number": 46
    },
    {
     "cell_type": "code",
     "collapsed": false,
     "input": [
      "# TODO square a\n",
      "a**2"
     ],
     "language": "python",
     "metadata": {},
     "outputs": [
      {
       "metadata": {},
       "output_type": "pyout",
       "prompt_number": 27,
       "text": [
        "array([  0,   1,   4,   9,  16,  25,  36,  49,  64,  81, 100])"
       ]
      }
     ],
     "prompt_number": 27
    },
    {
     "cell_type": "code",
     "collapsed": false,
     "input": [
      "# TODO find the element-wise product of a and b\n",
      "a * b"
     ],
     "language": "python",
     "metadata": {},
     "outputs": [
      {
       "metadata": {},
       "output_type": "pyout",
       "prompt_number": 28,
       "text": [
        "array([  0. ,   0.1,   0.4,   0.9,   1.6,   2.5,   3.6,   4.9,   6.4,\n",
        "         8.1,  10. ])"
       ]
      }
     ],
     "prompt_number": 28
    },
    {
     "cell_type": "markdown",
     "metadata": {},
     "source": [
      "## Indexing, Slicing and Iterating"
     ]
    },
    {
     "cell_type": "code",
     "collapsed": false,
     "input": [
      "# TODO make a slice of the third, fourth, and fifth elements of a\n",
      "# Hint: one-dimensional arrays can be sliced like lists.\n",
      "a[2:5]"
     ],
     "language": "python",
     "metadata": {},
     "outputs": [
      {
       "metadata": {},
       "output_type": "pyout",
       "prompt_number": 30,
       "text": [
        "array([2, 3, 4])"
       ]
      }
     ],
     "prompt_number": 30
    },
    {
     "cell_type": "code",
     "collapsed": false,
     "input": [
      "# TODO make a 4x4 matrix of random integers\n",
      "# b = ...\n",
      "b = random.randint(1,100,(4,4))\n",
      "b"
     ],
     "language": "python",
     "metadata": {},
     "outputs": [
      {
       "metadata": {},
       "output_type": "pyout",
       "prompt_number": 31,
       "text": [
        "array([[23, 84, 11, 91],\n",
        "       [28, 92, 66, 17],\n",
        "       [44, 21, 53, 69],\n",
        "       [59, 33, 82, 64]])"
       ]
      }
     ],
     "prompt_number": 31
    },
    {
     "cell_type": "code",
     "collapsed": false,
     "input": [
      "# TODO retrieve the element from the first row of the first column.\n",
      "# Hint: don't forget that everything is zero-indexed!\n",
      "b[0,0]"
     ],
     "language": "python",
     "metadata": {},
     "outputs": [
      {
       "metadata": {},
       "output_type": "pyout",
       "prompt_number": 32,
       "text": [
        "23"
       ]
      }
     ],
     "prompt_number": 32
    },
    {
     "cell_type": "code",
     "collapsed": false,
     "input": [
      "# TODO retrieve the element from the second row of the third column\n",
      "b[1,2]"
     ],
     "language": "python",
     "metadata": {},
     "outputs": [
      {
       "metadata": {},
       "output_type": "pyout",
       "prompt_number": 33,
       "text": [
        "66"
       ]
      }
     ],
     "prompt_number": 33
    },
    {
     "cell_type": "code",
     "collapsed": false,
     "input": [
      "# TODO retrieve the third column\n",
      "# Hint: use the : operator to select everything along a dimension.\n",
      "b[:,2]"
     ],
     "language": "python",
     "metadata": {},
     "outputs": [
      {
       "metadata": {},
       "output_type": "pyout",
       "prompt_number": 34,
       "text": [
        "array([11, 66, 53, 82])"
       ]
      }
     ],
     "prompt_number": 34
    },
    {
     "cell_type": "code",
     "collapsed": false,
     "input": [
      "type(b)"
     ],
     "language": "python",
     "metadata": {},
     "outputs": [
      {
       "metadata": {},
       "output_type": "pyout",
       "prompt_number": 35,
       "text": [
        "numpy.ndarray"
       ]
      }
     ],
     "prompt_number": 35
    },
    {
     "cell_type": "code",
     "collapsed": false,
     "input": [],
     "language": "python",
     "metadata": {},
     "outputs": []
    }
   ],
   "metadata": {}
  }
 ]
}