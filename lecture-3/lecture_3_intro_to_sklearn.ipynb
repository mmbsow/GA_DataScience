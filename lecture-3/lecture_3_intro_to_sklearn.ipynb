{
 "metadata": {
  "name": "",
  "signature": "sha256:22acb332c086e7761d771150007f42802c58a43f6de629a85b22247e4f35439e"
 },
 "nbformat": 3,
 "nbformat_minor": 0,
 "worksheets": [
  {
   "cells": [
    {
     "cell_type": "markdown",
     "metadata": {},
     "source": [
      "# Intro to scikit-learn"
     ]
    },
    {
     "cell_type": "markdown",
     "metadata": {},
     "source": [
      "Recall from the last lecture that we were attempting to predict the prices of pizzas using the following training data:"
     ]
    },
    {
     "cell_type": "raw",
     "metadata": {},
     "source": [
      "| Training Instance \t| Diameter, in inches \t| Price, in USD \t|\n",
      "|-------------------\t|---------------------\t|---------------\t|\n",
      "| 1                 \t| 6                   \t| 7             \t|\n",
      "| 2                 \t| 8                   \t| 9             \t|\n",
      "| 3                 \t| 10                  \t| 13            \t|\n",
      "| 4                 \t| 14                  \t| 17.5          \t|\n",
      "| 5                 \t| 18                  \t| 18            \t|"
     ]
    },
    {
     "cell_type": "markdown",
     "metadata": {},
     "source": [
      "The following instances comprise our test set."
     ]
    },
    {
     "cell_type": "raw",
     "metadata": {},
     "source": [
      "| Testing Instance \t| Diameter, in inches \t| Price, in USD \t|\n",
      "|------------------\t|---------------------\t|---------------\t|\n",
      "| 1                \t| 8                   \t| 11            \t|\n",
      "| 2                \t| 9                   \t| 8.5           \t|\n",
      "| 3                \t| 11                  \t| 15            \t|\n",
      "| 4                \t| 16                  \t| 18            \t|\n",
      "| 5                \t| 12                  \t| 11            \t|"
     ]
    },
    {
     "cell_type": "markdown",
     "metadata": {},
     "source": [
      "Let's verify our calculations using scikit-learn."
     ]
    },
    {
     "cell_type": "code",
     "collapsed": false,
     "input": [
      "# First we need to create representations of our training and test instances.\n",
      "# TODO Let's represent the values of the response variable for the test set using a list.\n",
      "y_train = [7, 9, 13, 17.5, 18]"
     ],
     "language": "python",
     "metadata": {},
     "outputs": [],
     "prompt_number": 1
    },
    {
     "cell_type": "code",
     "collapsed": false,
     "input": [
      "# TODO let's do the same for the test instances.\n",
      "y_test = [11, 8.5, 15, 18, 11]"
     ],
     "language": "python",
     "metadata": {},
     "outputs": [],
     "prompt_number": 2
    },
    {
     "cell_type": "code",
     "collapsed": false,
     "input": [
      "# We need to represent the values of the explanatory variable a little differently using a list of lists.\n",
      "X_train = [ [6], [8], [10], [14], [18] ] # scikit learn needs a matrix for explanatory variables, so create a list of lists\n",
      "# it will be considered a column vector"
     ],
     "language": "python",
     "metadata": {},
     "outputs": [],
     "prompt_number": 3
    },
    {
     "cell_type": "code",
     "collapsed": false,
     "input": [
      "# TODO let's do the same for the values of the explanatory variable for the test instances.\n",
      "X_test = [ [8], [9], [11], [16], [12] ]"
     ],
     "language": "python",
     "metadata": {},
     "outputs": [],
     "prompt_number": 4
    },
    {
     "cell_type": "code",
     "collapsed": false,
     "input": [
      "# Import the LinearRegression class from the linear_model module\n",
      "import sklearn\n",
      "print sklearn.__version__\n",
      "from sklearn.linear_model import LinearRegression"
     ],
     "language": "python",
     "metadata": {},
     "outputs": [
      {
       "output_type": "stream",
       "stream": "stdout",
       "text": [
        "0.15.1\n"
       ]
      }
     ],
     "prompt_number": 5
    },
    {
     "cell_type": "code",
     "collapsed": false,
     "input": [
      "# Now that we have created representations of the training data, we can train the model.\n",
      "# TODO Create an instance of LinearRegression.\n",
      "regressor = LinearRegression()\n",
      "\n",
      "# estimator has couple of methods"
     ],
     "language": "python",
     "metadata": {},
     "outputs": [],
     "prompt_number": 6
    },
    {
     "cell_type": "code",
     "collapsed": false,
     "input": [
      "# TODO Train (fit) the model\n",
      "regressor.fit(X_train, y_train)"
     ],
     "language": "python",
     "metadata": {},
     "outputs": [
      {
       "metadata": {},
       "output_type": "pyout",
       "prompt_number": 7,
       "text": [
        "LinearRegression(copy_X=True, fit_intercept=True, normalize=False)"
       ]
      }
     ],
     "prompt_number": 7
    },
    {
     "cell_type": "code",
     "collapsed": false,
     "input": [
      "# TODO Verify that the values of the model parameters, alpha and beta, are the same as what we calculated yesterday\n",
      "regressor.intercept_\n",
      "regressor.coef_"
     ],
     "language": "python",
     "metadata": {},
     "outputs": [
      {
       "metadata": {},
       "output_type": "pyout",
       "prompt_number": 8,
       "text": [
        "array([ 0.9762931])"
       ]
      }
     ],
     "prompt_number": 8
    },
    {
     "cell_type": "code",
     "collapsed": false,
     "input": [
      "# TODO Make some predictions\n",
      "predictions = regressor.predict(X_test)"
     ],
     "language": "python",
     "metadata": {},
     "outputs": [],
     "prompt_number": 9
    },
    {
     "cell_type": "code",
     "collapsed": false,
     "input": [
      "# TODO print each prediction\n",
      "for p in predictions:\n",
      "    print p"
     ],
     "language": "python",
     "metadata": {},
     "outputs": [
      {
       "output_type": "stream",
       "stream": "stdout",
       "text": [
        "9.77586206897\n",
        "10.7521551724\n",
        "12.7047413793\n",
        "17.5862068966\n",
        "13.6810344828\n"
       ]
      }
     ],
     "prompt_number": 11
    },
    {
     "cell_type": "code",
     "collapsed": false,
     "input": [
      "# TODO compare the predictions to the true prices.\n",
      "for i,p in enumerate(predictions):\n",
      "    print p, y_test[i]"
     ],
     "language": "python",
     "metadata": {},
     "outputs": [
      {
       "output_type": "stream",
       "stream": "stdout",
       "text": [
        "9.77586206897 11\n",
        "10.7521551724 8.5\n",
        "12.7047413793 15\n",
        "17.5862068966 18\n",
        "13.6810344828 11\n"
       ]
      }
     ],
     "prompt_number": 12
    },
    {
     "cell_type": "code",
     "collapsed": false,
     "input": [
      "# TODO Evaluate the model's performance.\n",
      "regressor.score(X_test, y_test)"
     ],
     "language": "python",
     "metadata": {},
     "outputs": [
      {
       "metadata": {},
       "output_type": "pyout",
       "prompt_number": 14,
       "text": [
        "0.6620052929422553"
       ]
      }
     ],
     "prompt_number": 14
    },
    {
     "cell_type": "code",
     "collapsed": false,
     "input": [
      "# TODO Now train and evaluate a model using your homework's data."
     ],
     "language": "python",
     "metadata": {},
     "outputs": [],
     "prompt_number": 15
    },
    {
     "cell_type": "code",
     "collapsed": false,
     "input": [],
     "language": "python",
     "metadata": {},
     "outputs": []
    }
   ],
   "metadata": {}
  }
 ]
}