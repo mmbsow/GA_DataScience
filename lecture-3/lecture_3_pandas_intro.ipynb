{
 "metadata": {
  "name": "",
  "signature": "sha256:700c64f6f808dca966ab86446bd4a5cb999cd1962d26641423b5166043d1b06b"
 },
 "nbformat": 3,
 "nbformat_minor": 0,
 "worksheets": [
  {
   "cells": [
    {
     "cell_type": "markdown",
     "metadata": {},
     "source": [
      "# Introduction to pandas\n",
      "\n",
      "* Object Creation\n",
      "* Viewing data\n",
      "* Selection\n",
      "* Missing data\n",
      "* Grouping\n",
      "* i/o\n",
      " \n",
      "_pandas.pydata.org_"
     ]
    },
    {
     "cell_type": "code",
     "collapsed": false,
     "input": [
      "import pandas as pd\n",
      "import numpy as np\n",
      "import matplotlib.pyplot as plt"
     ],
     "language": "python",
     "metadata": {
      "slideshow": {
       "slide_type": "subslide"
      }
     },
     "outputs": [],
     "prompt_number": 20
    },
    {
     "cell_type": "markdown",
     "metadata": {},
     "source": [
      "## Dataframes\n",
      "\n",
      "Two-dimensional size-mutable, potentially heterogeneous tabular data structure with labeled axes (rows and columns). Arithmetic operations align on both row and column labels. Can be thought of as a dict-like container for Series objects. The primary pandas data structure."
     ]
    },
    {
     "cell_type": "code",
     "collapsed": false,
     "input": [
      "dates = pd.date_range('20140814',periods=6)\n",
      "dates"
     ],
     "language": "python",
     "metadata": {
      "slideshow": {
       "slide_type": "subslide"
      }
     },
     "outputs": [
      {
       "metadata": {},
       "output_type": "pyout",
       "prompt_number": 25,
       "text": [
        "<class 'pandas.tseries.index.DatetimeIndex'>\n",
        "[2014-08-14, ..., 2014-08-19]\n",
        "Length: 6, Freq: D, Timezone: None"
       ]
      }
     ],
     "prompt_number": 25
    },
    {
     "cell_type": "code",
     "collapsed": false,
     "input": [
      "df = pd.DataFrame(np.random.randn(6,4),index=dates,columns=list('ABCD'))"
     ],
     "language": "python",
     "metadata": {
      "slideshow": {
       "slide_type": "subslide"
      }
     },
     "outputs": [],
     "prompt_number": 26
    },
    {
     "cell_type": "code",
     "collapsed": false,
     "input": [
      "# Index, columns, underlying numpy data\n",
      "df"
     ],
     "language": "python",
     "metadata": {
      "slideshow": {
       "slide_type": "subslide"
      }
     },
     "outputs": [
      {
       "html": [
        "<div style=\"max-height:1000px;max-width:1500px;overflow:auto;\">\n",
        "<table border=\"1\" class=\"dataframe\">\n",
        "  <thead>\n",
        "    <tr style=\"text-align: right;\">\n",
        "      <th></th>\n",
        "      <th>A</th>\n",
        "      <th>B</th>\n",
        "      <th>C</th>\n",
        "      <th>D</th>\n",
        "    </tr>\n",
        "  </thead>\n",
        "  <tbody>\n",
        "    <tr>\n",
        "      <th>2014-08-14</th>\n",
        "      <td> 0.197416</td>\n",
        "      <td> 0.072829</td>\n",
        "      <td> 1.133031</td>\n",
        "      <td>-0.729471</td>\n",
        "    </tr>\n",
        "    <tr>\n",
        "      <th>2014-08-15</th>\n",
        "      <td> 0.207718</td>\n",
        "      <td>-0.637203</td>\n",
        "      <td> 0.020358</td>\n",
        "      <td>-0.543631</td>\n",
        "    </tr>\n",
        "    <tr>\n",
        "      <th>2014-08-16</th>\n",
        "      <td>-0.645366</td>\n",
        "      <td>-0.244225</td>\n",
        "      <td> 0.048366</td>\n",
        "      <td>-0.807911</td>\n",
        "    </tr>\n",
        "    <tr>\n",
        "      <th>2014-08-17</th>\n",
        "      <td>-1.166493</td>\n",
        "      <td>-0.495450</td>\n",
        "      <td> 0.981768</td>\n",
        "      <td> 1.081041</td>\n",
        "    </tr>\n",
        "    <tr>\n",
        "      <th>2014-08-18</th>\n",
        "      <td> 1.025195</td>\n",
        "      <td> 1.592080</td>\n",
        "      <td>-0.082581</td>\n",
        "      <td>-1.221724</td>\n",
        "    </tr>\n",
        "    <tr>\n",
        "      <th>2014-08-19</th>\n",
        "      <td>-0.826848</td>\n",
        "      <td>-1.073428</td>\n",
        "      <td> 1.690653</td>\n",
        "      <td>-0.489614</td>\n",
        "    </tr>\n",
        "  </tbody>\n",
        "</table>\n",
        "<p>6 rows \u00d7 4 columns</p>\n",
        "</div>"
       ],
       "metadata": {},
       "output_type": "pyout",
       "prompt_number": 27,
       "text": [
        "                   A         B         C         D\n",
        "2014-08-14  0.197416  0.072829  1.133031 -0.729471\n",
        "2014-08-15  0.207718 -0.637203  0.020358 -0.543631\n",
        "2014-08-16 -0.645366 -0.244225  0.048366 -0.807911\n",
        "2014-08-17 -1.166493 -0.495450  0.981768  1.081041\n",
        "2014-08-18  1.025195  1.592080 -0.082581 -1.221724\n",
        "2014-08-19 -0.826848 -1.073428  1.690653 -0.489614\n",
        "\n",
        "[6 rows x 4 columns]"
       ]
      }
     ],
     "prompt_number": 27
    },
    {
     "cell_type": "code",
     "collapsed": false,
     "input": [
      "df2 = pd.DataFrame({ 'A' : 1.,\n",
      "                         'B' : pd.Timestamp('20130102'),\n",
      "                         'C' : pd.Series(1,index=list(range(4)),dtype='float32'),\n",
      "                         'D' : np.array([3] * 4,dtype='int32'),\n",
      "                         'E' : 'foo' })\n",
      "    \n",
      "\n",
      "df2"
     ],
     "language": "python",
     "metadata": {
      "slideshow": {
       "slide_type": "subslide"
      }
     },
     "outputs": [
      {
       "html": [
        "<div style=\"max-height:1000px;max-width:1500px;overflow:auto;\">\n",
        "<table border=\"1\" class=\"dataframe\">\n",
        "  <thead>\n",
        "    <tr style=\"text-align: right;\">\n",
        "      <th></th>\n",
        "      <th>A</th>\n",
        "      <th>B</th>\n",
        "      <th>C</th>\n",
        "      <th>D</th>\n",
        "      <th>E</th>\n",
        "    </tr>\n",
        "  </thead>\n",
        "  <tbody>\n",
        "    <tr>\n",
        "      <th>0</th>\n",
        "      <td> 1</td>\n",
        "      <td>2013-01-02</td>\n",
        "      <td> 1</td>\n",
        "      <td> 3</td>\n",
        "      <td> foo</td>\n",
        "    </tr>\n",
        "    <tr>\n",
        "      <th>1</th>\n",
        "      <td> 1</td>\n",
        "      <td>2013-01-02</td>\n",
        "      <td> 1</td>\n",
        "      <td> 3</td>\n",
        "      <td> foo</td>\n",
        "    </tr>\n",
        "    <tr>\n",
        "      <th>2</th>\n",
        "      <td> 1</td>\n",
        "      <td>2013-01-02</td>\n",
        "      <td> 1</td>\n",
        "      <td> 3</td>\n",
        "      <td> foo</td>\n",
        "    </tr>\n",
        "    <tr>\n",
        "      <th>3</th>\n",
        "      <td> 1</td>\n",
        "      <td>2013-01-02</td>\n",
        "      <td> 1</td>\n",
        "      <td> 3</td>\n",
        "      <td> foo</td>\n",
        "    </tr>\n",
        "  </tbody>\n",
        "</table>\n",
        "<p>4 rows \u00d7 5 columns</p>\n",
        "</div>"
       ],
       "metadata": {},
       "output_type": "pyout",
       "prompt_number": 28,
       "text": [
        "   A          B  C  D    E\n",
        "0  1 2013-01-02  1  3  foo\n",
        "1  1 2013-01-02  1  3  foo\n",
        "2  1 2013-01-02  1  3  foo\n",
        "3  1 2013-01-02  1  3  foo\n",
        "\n",
        "[4 rows x 5 columns]"
       ]
      }
     ],
     "prompt_number": 28
    },
    {
     "cell_type": "code",
     "collapsed": false,
     "input": [
      "# With specific dtypes\n",
      "df2.dtypes"
     ],
     "language": "python",
     "metadata": {
      "slideshow": {
       "slide_type": "subslide"
      }
     },
     "outputs": [
      {
       "metadata": {},
       "output_type": "pyout",
       "prompt_number": 29,
       "text": [
        "A           float64\n",
        "B    datetime64[ns]\n",
        "C           float32\n",
        "D             int32\n",
        "E            object\n",
        "dtype: object"
       ]
      }
     ],
     "prompt_number": 29
    },
    {
     "cell_type": "markdown",
     "metadata": {
      "slideshow": {
       "slide_type": "slide"
      }
     },
     "source": [
      "#### Viewing Data"
     ]
    },
    {
     "cell_type": "code",
     "collapsed": false,
     "input": [
      "df.head(2)"
     ],
     "language": "python",
     "metadata": {
      "slideshow": {
       "slide_type": "subslide"
      }
     },
     "outputs": [
      {
       "html": [
        "<div style=\"max-height:1000px;max-width:1500px;overflow:auto;\">\n",
        "<table border=\"1\" class=\"dataframe\">\n",
        "  <thead>\n",
        "    <tr style=\"text-align: right;\">\n",
        "      <th></th>\n",
        "      <th>A</th>\n",
        "      <th>B</th>\n",
        "      <th>C</th>\n",
        "      <th>D</th>\n",
        "    </tr>\n",
        "  </thead>\n",
        "  <tbody>\n",
        "    <tr>\n",
        "      <th>2014-08-14</th>\n",
        "      <td> 0.197416</td>\n",
        "      <td> 0.072829</td>\n",
        "      <td> 1.133031</td>\n",
        "      <td>-0.729471</td>\n",
        "    </tr>\n",
        "    <tr>\n",
        "      <th>2014-08-15</th>\n",
        "      <td> 0.207718</td>\n",
        "      <td>-0.637203</td>\n",
        "      <td> 0.020358</td>\n",
        "      <td>-0.543631</td>\n",
        "    </tr>\n",
        "  </tbody>\n",
        "</table>\n",
        "<p>2 rows \u00d7 4 columns</p>\n",
        "</div>"
       ],
       "metadata": {},
       "output_type": "pyout",
       "prompt_number": 32,
       "text": [
        "                   A         B         C         D\n",
        "2014-08-14  0.197416  0.072829  1.133031 -0.729471\n",
        "2014-08-15  0.207718 -0.637203  0.020358 -0.543631\n",
        "\n",
        "[2 rows x 4 columns]"
       ]
      }
     ],
     "prompt_number": 32
    },
    {
     "cell_type": "code",
     "collapsed": false,
     "input": [
      "df.tail(1)"
     ],
     "language": "python",
     "metadata": {
      "slideshow": {
       "slide_type": "fragment"
      }
     },
     "outputs": [
      {
       "html": [
        "<div style=\"max-height:1000px;max-width:1500px;overflow:auto;\">\n",
        "<table border=\"1\" class=\"dataframe\">\n",
        "  <thead>\n",
        "    <tr style=\"text-align: right;\">\n",
        "      <th></th>\n",
        "      <th>A</th>\n",
        "      <th>B</th>\n",
        "      <th>C</th>\n",
        "      <th>D</th>\n",
        "    </tr>\n",
        "  </thead>\n",
        "  <tbody>\n",
        "    <tr>\n",
        "      <th>2014-08-19</th>\n",
        "      <td>-0.826848</td>\n",
        "      <td>-1.073428</td>\n",
        "      <td> 1.690653</td>\n",
        "      <td>-0.489614</td>\n",
        "    </tr>\n",
        "  </tbody>\n",
        "</table>\n",
        "<p>1 rows \u00d7 4 columns</p>\n",
        "</div>"
       ],
       "metadata": {},
       "output_type": "pyout",
       "prompt_number": 33,
       "text": [
        "                   A         B         C         D\n",
        "2014-08-19 -0.826848 -1.073428  1.690653 -0.489614\n",
        "\n",
        "[1 rows x 4 columns]"
       ]
      }
     ],
     "prompt_number": 33
    },
    {
     "cell_type": "code",
     "collapsed": false,
     "input": [
      "df.index"
     ],
     "language": "python",
     "metadata": {
      "slideshow": {
       "slide_type": "subslide"
      }
     },
     "outputs": [
      {
       "metadata": {},
       "output_type": "pyout",
       "prompt_number": 34,
       "text": [
        "<class 'pandas.tseries.index.DatetimeIndex'>\n",
        "[2014-08-14, ..., 2014-08-19]\n",
        "Length: 6, Freq: D, Timezone: None"
       ]
      }
     ],
     "prompt_number": 34
    },
    {
     "cell_type": "code",
     "collapsed": false,
     "input": [
      "df.describe()"
     ],
     "language": "python",
     "metadata": {
      "slideshow": {
       "slide_type": "subslide"
      }
     },
     "outputs": [
      {
       "html": [
        "<div style=\"max-height:1000px;max-width:1500px;overflow:auto;\">\n",
        "<table border=\"1\" class=\"dataframe\">\n",
        "  <thead>\n",
        "    <tr style=\"text-align: right;\">\n",
        "      <th></th>\n",
        "      <th>A</th>\n",
        "      <th>B</th>\n",
        "      <th>C</th>\n",
        "      <th>D</th>\n",
        "    </tr>\n",
        "  </thead>\n",
        "  <tbody>\n",
        "    <tr>\n",
        "      <th>count</th>\n",
        "      <td> 6.000000</td>\n",
        "      <td> 6.000000</td>\n",
        "      <td> 6.000000</td>\n",
        "      <td> 6.000000</td>\n",
        "    </tr>\n",
        "    <tr>\n",
        "      <th>mean</th>\n",
        "      <td>-0.201397</td>\n",
        "      <td>-0.130900</td>\n",
        "      <td> 0.631932</td>\n",
        "      <td>-0.451885</td>\n",
        "    </tr>\n",
        "    <tr>\n",
        "      <th>std</th>\n",
        "      <td> 0.818616</td>\n",
        "      <td> 0.927427</td>\n",
        "      <td> 0.737492</td>\n",
        "      <td> 0.794501</td>\n",
        "    </tr>\n",
        "    <tr>\n",
        "      <th>min</th>\n",
        "      <td>-1.166493</td>\n",
        "      <td>-1.073428</td>\n",
        "      <td>-0.082581</td>\n",
        "      <td>-1.221724</td>\n",
        "    </tr>\n",
        "    <tr>\n",
        "      <th>25%</th>\n",
        "      <td>-0.781478</td>\n",
        "      <td>-0.601765</td>\n",
        "      <td> 0.027360</td>\n",
        "      <td>-0.788301</td>\n",
        "    </tr>\n",
        "    <tr>\n",
        "      <th>50%</th>\n",
        "      <td>-0.223975</td>\n",
        "      <td>-0.369838</td>\n",
        "      <td> 0.515067</td>\n",
        "      <td>-0.636551</td>\n",
        "    </tr>\n",
        "    <tr>\n",
        "      <th>75%</th>\n",
        "      <td> 0.205142</td>\n",
        "      <td>-0.006434</td>\n",
        "      <td> 1.095215</td>\n",
        "      <td>-0.503118</td>\n",
        "    </tr>\n",
        "    <tr>\n",
        "      <th>max</th>\n",
        "      <td> 1.025195</td>\n",
        "      <td> 1.592080</td>\n",
        "      <td> 1.690653</td>\n",
        "      <td> 1.081041</td>\n",
        "    </tr>\n",
        "  </tbody>\n",
        "</table>\n",
        "<p>8 rows \u00d7 4 columns</p>\n",
        "</div>"
       ],
       "metadata": {},
       "output_type": "pyout",
       "prompt_number": 35,
       "text": [
        "              A         B         C         D\n",
        "count  6.000000  6.000000  6.000000  6.000000\n",
        "mean  -0.201397 -0.130900  0.631932 -0.451885\n",
        "std    0.818616  0.927427  0.737492  0.794501\n",
        "min   -1.166493 -1.073428 -0.082581 -1.221724\n",
        "25%   -0.781478 -0.601765  0.027360 -0.788301\n",
        "50%   -0.223975 -0.369838  0.515067 -0.636551\n",
        "75%    0.205142 -0.006434  1.095215 -0.503118\n",
        "max    1.025195  1.592080  1.690653  1.081041\n",
        "\n",
        "[8 rows x 4 columns]"
       ]
      }
     ],
     "prompt_number": 35
    },
    {
     "cell_type": "code",
     "collapsed": false,
     "input": [
      "df.sort(columns='B')"
     ],
     "language": "python",
     "metadata": {
      "slideshow": {
       "slide_type": "subslide"
      }
     },
     "outputs": [
      {
       "html": [
        "<div style=\"max-height:1000px;max-width:1500px;overflow:auto;\">\n",
        "<table border=\"1\" class=\"dataframe\">\n",
        "  <thead>\n",
        "    <tr style=\"text-align: right;\">\n",
        "      <th></th>\n",
        "      <th>A</th>\n",
        "      <th>B</th>\n",
        "      <th>C</th>\n",
        "      <th>D</th>\n",
        "    </tr>\n",
        "  </thead>\n",
        "  <tbody>\n",
        "    <tr>\n",
        "      <th>2014-08-19</th>\n",
        "      <td>-0.826848</td>\n",
        "      <td>-1.073428</td>\n",
        "      <td> 1.690653</td>\n",
        "      <td>-0.489614</td>\n",
        "    </tr>\n",
        "    <tr>\n",
        "      <th>2014-08-15</th>\n",
        "      <td> 0.207718</td>\n",
        "      <td>-0.637203</td>\n",
        "      <td> 0.020358</td>\n",
        "      <td>-0.543631</td>\n",
        "    </tr>\n",
        "    <tr>\n",
        "      <th>2014-08-17</th>\n",
        "      <td>-1.166493</td>\n",
        "      <td>-0.495450</td>\n",
        "      <td> 0.981768</td>\n",
        "      <td> 1.081041</td>\n",
        "    </tr>\n",
        "    <tr>\n",
        "      <th>2014-08-16</th>\n",
        "      <td>-0.645366</td>\n",
        "      <td>-0.244225</td>\n",
        "      <td> 0.048366</td>\n",
        "      <td>-0.807911</td>\n",
        "    </tr>\n",
        "    <tr>\n",
        "      <th>2014-08-14</th>\n",
        "      <td> 0.197416</td>\n",
        "      <td> 0.072829</td>\n",
        "      <td> 1.133031</td>\n",
        "      <td>-0.729471</td>\n",
        "    </tr>\n",
        "    <tr>\n",
        "      <th>2014-08-18</th>\n",
        "      <td> 1.025195</td>\n",
        "      <td> 1.592080</td>\n",
        "      <td>-0.082581</td>\n",
        "      <td>-1.221724</td>\n",
        "    </tr>\n",
        "  </tbody>\n",
        "</table>\n",
        "<p>6 rows \u00d7 4 columns</p>\n",
        "</div>"
       ],
       "metadata": {},
       "output_type": "pyout",
       "prompt_number": 36,
       "text": [
        "                   A         B         C         D\n",
        "2014-08-19 -0.826848 -1.073428  1.690653 -0.489614\n",
        "2014-08-15  0.207718 -0.637203  0.020358 -0.543631\n",
        "2014-08-17 -1.166493 -0.495450  0.981768  1.081041\n",
        "2014-08-16 -0.645366 -0.244225  0.048366 -0.807911\n",
        "2014-08-14  0.197416  0.072829  1.133031 -0.729471\n",
        "2014-08-18  1.025195  1.592080 -0.082581 -1.221724\n",
        "\n",
        "[6 rows x 4 columns]"
       ]
      }
     ],
     "prompt_number": 36
    },
    {
     "cell_type": "markdown",
     "metadata": {
      "slideshow": {
       "slide_type": "slide"
      }
     },
     "source": [
      "### Selection"
     ]
    },
    {
     "cell_type": "code",
     "collapsed": false,
     "input": [
      "print df\n",
      "df['A']"
     ],
     "language": "python",
     "metadata": {
      "slideshow": {
       "slide_type": "subslide"
      }
     },
     "outputs": [
      {
       "output_type": "stream",
       "stream": "stdout",
       "text": [
        "                   A         B         C         D\n",
        "2014-08-14  0.197416  0.072829  1.133031 -0.729471\n",
        "2014-08-15  0.207718 -0.637203  0.020358 -0.543631\n",
        "2014-08-16 -0.645366 -0.244225  0.048366 -0.807911\n",
        "2014-08-17 -1.166493 -0.495450  0.981768  1.081041\n",
        "2014-08-18  1.025195  1.592080 -0.082581 -1.221724\n",
        "2014-08-19 -0.826848 -1.073428  1.690653 -0.489614\n",
        "\n",
        "[6 rows x 4 columns]\n"
       ]
      },
      {
       "metadata": {},
       "output_type": "pyout",
       "prompt_number": 39,
       "text": [
        "2014-08-14    0.197416\n",
        "2014-08-15    0.207718\n",
        "2014-08-16   -0.645366\n",
        "2014-08-17   -1.166493\n",
        "2014-08-18    1.025195\n",
        "2014-08-19   -0.826848\n",
        "Freq: D, Name: A, dtype: float64"
       ]
      }
     ],
     "prompt_number": 39
    },
    {
     "cell_type": "code",
     "collapsed": false,
     "input": [
      "df[0:3]"
     ],
     "language": "python",
     "metadata": {
      "slideshow": {
       "slide_type": "subslide"
      }
     },
     "outputs": [
      {
       "html": [
        "<div style=\"max-height:1000px;max-width:1500px;overflow:auto;\">\n",
        "<table border=\"1\" class=\"dataframe\">\n",
        "  <thead>\n",
        "    <tr style=\"text-align: right;\">\n",
        "      <th></th>\n",
        "      <th>A</th>\n",
        "      <th>B</th>\n",
        "      <th>C</th>\n",
        "      <th>D</th>\n",
        "    </tr>\n",
        "  </thead>\n",
        "  <tbody>\n",
        "    <tr>\n",
        "      <th>2014-08-14</th>\n",
        "      <td> 0.197416</td>\n",
        "      <td> 0.072829</td>\n",
        "      <td> 1.133031</td>\n",
        "      <td>-0.729471</td>\n",
        "    </tr>\n",
        "    <tr>\n",
        "      <th>2014-08-15</th>\n",
        "      <td> 0.207718</td>\n",
        "      <td>-0.637203</td>\n",
        "      <td> 0.020358</td>\n",
        "      <td>-0.543631</td>\n",
        "    </tr>\n",
        "    <tr>\n",
        "      <th>2014-08-16</th>\n",
        "      <td>-0.645366</td>\n",
        "      <td>-0.244225</td>\n",
        "      <td> 0.048366</td>\n",
        "      <td>-0.807911</td>\n",
        "    </tr>\n",
        "  </tbody>\n",
        "</table>\n",
        "<p>3 rows \u00d7 4 columns</p>\n",
        "</div>"
       ],
       "metadata": {},
       "output_type": "pyout",
       "prompt_number": 40,
       "text": [
        "                   A         B         C         D\n",
        "2014-08-14  0.197416  0.072829  1.133031 -0.729471\n",
        "2014-08-15  0.207718 -0.637203  0.020358 -0.543631\n",
        "2014-08-16 -0.645366 -0.244225  0.048366 -0.807911\n",
        "\n",
        "[3 rows x 4 columns]"
       ]
      }
     ],
     "prompt_number": 40
    },
    {
     "cell_type": "code",
     "collapsed": false,
     "input": [
      "# By label\n",
      "df.loc[dates[0]]"
     ],
     "language": "python",
     "metadata": {
      "slideshow": {
       "slide_type": "subslide"
      }
     },
     "outputs": [
      {
       "metadata": {},
       "output_type": "pyout",
       "prompt_number": 41,
       "text": [
        "A    0.197416\n",
        "B    0.072829\n",
        "C    1.133031\n",
        "D   -0.729471\n",
        "Name: 2014-08-14 00:00:00, dtype: float64"
       ]
      }
     ],
     "prompt_number": 41
    },
    {
     "cell_type": "code",
     "collapsed": false,
     "input": [
      "# multi-axis by label\n",
      "df.loc[:,['A','B']]"
     ],
     "language": "python",
     "metadata": {
      "slideshow": {
       "slide_type": "fragment"
      }
     },
     "outputs": [
      {
       "html": [
        "<div style=\"max-height:1000px;max-width:1500px;overflow:auto;\">\n",
        "<table border=\"1\" class=\"dataframe\">\n",
        "  <thead>\n",
        "    <tr style=\"text-align: right;\">\n",
        "      <th></th>\n",
        "      <th>A</th>\n",
        "      <th>B</th>\n",
        "    </tr>\n",
        "  </thead>\n",
        "  <tbody>\n",
        "    <tr>\n",
        "      <th>2014-08-14</th>\n",
        "      <td> 0.197416</td>\n",
        "      <td> 0.072829</td>\n",
        "    </tr>\n",
        "    <tr>\n",
        "      <th>2014-08-15</th>\n",
        "      <td> 0.207718</td>\n",
        "      <td>-0.637203</td>\n",
        "    </tr>\n",
        "    <tr>\n",
        "      <th>2014-08-16</th>\n",
        "      <td>-0.645366</td>\n",
        "      <td>-0.244225</td>\n",
        "    </tr>\n",
        "    <tr>\n",
        "      <th>2014-08-17</th>\n",
        "      <td>-1.166493</td>\n",
        "      <td>-0.495450</td>\n",
        "    </tr>\n",
        "    <tr>\n",
        "      <th>2014-08-18</th>\n",
        "      <td> 1.025195</td>\n",
        "      <td> 1.592080</td>\n",
        "    </tr>\n",
        "    <tr>\n",
        "      <th>2014-08-19</th>\n",
        "      <td>-0.826848</td>\n",
        "      <td>-1.073428</td>\n",
        "    </tr>\n",
        "  </tbody>\n",
        "</table>\n",
        "<p>6 rows \u00d7 2 columns</p>\n",
        "</div>"
       ],
       "metadata": {},
       "output_type": "pyout",
       "prompt_number": 47,
       "text": [
        "                   A         B\n",
        "2014-08-14  0.197416  0.072829\n",
        "2014-08-15  0.207718 -0.637203\n",
        "2014-08-16 -0.645366 -0.244225\n",
        "2014-08-17 -1.166493 -0.495450\n",
        "2014-08-18  1.025195  1.592080\n",
        "2014-08-19 -0.826848 -1.073428\n",
        "\n",
        "[6 rows x 2 columns]"
       ]
      }
     ],
     "prompt_number": 47
    },
    {
     "cell_type": "code",
     "collapsed": false,
     "input": [
      "# Date Range\n",
      "df.loc['20140814':'20140816',['B']]"
     ],
     "language": "python",
     "metadata": {
      "slideshow": {
       "slide_type": "fragment"
      }
     },
     "outputs": [
      {
       "html": [
        "<div style=\"max-height:1000px;max-width:1500px;overflow:auto;\">\n",
        "<table border=\"1\" class=\"dataframe\">\n",
        "  <thead>\n",
        "    <tr style=\"text-align: right;\">\n",
        "      <th></th>\n",
        "      <th>B</th>\n",
        "    </tr>\n",
        "  </thead>\n",
        "  <tbody>\n",
        "    <tr>\n",
        "      <th>2014-08-14</th>\n",
        "      <td> 0.072829</td>\n",
        "    </tr>\n",
        "    <tr>\n",
        "      <th>2014-08-15</th>\n",
        "      <td>-0.637203</td>\n",
        "    </tr>\n",
        "    <tr>\n",
        "      <th>2014-08-16</th>\n",
        "      <td>-0.244225</td>\n",
        "    </tr>\n",
        "  </tbody>\n",
        "</table>\n",
        "<p>3 rows \u00d7 1 columns</p>\n",
        "</div>"
       ],
       "metadata": {},
       "output_type": "pyout",
       "prompt_number": 50,
       "text": [
        "                   B\n",
        "2014-08-14  0.072829\n",
        "2014-08-15 -0.637203\n",
        "2014-08-16 -0.244225\n",
        "\n",
        "[3 rows x 1 columns]"
       ]
      }
     ],
     "prompt_number": 50
    },
    {
     "cell_type": "code",
     "collapsed": false,
     "input": [
      "# Fast access to scalar\n",
      "print df\n",
      "df.at[dates[1],'B']"
     ],
     "language": "python",
     "metadata": {
      "slideshow": {
       "slide_type": "fragment"
      }
     },
     "outputs": [
      {
       "output_type": "stream",
       "stream": "stdout",
       "text": [
        "                   A         B         C         D\n",
        "2014-08-14  0.197416  0.072829  1.133031 -0.729471\n",
        "2014-08-15  0.207718 -0.637203  0.020358 -0.543631\n",
        "2014-08-16 -0.645366 -0.244225  0.048366 -0.807911\n",
        "2014-08-17 -1.166493 -0.495450  0.981768  1.081041\n",
        "2014-08-18  1.025195  1.592080 -0.082581 -1.221724\n",
        "2014-08-19 -0.826848 -1.073428  1.690653 -0.489614\n",
        "\n",
        "[6 rows x 4 columns]\n"
       ]
      },
      {
       "metadata": {},
       "output_type": "pyout",
       "prompt_number": 52,
       "text": [
        "-0.63720332096936871"
       ]
      }
     ],
     "prompt_number": 52
    },
    {
     "cell_type": "markdown",
     "metadata": {
      "slideshow": {
       "slide_type": "subslide"
      }
     },
     "source": [
      "#### Boolean Indexing"
     ]
    },
    {
     "cell_type": "code",
     "collapsed": false,
     "input": [
      "print df\n",
      "df[df.A < 0] # Basically a 'where' operation"
     ],
     "language": "python",
     "metadata": {
      "slideshow": {
       "slide_type": "fragment"
      }
     },
     "outputs": [
      {
       "output_type": "stream",
       "stream": "stdout",
       "text": [
        "                   A         B         C         D\n",
        "2014-08-14  0.197416  0.072829  1.133031 -0.729471\n",
        "2014-08-15  0.207718 -0.637203  0.020358 -0.543631\n",
        "2014-08-16 -0.645366 -0.244225  0.048366 -0.807911\n",
        "2014-08-17 -1.166493 -0.495450  0.981768  1.081041\n",
        "2014-08-18  1.025195  1.592080 -0.082581 -1.221724\n",
        "2014-08-19 -0.826848 -1.073428  1.690653 -0.489614\n",
        "\n",
        "[6 rows x 4 columns]\n"
       ]
      },
      {
       "html": [
        "<div style=\"max-height:1000px;max-width:1500px;overflow:auto;\">\n",
        "<table border=\"1\" class=\"dataframe\">\n",
        "  <thead>\n",
        "    <tr style=\"text-align: right;\">\n",
        "      <th></th>\n",
        "      <th>A</th>\n",
        "      <th>B</th>\n",
        "      <th>C</th>\n",
        "      <th>D</th>\n",
        "    </tr>\n",
        "  </thead>\n",
        "  <tbody>\n",
        "    <tr>\n",
        "      <th>2014-08-16</th>\n",
        "      <td>-0.645366</td>\n",
        "      <td>-0.244225</td>\n",
        "      <td> 0.048366</td>\n",
        "      <td>-0.807911</td>\n",
        "    </tr>\n",
        "    <tr>\n",
        "      <th>2014-08-17</th>\n",
        "      <td>-1.166493</td>\n",
        "      <td>-0.495450</td>\n",
        "      <td> 0.981768</td>\n",
        "      <td> 1.081041</td>\n",
        "    </tr>\n",
        "    <tr>\n",
        "      <th>2014-08-19</th>\n",
        "      <td>-0.826848</td>\n",
        "      <td>-1.073428</td>\n",
        "      <td> 1.690653</td>\n",
        "      <td>-0.489614</td>\n",
        "    </tr>\n",
        "  </tbody>\n",
        "</table>\n",
        "<p>3 rows \u00d7 4 columns</p>\n",
        "</div>"
       ],
       "metadata": {},
       "output_type": "pyout",
       "prompt_number": 55,
       "text": [
        "                   A         B         C         D\n",
        "2014-08-16 -0.645366 -0.244225  0.048366 -0.807911\n",
        "2014-08-17 -1.166493 -0.495450  0.981768  1.081041\n",
        "2014-08-19 -0.826848 -1.073428  1.690653 -0.489614\n",
        "\n",
        "[3 rows x 4 columns]"
       ]
      }
     ],
     "prompt_number": 55
    },
    {
     "cell_type": "markdown",
     "metadata": {
      "slideshow": {
       "slide_type": "subslide"
      }
     },
     "source": [
      "#### Setting"
     ]
    },
    {
     "cell_type": "code",
     "collapsed": false,
     "input": [
      "df_posA = df.copy() # Without \"copy\" it would act on the dataset\n",
      "df_posA[df_posA.A < 0] = -1*df_posA"
     ],
     "language": "python",
     "metadata": {
      "slideshow": {
       "slide_type": "fragment"
      }
     },
     "outputs": [],
     "prompt_number": 56
    },
    {
     "cell_type": "code",
     "collapsed": false,
     "input": [
      "df_posA"
     ],
     "language": "python",
     "metadata": {
      "slideshow": {
       "slide_type": "fragment"
      }
     },
     "outputs": [
      {
       "html": [
        "<div style=\"max-height:1000px;max-width:1500px;overflow:auto;\">\n",
        "<table border=\"1\" class=\"dataframe\">\n",
        "  <thead>\n",
        "    <tr style=\"text-align: right;\">\n",
        "      <th></th>\n",
        "      <th>A</th>\n",
        "      <th>B</th>\n",
        "      <th>C</th>\n",
        "      <th>D</th>\n",
        "    </tr>\n",
        "  </thead>\n",
        "  <tbody>\n",
        "    <tr>\n",
        "      <th>2014-08-14</th>\n",
        "      <td> 0.197416</td>\n",
        "      <td> 0.072829</td>\n",
        "      <td> 1.133031</td>\n",
        "      <td>-0.729471</td>\n",
        "    </tr>\n",
        "    <tr>\n",
        "      <th>2014-08-15</th>\n",
        "      <td> 0.207718</td>\n",
        "      <td>-0.637203</td>\n",
        "      <td> 0.020358</td>\n",
        "      <td>-0.543631</td>\n",
        "    </tr>\n",
        "    <tr>\n",
        "      <th>2014-08-16</th>\n",
        "      <td> 0.645366</td>\n",
        "      <td> 0.244225</td>\n",
        "      <td>-0.048366</td>\n",
        "      <td> 0.807911</td>\n",
        "    </tr>\n",
        "    <tr>\n",
        "      <th>2014-08-17</th>\n",
        "      <td> 1.166493</td>\n",
        "      <td> 0.495450</td>\n",
        "      <td>-0.981768</td>\n",
        "      <td>-1.081041</td>\n",
        "    </tr>\n",
        "    <tr>\n",
        "      <th>2014-08-18</th>\n",
        "      <td> 1.025195</td>\n",
        "      <td> 1.592080</td>\n",
        "      <td>-0.082581</td>\n",
        "      <td>-1.221724</td>\n",
        "    </tr>\n",
        "    <tr>\n",
        "      <th>2014-08-19</th>\n",
        "      <td> 0.826848</td>\n",
        "      <td> 1.073428</td>\n",
        "      <td>-1.690653</td>\n",
        "      <td> 0.489614</td>\n",
        "    </tr>\n",
        "  </tbody>\n",
        "</table>\n",
        "<p>6 rows \u00d7 4 columns</p>\n",
        "</div>"
       ],
       "metadata": {},
       "output_type": "pyout",
       "prompt_number": 57,
       "text": [
        "                   A         B         C         D\n",
        "2014-08-14  0.197416  0.072829  1.133031 -0.729471\n",
        "2014-08-15  0.207718 -0.637203  0.020358 -0.543631\n",
        "2014-08-16  0.645366  0.244225 -0.048366  0.807911\n",
        "2014-08-17  1.166493  0.495450 -0.981768 -1.081041\n",
        "2014-08-18  1.025195  1.592080 -0.082581 -1.221724\n",
        "2014-08-19  0.826848  1.073428 -1.690653  0.489614\n",
        "\n",
        "[6 rows x 4 columns]"
       ]
      }
     ],
     "prompt_number": 57
    },
    {
     "cell_type": "code",
     "collapsed": false,
     "input": [
      "#Setting new column aligns data by index\n",
      "s1 = pd.Series([1,2,3,4,5,6],index=pd.date_range('20140814',periods=6))"
     ],
     "language": "python",
     "metadata": {
      "slideshow": {
       "slide_type": "subslide"
      }
     },
     "outputs": [],
     "prompt_number": 60
    },
    {
     "cell_type": "code",
     "collapsed": false,
     "input": [
      "s1"
     ],
     "language": "python",
     "metadata": {
      "slideshow": {
       "slide_type": "fragment"
      }
     },
     "outputs": [
      {
       "metadata": {},
       "output_type": "pyout",
       "prompt_number": 61,
       "text": [
        "2014-08-14    1\n",
        "2014-08-15    2\n",
        "2014-08-16    3\n",
        "2014-08-17    4\n",
        "2014-08-18    5\n",
        "2014-08-19    6\n",
        "Freq: D, dtype: int64"
       ]
      }
     ],
     "prompt_number": 61
    },
    {
     "cell_type": "code",
     "collapsed": false,
     "input": [
      "df['F'] = s1"
     ],
     "language": "python",
     "metadata": {
      "slideshow": {
       "slide_type": "fragment"
      }
     },
     "outputs": [],
     "prompt_number": 62
    },
    {
     "cell_type": "code",
     "collapsed": false,
     "input": [
      "df"
     ],
     "language": "python",
     "metadata": {
      "slideshow": {
       "slide_type": "fragment"
      }
     },
     "outputs": [
      {
       "html": [
        "<div style=\"max-height:1000px;max-width:1500px;overflow:auto;\">\n",
        "<table border=\"1\" class=\"dataframe\">\n",
        "  <thead>\n",
        "    <tr style=\"text-align: right;\">\n",
        "      <th></th>\n",
        "      <th>A</th>\n",
        "      <th>B</th>\n",
        "      <th>C</th>\n",
        "      <th>D</th>\n",
        "      <th>F</th>\n",
        "    </tr>\n",
        "  </thead>\n",
        "  <tbody>\n",
        "    <tr>\n",
        "      <th>2014-08-14</th>\n",
        "      <td> 0.197416</td>\n",
        "      <td> 0.072829</td>\n",
        "      <td> 1.133031</td>\n",
        "      <td>-0.729471</td>\n",
        "      <td> 1</td>\n",
        "    </tr>\n",
        "    <tr>\n",
        "      <th>2014-08-15</th>\n",
        "      <td> 0.207718</td>\n",
        "      <td>-0.637203</td>\n",
        "      <td> 0.020358</td>\n",
        "      <td>-0.543631</td>\n",
        "      <td> 2</td>\n",
        "    </tr>\n",
        "    <tr>\n",
        "      <th>2014-08-16</th>\n",
        "      <td>-0.645366</td>\n",
        "      <td>-0.244225</td>\n",
        "      <td> 0.048366</td>\n",
        "      <td>-0.807911</td>\n",
        "      <td> 3</td>\n",
        "    </tr>\n",
        "    <tr>\n",
        "      <th>2014-08-17</th>\n",
        "      <td>-1.166493</td>\n",
        "      <td>-0.495450</td>\n",
        "      <td> 0.981768</td>\n",
        "      <td> 1.081041</td>\n",
        "      <td> 4</td>\n",
        "    </tr>\n",
        "    <tr>\n",
        "      <th>2014-08-18</th>\n",
        "      <td> 1.025195</td>\n",
        "      <td> 1.592080</td>\n",
        "      <td>-0.082581</td>\n",
        "      <td>-1.221724</td>\n",
        "      <td> 5</td>\n",
        "    </tr>\n",
        "    <tr>\n",
        "      <th>2014-08-19</th>\n",
        "      <td>-0.826848</td>\n",
        "      <td>-1.073428</td>\n",
        "      <td> 1.690653</td>\n",
        "      <td>-0.489614</td>\n",
        "      <td> 6</td>\n",
        "    </tr>\n",
        "  </tbody>\n",
        "</table>\n",
        "<p>6 rows \u00d7 5 columns</p>\n",
        "</div>"
       ],
       "metadata": {},
       "output_type": "pyout",
       "prompt_number": 63,
       "text": [
        "                   A         B         C         D  F\n",
        "2014-08-14  0.197416  0.072829  1.133031 -0.729471  1\n",
        "2014-08-15  0.207718 -0.637203  0.020358 -0.543631  2\n",
        "2014-08-16 -0.645366 -0.244225  0.048366 -0.807911  3\n",
        "2014-08-17 -1.166493 -0.495450  0.981768  1.081041  4\n",
        "2014-08-18  1.025195  1.592080 -0.082581 -1.221724  5\n",
        "2014-08-19 -0.826848 -1.073428  1.690653 -0.489614  6\n",
        "\n",
        "[6 rows x 5 columns]"
       ]
      }
     ],
     "prompt_number": 63
    },
    {
     "cell_type": "markdown",
     "metadata": {
      "slideshow": {
       "slide_type": "slide"
      }
     },
     "source": [
      "### Missing Data"
     ]
    },
    {
     "cell_type": "code",
     "collapsed": false,
     "input": [
      "# Add a column with missing data\n",
      "df1 = df.reindex(index=dates[0:4], columns=list(df.columns) + ['E'])"
     ],
     "language": "python",
     "metadata": {
      "slideshow": {
       "slide_type": "subslide"
      }
     },
     "outputs": [],
     "prompt_number": 69
    },
    {
     "cell_type": "code",
     "collapsed": false,
     "input": [
      "df1.loc[dates[0]:dates[1],'E'] = 1"
     ],
     "language": "python",
     "metadata": {
      "slideshow": {
       "slide_type": "subslide"
      }
     },
     "outputs": [],
     "prompt_number": 70
    },
    {
     "cell_type": "code",
     "collapsed": false,
     "input": [
      "df1"
     ],
     "language": "python",
     "metadata": {
      "slideshow": {
       "slide_type": "fragment"
      }
     },
     "outputs": [
      {
       "html": [
        "<div style=\"max-height:1000px;max-width:1500px;overflow:auto;\">\n",
        "<table border=\"1\" class=\"dataframe\">\n",
        "  <thead>\n",
        "    <tr style=\"text-align: right;\">\n",
        "      <th></th>\n",
        "      <th>A</th>\n",
        "      <th>B</th>\n",
        "      <th>C</th>\n",
        "      <th>D</th>\n",
        "      <th>F</th>\n",
        "      <th>E</th>\n",
        "    </tr>\n",
        "  </thead>\n",
        "  <tbody>\n",
        "    <tr>\n",
        "      <th>2014-08-14</th>\n",
        "      <td> 0.197416</td>\n",
        "      <td> 0.072829</td>\n",
        "      <td> 1.133031</td>\n",
        "      <td>-0.729471</td>\n",
        "      <td> 1</td>\n",
        "      <td>  1</td>\n",
        "    </tr>\n",
        "    <tr>\n",
        "      <th>2014-08-15</th>\n",
        "      <td> 0.207718</td>\n",
        "      <td>-0.637203</td>\n",
        "      <td> 0.020358</td>\n",
        "      <td>-0.543631</td>\n",
        "      <td> 2</td>\n",
        "      <td>  1</td>\n",
        "    </tr>\n",
        "    <tr>\n",
        "      <th>2014-08-16</th>\n",
        "      <td>-0.645366</td>\n",
        "      <td>-0.244225</td>\n",
        "      <td> 0.048366</td>\n",
        "      <td>-0.807911</td>\n",
        "      <td> 3</td>\n",
        "      <td>NaN</td>\n",
        "    </tr>\n",
        "    <tr>\n",
        "      <th>2014-08-17</th>\n",
        "      <td>-1.166493</td>\n",
        "      <td>-0.495450</td>\n",
        "      <td> 0.981768</td>\n",
        "      <td> 1.081041</td>\n",
        "      <td> 4</td>\n",
        "      <td>NaN</td>\n",
        "    </tr>\n",
        "  </tbody>\n",
        "</table>\n",
        "<p>4 rows \u00d7 6 columns</p>\n",
        "</div>"
       ],
       "metadata": {},
       "output_type": "pyout",
       "prompt_number": 72,
       "text": [
        "                   A         B         C         D  F   E\n",
        "2014-08-14  0.197416  0.072829  1.133031 -0.729471  1   1\n",
        "2014-08-15  0.207718 -0.637203  0.020358 -0.543631  2   1\n",
        "2014-08-16 -0.645366 -0.244225  0.048366 -0.807911  3 NaN\n",
        "2014-08-17 -1.166493 -0.495450  0.981768  1.081041  4 NaN\n",
        "\n",
        "[4 rows x 6 columns]"
       ]
      }
     ],
     "prompt_number": 72
    },
    {
     "cell_type": "code",
     "collapsed": false,
     "input": [
      "# find where values are null\n",
      "pd.isnull(df1)"
     ],
     "language": "python",
     "metadata": {
      "slideshow": {
       "slide_type": "subslide"
      }
     },
     "outputs": [
      {
       "html": [
        "<div style=\"max-height:1000px;max-width:1500px;overflow:auto;\">\n",
        "<table border=\"1\" class=\"dataframe\">\n",
        "  <thead>\n",
        "    <tr style=\"text-align: right;\">\n",
        "      <th></th>\n",
        "      <th>A</th>\n",
        "      <th>B</th>\n",
        "      <th>C</th>\n",
        "      <th>D</th>\n",
        "      <th>F</th>\n",
        "      <th>E</th>\n",
        "    </tr>\n",
        "  </thead>\n",
        "  <tbody>\n",
        "    <tr>\n",
        "      <th>2014-08-14</th>\n",
        "      <td> False</td>\n",
        "      <td> False</td>\n",
        "      <td> False</td>\n",
        "      <td> False</td>\n",
        "      <td> False</td>\n",
        "      <td> False</td>\n",
        "    </tr>\n",
        "    <tr>\n",
        "      <th>2014-08-15</th>\n",
        "      <td> False</td>\n",
        "      <td> False</td>\n",
        "      <td> False</td>\n",
        "      <td> False</td>\n",
        "      <td> False</td>\n",
        "      <td> False</td>\n",
        "    </tr>\n",
        "    <tr>\n",
        "      <th>2014-08-16</th>\n",
        "      <td> False</td>\n",
        "      <td> False</td>\n",
        "      <td> False</td>\n",
        "      <td> False</td>\n",
        "      <td> False</td>\n",
        "      <td>  True</td>\n",
        "    </tr>\n",
        "    <tr>\n",
        "      <th>2014-08-17</th>\n",
        "      <td> False</td>\n",
        "      <td> False</td>\n",
        "      <td> False</td>\n",
        "      <td> False</td>\n",
        "      <td> False</td>\n",
        "      <td>  True</td>\n",
        "    </tr>\n",
        "  </tbody>\n",
        "</table>\n",
        "<p>4 rows \u00d7 6 columns</p>\n",
        "</div>"
       ],
       "metadata": {},
       "output_type": "pyout",
       "prompt_number": 73,
       "text": [
        "                A      B      C      D      F      E\n",
        "2014-08-14  False  False  False  False  False  False\n",
        "2014-08-15  False  False  False  False  False  False\n",
        "2014-08-16  False  False  False  False  False   True\n",
        "2014-08-17  False  False  False  False  False   True\n",
        "\n",
        "[4 rows x 6 columns]"
       ]
      }
     ],
     "prompt_number": 73
    },
    {
     "cell_type": "markdown",
     "metadata": {
      "slideshow": {
       "slide_type": "slide"
      }
     },
     "source": [
      "### Operations"
     ]
    },
    {
     "cell_type": "code",
     "collapsed": false,
     "input": [
      "df.mean(),df.mean(1) # Operation on two different axes"
     ],
     "language": "python",
     "metadata": {
      "slideshow": {
       "slide_type": "subslide"
      }
     },
     "outputs": [
      {
       "metadata": {},
       "output_type": "pyout",
       "prompt_number": 75,
       "text": [
        "(A   -0.201397\n",
        " B   -0.130900\n",
        " C    0.631932\n",
        " D   -0.451885\n",
        " F    3.500000\n",
        " dtype: float64, 2014-08-14    0.334761\n",
        " 2014-08-15    0.209448\n",
        " 2014-08-16    0.270173\n",
        " 2014-08-17    0.880173\n",
        " 2014-08-18    1.262594\n",
        " 2014-08-19    1.060153\n",
        " Freq: D, dtype: float64)"
       ]
      }
     ],
     "prompt_number": 75
    },
    {
     "cell_type": "markdown",
     "metadata": {
      "slideshow": {
       "slide_type": "slide"
      }
     },
     "source": [
      "### Applying functions"
     ]
    },
    {
     "cell_type": "code",
     "collapsed": false,
     "input": [
      "df"
     ],
     "language": "python",
     "metadata": {
      "slideshow": {
       "slide_type": "subslide"
      }
     },
     "outputs": [
      {
       "html": [
        "<div style=\"max-height:1000px;max-width:1500px;overflow:auto;\">\n",
        "<table border=\"1\" class=\"dataframe\">\n",
        "  <thead>\n",
        "    <tr style=\"text-align: right;\">\n",
        "      <th></th>\n",
        "      <th>A</th>\n",
        "      <th>B</th>\n",
        "      <th>C</th>\n",
        "      <th>D</th>\n",
        "      <th>F</th>\n",
        "    </tr>\n",
        "  </thead>\n",
        "  <tbody>\n",
        "    <tr>\n",
        "      <th>2014-08-14</th>\n",
        "      <td> 0.197416</td>\n",
        "      <td> 0.072829</td>\n",
        "      <td> 1.133031</td>\n",
        "      <td>-0.729471</td>\n",
        "      <td> 1</td>\n",
        "    </tr>\n",
        "    <tr>\n",
        "      <th>2014-08-15</th>\n",
        "      <td> 0.207718</td>\n",
        "      <td>-0.637203</td>\n",
        "      <td> 0.020358</td>\n",
        "      <td>-0.543631</td>\n",
        "      <td> 2</td>\n",
        "    </tr>\n",
        "    <tr>\n",
        "      <th>2014-08-16</th>\n",
        "      <td>-0.645366</td>\n",
        "      <td>-0.244225</td>\n",
        "      <td> 0.048366</td>\n",
        "      <td>-0.807911</td>\n",
        "      <td> 3</td>\n",
        "    </tr>\n",
        "    <tr>\n",
        "      <th>2014-08-17</th>\n",
        "      <td>-1.166493</td>\n",
        "      <td>-0.495450</td>\n",
        "      <td> 0.981768</td>\n",
        "      <td> 1.081041</td>\n",
        "      <td> 4</td>\n",
        "    </tr>\n",
        "    <tr>\n",
        "      <th>2014-08-18</th>\n",
        "      <td> 1.025195</td>\n",
        "      <td> 1.592080</td>\n",
        "      <td>-0.082581</td>\n",
        "      <td>-1.221724</td>\n",
        "      <td> 5</td>\n",
        "    </tr>\n",
        "    <tr>\n",
        "      <th>2014-08-19</th>\n",
        "      <td>-0.826848</td>\n",
        "      <td>-1.073428</td>\n",
        "      <td> 1.690653</td>\n",
        "      <td>-0.489614</td>\n",
        "      <td> 6</td>\n",
        "    </tr>\n",
        "  </tbody>\n",
        "</table>\n",
        "<p>6 rows \u00d7 5 columns</p>\n",
        "</div>"
       ],
       "metadata": {},
       "output_type": "pyout",
       "prompt_number": 76,
       "text": [
        "                   A         B         C         D  F\n",
        "2014-08-14  0.197416  0.072829  1.133031 -0.729471  1\n",
        "2014-08-15  0.207718 -0.637203  0.020358 -0.543631  2\n",
        "2014-08-16 -0.645366 -0.244225  0.048366 -0.807911  3\n",
        "2014-08-17 -1.166493 -0.495450  0.981768  1.081041  4\n",
        "2014-08-18  1.025195  1.592080 -0.082581 -1.221724  5\n",
        "2014-08-19 -0.826848 -1.073428  1.690653 -0.489614  6\n",
        "\n",
        "[6 rows x 5 columns]"
       ]
      }
     ],
     "prompt_number": 76
    },
    {
     "cell_type": "code",
     "collapsed": false,
     "input": [
      "df.apply(np.cumsum)"
     ],
     "language": "python",
     "metadata": {
      "slideshow": {
       "slide_type": "fragment"
      }
     },
     "outputs": [
      {
       "html": [
        "<div style=\"max-height:1000px;max-width:1500px;overflow:auto;\">\n",
        "<table border=\"1\" class=\"dataframe\">\n",
        "  <thead>\n",
        "    <tr style=\"text-align: right;\">\n",
        "      <th></th>\n",
        "      <th>A</th>\n",
        "      <th>B</th>\n",
        "      <th>C</th>\n",
        "      <th>D</th>\n",
        "      <th>F</th>\n",
        "    </tr>\n",
        "  </thead>\n",
        "  <tbody>\n",
        "    <tr>\n",
        "      <th>2014-08-14</th>\n",
        "      <td> 0.197416</td>\n",
        "      <td> 0.072829</td>\n",
        "      <td> 1.133031</td>\n",
        "      <td>-0.729471</td>\n",
        "      <td>  1</td>\n",
        "    </tr>\n",
        "    <tr>\n",
        "      <th>2014-08-15</th>\n",
        "      <td> 0.405133</td>\n",
        "      <td>-0.564374</td>\n",
        "      <td> 1.153389</td>\n",
        "      <td>-1.273102</td>\n",
        "      <td>  3</td>\n",
        "    </tr>\n",
        "    <tr>\n",
        "      <th>2014-08-16</th>\n",
        "      <td>-0.240233</td>\n",
        "      <td>-0.808599</td>\n",
        "      <td> 1.201755</td>\n",
        "      <td>-2.081013</td>\n",
        "      <td>  6</td>\n",
        "    </tr>\n",
        "    <tr>\n",
        "      <th>2014-08-17</th>\n",
        "      <td>-1.406726</td>\n",
        "      <td>-1.304049</td>\n",
        "      <td> 2.183522</td>\n",
        "      <td>-0.999972</td>\n",
        "      <td> 10</td>\n",
        "    </tr>\n",
        "    <tr>\n",
        "      <th>2014-08-18</th>\n",
        "      <td>-0.381532</td>\n",
        "      <td> 0.288030</td>\n",
        "      <td> 2.100942</td>\n",
        "      <td>-2.221697</td>\n",
        "      <td> 15</td>\n",
        "    </tr>\n",
        "    <tr>\n",
        "      <th>2014-08-19</th>\n",
        "      <td>-1.208380</td>\n",
        "      <td>-0.785397</td>\n",
        "      <td> 3.791594</td>\n",
        "      <td>-2.711311</td>\n",
        "      <td> 21</td>\n",
        "    </tr>\n",
        "  </tbody>\n",
        "</table>\n",
        "<p>6 rows \u00d7 5 columns</p>\n",
        "</div>"
       ],
       "metadata": {},
       "output_type": "pyout",
       "prompt_number": 77,
       "text": [
        "                   A         B         C         D   F\n",
        "2014-08-14  0.197416  0.072829  1.133031 -0.729471   1\n",
        "2014-08-15  0.405133 -0.564374  1.153389 -1.273102   3\n",
        "2014-08-16 -0.240233 -0.808599  1.201755 -2.081013   6\n",
        "2014-08-17 -1.406726 -1.304049  2.183522 -0.999972  10\n",
        "2014-08-18 -0.381532  0.288030  2.100942 -2.221697  15\n",
        "2014-08-19 -1.208380 -0.785397  3.791594 -2.711311  21\n",
        "\n",
        "[6 rows x 5 columns]"
       ]
      }
     ],
     "prompt_number": 77
    },
    {
     "cell_type": "code",
     "collapsed": false,
     "input": [
      "# Built in string methods\n",
      "s = pd.Series(['A', 'B', 'C', 'Aaba', 'Baca', np.nan, 'CABA', 'dog', 'cat'])\n",
      "s.str.lower()"
     ],
     "language": "python",
     "metadata": {
      "slideshow": {
       "slide_type": "subslide"
      }
     },
     "outputs": []
    },
    {
     "cell_type": "markdown",
     "metadata": {
      "slideshow": {
       "slide_type": "subslide"
      }
     },
     "source": [
      "###Merge"
     ]
    },
    {
     "cell_type": "code",
     "collapsed": false,
     "input": [
      "random.randn(10,4)"
     ],
     "language": "python",
     "metadata": {
      "slideshow": {
       "slide_type": "subslide"
      }
     },
     "outputs": [
      {
       "metadata": {},
       "output_type": "pyout",
       "prompt_number": 82,
       "text": [
        "array([[ 0.7589432 ,  0.15300071,  1.13341391,  1.97299126],\n",
        "       [-0.8303209 , -0.91103574, -1.6276322 , -0.82243625],\n",
        "       [-0.24761432, -0.1535522 ,  2.08294563,  0.91575526],\n",
        "       [-0.78368834, -0.49063296, -1.84459022, -0.56944282],\n",
        "       [ 0.02844972, -0.61412911, -0.2918075 , -0.08220297],\n",
        "       [ 0.39641056, -0.78959589, -0.22932394,  0.86221366],\n",
        "       [ 0.46608258,  0.90304043, -0.51952135, -1.53125606],\n",
        "       [-0.63104163, -0.54231934,  0.51008992, -0.44147373],\n",
        "       [-0.11125909,  0.09274025,  0.8831489 ,  1.15724547],\n",
        "       [-0.70200845,  0.96270122,  1.33775367,  0.0776633 ]])"
       ]
      }
     ],
     "prompt_number": 82
    },
    {
     "cell_type": "code",
     "collapsed": false,
     "input": [
      "#Concatenating pandas objects together\n",
      "df = pd.DataFrame(np.random.randn(10,4))\n",
      "df"
     ],
     "language": "python",
     "metadata": {
      "slideshow": {
       "slide_type": "subslide"
      }
     },
     "outputs": [
      {
       "html": [
        "<div style=\"max-height:1000px;max-width:1500px;overflow:auto;\">\n",
        "<table border=\"1\" class=\"dataframe\">\n",
        "  <thead>\n",
        "    <tr style=\"text-align: right;\">\n",
        "      <th></th>\n",
        "      <th>0</th>\n",
        "      <th>1</th>\n",
        "      <th>2</th>\n",
        "      <th>3</th>\n",
        "    </tr>\n",
        "  </thead>\n",
        "  <tbody>\n",
        "    <tr>\n",
        "      <th>0</th>\n",
        "      <td> 0.841423</td>\n",
        "      <td>-1.646969</td>\n",
        "      <td>-2.196912</td>\n",
        "      <td>-0.581034</td>\n",
        "    </tr>\n",
        "    <tr>\n",
        "      <th>1</th>\n",
        "      <td> 0.879024</td>\n",
        "      <td> 0.382269</td>\n",
        "      <td>-0.332196</td>\n",
        "      <td> 0.308163</td>\n",
        "    </tr>\n",
        "    <tr>\n",
        "      <th>2</th>\n",
        "      <td>-0.442496</td>\n",
        "      <td> 0.787506</td>\n",
        "      <td>-0.162076</td>\n",
        "      <td> 1.456210</td>\n",
        "    </tr>\n",
        "    <tr>\n",
        "      <th>3</th>\n",
        "      <td>-1.108173</td>\n",
        "      <td>-0.292613</td>\n",
        "      <td> 0.434093</td>\n",
        "      <td>-0.792566</td>\n",
        "    </tr>\n",
        "    <tr>\n",
        "      <th>4</th>\n",
        "      <td>-0.105923</td>\n",
        "      <td>-0.763247</td>\n",
        "      <td> 0.376970</td>\n",
        "      <td>-0.526684</td>\n",
        "    </tr>\n",
        "    <tr>\n",
        "      <th>5</th>\n",
        "      <td>-0.975956</td>\n",
        "      <td> 0.640859</td>\n",
        "      <td>-0.840689</td>\n",
        "      <td>-0.471129</td>\n",
        "    </tr>\n",
        "    <tr>\n",
        "      <th>6</th>\n",
        "      <td> 0.669346</td>\n",
        "      <td>-0.180761</td>\n",
        "      <td>-0.785332</td>\n",
        "      <td> 1.228436</td>\n",
        "    </tr>\n",
        "    <tr>\n",
        "      <th>7</th>\n",
        "      <td> 0.958714</td>\n",
        "      <td>-0.463355</td>\n",
        "      <td> 1.088784</td>\n",
        "      <td>-0.743148</td>\n",
        "    </tr>\n",
        "    <tr>\n",
        "      <th>8</th>\n",
        "      <td>-0.642224</td>\n",
        "      <td>-0.615357</td>\n",
        "      <td>-1.548807</td>\n",
        "      <td>-1.619737</td>\n",
        "    </tr>\n",
        "    <tr>\n",
        "      <th>9</th>\n",
        "      <td>-1.519898</td>\n",
        "      <td>-0.588187</td>\n",
        "      <td>-0.014062</td>\n",
        "      <td> 0.276586</td>\n",
        "    </tr>\n",
        "  </tbody>\n",
        "</table>\n",
        "<p>10 rows \u00d7 4 columns</p>\n",
        "</div>"
       ],
       "metadata": {},
       "output_type": "pyout",
       "prompt_number": 84,
       "text": [
        "          0         1         2         3\n",
        "0  0.841423 -1.646969 -2.196912 -0.581034\n",
        "1  0.879024  0.382269 -0.332196  0.308163\n",
        "2 -0.442496  0.787506 -0.162076  1.456210\n",
        "3 -1.108173 -0.292613  0.434093 -0.792566\n",
        "4 -0.105923 -0.763247  0.376970 -0.526684\n",
        "5 -0.975956  0.640859 -0.840689 -0.471129\n",
        "6  0.669346 -0.180761 -0.785332  1.228436\n",
        "7  0.958714 -0.463355  1.088784 -0.743148\n",
        "8 -0.642224 -0.615357 -1.548807 -1.619737\n",
        "9 -1.519898 -0.588187 -0.014062  0.276586\n",
        "\n",
        "[10 rows x 4 columns]"
       ]
      }
     ],
     "prompt_number": 84
    },
    {
     "cell_type": "code",
     "collapsed": false,
     "input": [
      "# Break it into pieces\n",
      "pieces = [df[:3], df[3:7],df[7:]]"
     ],
     "language": "python",
     "metadata": {
      "slideshow": {
       "slide_type": "subslide"
      }
     },
     "outputs": [],
     "prompt_number": 85
    },
    {
     "cell_type": "code",
     "collapsed": false,
     "input": [
      "pd.concat(pieces)"
     ],
     "language": "python",
     "metadata": {
      "slideshow": {
       "slide_type": "fragment"
      }
     },
     "outputs": []
    },
    {
     "cell_type": "code",
     "collapsed": false,
     "input": [
      "# Also can \"Join\" and \"Append\""
     ],
     "language": "python",
     "metadata": {
      "slideshow": {
       "slide_type": "fragment"
      }
     },
     "outputs": []
    },
    {
     "cell_type": "markdown",
     "metadata": {
      "slideshow": {
       "slide_type": "subslide"
      }
     },
     "source": [
      "###Grouping\n"
     ]
    },
    {
     "cell_type": "code",
     "collapsed": false,
     "input": [
      "df = pd.DataFrame({'A' : ['foo', 'bar', 'foo', 'bar',\n",
      "                       'foo', 'bar', 'foo', 'foo'],\n",
      "                       'B' : ['one', 'one', 'two', 'three',\n",
      "                             'two', 'two', 'one', 'three'],\n",
      "                       'C' : np.random.randn(8),\n",
      "                       'D' : np.random.randn(8)})"
     ],
     "language": "python",
     "metadata": {
      "slideshow": {
       "slide_type": "subslide"
      }
     },
     "outputs": [],
     "prompt_number": 86
    },
    {
     "cell_type": "code",
     "collapsed": false,
     "input": [
      "df"
     ],
     "language": "python",
     "metadata": {
      "slideshow": {
       "slide_type": "fragment"
      }
     },
     "outputs": [
      {
       "html": [
        "<div style=\"max-height:1000px;max-width:1500px;overflow:auto;\">\n",
        "<table border=\"1\" class=\"dataframe\">\n",
        "  <thead>\n",
        "    <tr style=\"text-align: right;\">\n",
        "      <th></th>\n",
        "      <th>A</th>\n",
        "      <th>B</th>\n",
        "      <th>C</th>\n",
        "      <th>D</th>\n",
        "    </tr>\n",
        "  </thead>\n",
        "  <tbody>\n",
        "    <tr>\n",
        "      <th>0</th>\n",
        "      <td> foo</td>\n",
        "      <td>   one</td>\n",
        "      <td>-0.392227</td>\n",
        "      <td>-0.151361</td>\n",
        "    </tr>\n",
        "    <tr>\n",
        "      <th>1</th>\n",
        "      <td> bar</td>\n",
        "      <td>   one</td>\n",
        "      <td>-0.537531</td>\n",
        "      <td>-0.766301</td>\n",
        "    </tr>\n",
        "    <tr>\n",
        "      <th>2</th>\n",
        "      <td> foo</td>\n",
        "      <td>   two</td>\n",
        "      <td> 0.334293</td>\n",
        "      <td> 0.608137</td>\n",
        "    </tr>\n",
        "    <tr>\n",
        "      <th>3</th>\n",
        "      <td> bar</td>\n",
        "      <td> three</td>\n",
        "      <td>-0.002713</td>\n",
        "      <td> 2.226922</td>\n",
        "    </tr>\n",
        "    <tr>\n",
        "      <th>4</th>\n",
        "      <td> foo</td>\n",
        "      <td>   two</td>\n",
        "      <td>-1.060869</td>\n",
        "      <td> 0.234305</td>\n",
        "    </tr>\n",
        "    <tr>\n",
        "      <th>5</th>\n",
        "      <td> bar</td>\n",
        "      <td>   two</td>\n",
        "      <td>-0.905632</td>\n",
        "      <td>-0.608173</td>\n",
        "    </tr>\n",
        "    <tr>\n",
        "      <th>6</th>\n",
        "      <td> foo</td>\n",
        "      <td>   one</td>\n",
        "      <td> 0.721466</td>\n",
        "      <td>-1.645222</td>\n",
        "    </tr>\n",
        "    <tr>\n",
        "      <th>7</th>\n",
        "      <td> foo</td>\n",
        "      <td> three</td>\n",
        "      <td>-0.528780</td>\n",
        "      <td> 0.412981</td>\n",
        "    </tr>\n",
        "  </tbody>\n",
        "</table>\n",
        "<p>8 rows \u00d7 4 columns</p>\n",
        "</div>"
       ],
       "metadata": {},
       "output_type": "pyout",
       "prompt_number": 87,
       "text": [
        "     A      B         C         D\n",
        "0  foo    one -0.392227 -0.151361\n",
        "1  bar    one -0.537531 -0.766301\n",
        "2  foo    two  0.334293  0.608137\n",
        "3  bar  three -0.002713  2.226922\n",
        "4  foo    two -1.060869  0.234305\n",
        "5  bar    two -0.905632 -0.608173\n",
        "6  foo    one  0.721466 -1.645222\n",
        "7  foo  three -0.528780  0.412981\n",
        "\n",
        "[8 rows x 4 columns]"
       ]
      }
     ],
     "prompt_number": 87
    },
    {
     "cell_type": "code",
     "collapsed": false,
     "input": [
      "df.groupby(['A']).sum()"
     ],
     "language": "python",
     "metadata": {
      "slideshow": {
       "slide_type": "fragment"
      }
     },
     "outputs": [
      {
       "html": [
        "<div style=\"max-height:1000px;max-width:1500px;overflow:auto;\">\n",
        "<table border=\"1\" class=\"dataframe\">\n",
        "  <thead>\n",
        "    <tr style=\"text-align: right;\">\n",
        "      <th></th>\n",
        "      <th>C</th>\n",
        "      <th>D</th>\n",
        "    </tr>\n",
        "    <tr>\n",
        "      <th>A</th>\n",
        "      <th></th>\n",
        "      <th></th>\n",
        "    </tr>\n",
        "  </thead>\n",
        "  <tbody>\n",
        "    <tr>\n",
        "      <th>bar</th>\n",
        "      <td>-1.445876</td>\n",
        "      <td> 0.852448</td>\n",
        "    </tr>\n",
        "    <tr>\n",
        "      <th>foo</th>\n",
        "      <td>-0.926116</td>\n",
        "      <td>-0.541160</td>\n",
        "    </tr>\n",
        "  </tbody>\n",
        "</table>\n",
        "<p>2 rows \u00d7 2 columns</p>\n",
        "</div>"
       ],
       "metadata": {},
       "output_type": "pyout",
       "prompt_number": 91,
       "text": [
        "            C         D\n",
        "A                      \n",
        "bar -1.445876  0.852448\n",
        "foo -0.926116 -0.541160\n",
        "\n",
        "[2 rows x 2 columns]"
       ]
      }
     ],
     "prompt_number": 91
    },
    {
     "cell_type": "markdown",
     "metadata": {
      "slideshow": {
       "slide_type": "subslide"
      }
     },
     "source": [
      "###I/O\n",
      "I/O is straightforward with, for example, pd.read_csv or df.to_csv"
     ]
    },
    {
     "cell_type": "markdown",
     "metadata": {
      "slideshow": {
       "slide_type": "slide"
      }
     },
     "source": [
      "#Lab"
     ]
    },
    {
     "cell_type": "markdown",
     "metadata": {
      "slideshow": {
       "slide_type": "slide"
      }
     },
     "source": [
      "# Next Steps\n",
      "\n",
      "**Recommended Resources**\n",
      "\n",
      "Name | Description\n",
      "--- | ---\n",
      "[Official Pandas Tutorials](http://pandas.pydata.org/pandas-docs/stable/tutorials.html) | Tutorials and lectures\n",
      "[Julia Evans Pandas Cookbook](https://github.com/jvns/pandas-cookbook) | Great resource with examples from weather, bikes and 311 calls\n",
      "[Learn Pandas Tutorials](https://bitbucket.org/hrojas/learn-pandas) | A great series of Pandas tutorials from Dave Rojas\n",
      "[Research Computing Python Data PYNBs](https://github.com/ResearchComputing/Meetup-Fall-2013/tree/master/python) | An awesome set of python notebooks from a meetup-based course exclusively devoted to pandas"
     ]
    },
    {
     "cell_type": "code",
     "collapsed": false,
     "input": [],
     "language": "python",
     "metadata": {},
     "outputs": []
    }
   ],
   "metadata": {}
  }
 ]
}