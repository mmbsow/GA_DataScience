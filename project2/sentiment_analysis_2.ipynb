{
 "metadata": {
  "name": "",
  "signature": "sha256:14f574754ad38eefe115471619c1c666e218164f129702fc1d9cea6f1db8bf79"
 },
 "nbformat": 3,
 "nbformat_minor": 0,
 "worksheets": [
  {
   "cells": [
    {
     "cell_type": "markdown",
     "metadata": {},
     "source": [
      "# Sentiment Analysis on Movie Reviews\n",
      "https://www.kaggle.com/c/sentiment-analysis-on-movie-reviews"
     ]
    },
    {
     "cell_type": "code",
     "collapsed": false,
     "input": [
      "%pylab inline"
     ],
     "language": "python",
     "metadata": {},
     "outputs": [
      {
       "output_type": "stream",
       "stream": "stdout",
       "text": [
        "Populating the interactive namespace from numpy and matplotlib\n"
       ]
      }
     ],
     "prompt_number": 1
    },
    {
     "cell_type": "markdown",
     "metadata": {},
     "source": [
      "Import libraries"
     ]
    },
    {
     "cell_type": "code",
     "collapsed": false,
     "input": [
      "import numpy as np\n",
      "import pandas as pd\n",
      "from matplotlib import pyplot as plt\n",
      "from sklearn.cross_validation import cross_val_score\n",
      "from sklearn.feature_extraction.text import CountVectorizer\n",
      "from sklearn.linear_model import LogisticRegression\n",
      "from sklearn.metrics import precision_score, recall_score, f1_score\n",
      "from sklearn.pipeline import Pipeline"
     ],
     "language": "python",
     "metadata": {},
     "outputs": [],
     "prompt_number": 2
    },
    {
     "cell_type": "markdown",
     "metadata": {},
     "source": [
      "## Load the data"
     ]
    },
    {
     "cell_type": "code",
     "collapsed": false,
     "input": [
      "# load the train data\n",
      "train = pd.read_table(\"train.tsv\")\n",
      "\n",
      "# split into X and y vectors\n",
      "X = train['Phrase']\n",
      "y = train['Sentiment']"
     ],
     "language": "python",
     "metadata": {},
     "outputs": [],
     "prompt_number": 3
    },
    {
     "cell_type": "code",
     "collapsed": false,
     "input": [
      "embeddings = pd.read_table(\"embeddings.txt\", header=None, sep=' ', names=['word'] + range(1,51))\n",
      "embeddings.head(5)"
     ],
     "language": "python",
     "metadata": {},
     "outputs": [
      {
       "html": [
        "<div style=\"max-height:1000px;max-width:1500px;overflow:auto;\">\n",
        "<table border=\"1\" class=\"dataframe\">\n",
        "  <thead>\n",
        "    <tr style=\"text-align: right;\">\n",
        "      <th></th>\n",
        "      <th>word</th>\n",
        "      <th>1</th>\n",
        "      <th>2</th>\n",
        "      <th>3</th>\n",
        "      <th>4</th>\n",
        "      <th>5</th>\n",
        "      <th>6</th>\n",
        "      <th>7</th>\n",
        "      <th>8</th>\n",
        "      <th>9</th>\n",
        "      <th>...</th>\n",
        "      <th>41</th>\n",
        "      <th>42</th>\n",
        "      <th>43</th>\n",
        "      <th>44</th>\n",
        "      <th>45</th>\n",
        "      <th>46</th>\n",
        "      <th>47</th>\n",
        "      <th>48</th>\n",
        "      <th>49</th>\n",
        "      <th>50</th>\n",
        "    </tr>\n",
        "  </thead>\n",
        "  <tbody>\n",
        "    <tr>\n",
        "      <th>0</th>\n",
        "      <td> *UNKNOWN*</td>\n",
        "      <td> 0.039878</td>\n",
        "      <td> 0.048215</td>\n",
        "      <td> 0.017608</td>\n",
        "      <td>-0.025149</td>\n",
        "      <td>-0.062753</td>\n",
        "      <td> 0.025163</td>\n",
        "      <td> 0.011794</td>\n",
        "      <td> 0.061362</td>\n",
        "      <td> 0.018283</td>\n",
        "      <td>...</td>\n",
        "      <td>-0.013606</td>\n",
        "      <td>-0.024380</td>\n",
        "      <td>-0.018198</td>\n",
        "      <td> 0.002543</td>\n",
        "      <td>-0.029525</td>\n",
        "      <td>-0.039080</td>\n",
        "      <td>-0.013756</td>\n",
        "      <td> 0.025265</td>\n",
        "      <td> 0.030408</td>\n",
        "      <td> 0.033732</td>\n",
        "    </tr>\n",
        "    <tr>\n",
        "      <th>1</th>\n",
        "      <td>       the</td>\n",
        "      <td>-0.399036</td>\n",
        "      <td>-0.217938</td>\n",
        "      <td>-0.759588</td>\n",
        "      <td>-0.125189</td>\n",
        "      <td> 0.400279</td>\n",
        "      <td> 0.039607</td>\n",
        "      <td>-0.067887</td>\n",
        "      <td>-0.322198</td>\n",
        "      <td>-0.346551</td>\n",
        "      <td>...</td>\n",
        "      <td> 0.184398</td>\n",
        "      <td> 0.332139</td>\n",
        "      <td> 0.866181</td>\n",
        "      <td> 0.506829</td>\n",
        "      <td> 0.227549</td>\n",
        "      <td> 0.376464</td>\n",
        "      <td> 0.589991</td>\n",
        "      <td>-0.702202</td>\n",
        "      <td> 0.071931</td>\n",
        "      <td> 0.228803</td>\n",
        "    </tr>\n",
        "    <tr>\n",
        "      <th>2</th>\n",
        "      <td>         ,</td>\n",
        "      <td>-0.031174</td>\n",
        "      <td> 0.213472</td>\n",
        "      <td>-0.120455</td>\n",
        "      <td> 0.113163</td>\n",
        "      <td> 0.103965</td>\n",
        "      <td> 0.162420</td>\n",
        "      <td>-0.070902</td>\n",
        "      <td>-0.247925</td>\n",
        "      <td>-0.340889</td>\n",
        "      <td>...</td>\n",
        "      <td>-0.512599</td>\n",
        "      <td>-0.053923</td>\n",
        "      <td> 0.525217</td>\n",
        "      <td> 0.117490</td>\n",
        "      <td> 0.307453</td>\n",
        "      <td>-0.402266</td>\n",
        "      <td>-0.264396</td>\n",
        "      <td>-0.252059</td>\n",
        "      <td>-0.102475</td>\n",
        "      <td> 0.126300</td>\n",
        "    </tr>\n",
        "    <tr>\n",
        "      <th>3</th>\n",
        "      <td>         .</td>\n",
        "      <td>-1.295782</td>\n",
        "      <td> 0.104425</td>\n",
        "      <td> 0.033343</td>\n",
        "      <td>-0.123819</td>\n",
        "      <td>-0.205738</td>\n",
        "      <td>-0.918930</td>\n",
        "      <td> 0.337670</td>\n",
        "      <td>-1.352527</td>\n",
        "      <td> 0.062751</td>\n",
        "      <td>...</td>\n",
        "      <td>-0.684763</td>\n",
        "      <td>-0.695711</td>\n",
        "      <td> 0.329106</td>\n",
        "      <td> 0.569732</td>\n",
        "      <td> 0.378028</td>\n",
        "      <td>-0.197559</td>\n",
        "      <td> 0.162349</td>\n",
        "      <td>-0.285262</td>\n",
        "      <td>-0.228528</td>\n",
        "      <td> 0.025267</td>\n",
        "    </tr>\n",
        "    <tr>\n",
        "      <th>4</th>\n",
        "      <td>        to</td>\n",
        "      <td> 0.437365</td>\n",
        "      <td> 0.279575</td>\n",
        "      <td>-0.466645</td>\n",
        "      <td> 0.229266</td>\n",
        "      <td> 0.931277</td>\n",
        "      <td> 0.399696</td>\n",
        "      <td>-0.231242</td>\n",
        "      <td>-0.398937</td>\n",
        "      <td> 0.146283</td>\n",
        "      <td>...</td>\n",
        "      <td>-0.248187</td>\n",
        "      <td> 0.253827</td>\n",
        "      <td> 0.393943</td>\n",
        "      <td> 0.574529</td>\n",
        "      <td> 0.037952</td>\n",
        "      <td> 0.097922</td>\n",
        "      <td>-0.125085</td>\n",
        "      <td>-0.212271</td>\n",
        "      <td>-0.305629</td>\n",
        "      <td> 0.535593</td>\n",
        "    </tr>\n",
        "  </tbody>\n",
        "</table>\n",
        "<p>5 rows \u00d7 51 columns</p>\n",
        "</div>"
       ],
       "metadata": {},
       "output_type": "pyout",
       "prompt_number": 4,
       "text": [
        "        word         1         2         3         4         5         6  \\\n",
        "0  *UNKNOWN*  0.039878  0.048215  0.017608 -0.025149 -0.062753  0.025163   \n",
        "1        the -0.399036 -0.217938 -0.759588 -0.125189  0.400279  0.039607   \n",
        "2          , -0.031174  0.213472 -0.120455  0.113163  0.103965  0.162420   \n",
        "3          . -1.295782  0.104425  0.033343 -0.123819 -0.205738 -0.918930   \n",
        "4         to  0.437365  0.279575 -0.466645  0.229266  0.931277  0.399696   \n",
        "\n",
        "          7         8         9    ...           41        42        43  \\\n",
        "0  0.011794  0.061362  0.018283    ...    -0.013606 -0.024380 -0.018198   \n",
        "1 -0.067887 -0.322198 -0.346551    ...     0.184398  0.332139  0.866181   \n",
        "2 -0.070902 -0.247925 -0.340889    ...    -0.512599 -0.053923  0.525217   \n",
        "3  0.337670 -1.352527  0.062751    ...    -0.684763 -0.695711  0.329106   \n",
        "4 -0.231242 -0.398937  0.146283    ...    -0.248187  0.253827  0.393943   \n",
        "\n",
        "         44        45        46        47        48        49        50  \n",
        "0  0.002543 -0.029525 -0.039080 -0.013756  0.025265  0.030408  0.033732  \n",
        "1  0.506829  0.227549  0.376464  0.589991 -0.702202  0.071931  0.228803  \n",
        "2  0.117490  0.307453 -0.402266 -0.264396 -0.252059 -0.102475  0.126300  \n",
        "3  0.569732  0.378028 -0.197559  0.162349 -0.285262 -0.228528  0.025267  \n",
        "4  0.574529  0.037952  0.097922 -0.125085 -0.212271 -0.305629  0.535593  \n",
        "\n",
        "[5 rows x 51 columns]"
       ]
      }
     ],
     "prompt_number": 4
    },
    {
     "cell_type": "code",
     "collapsed": false,
     "input": [
      "embeddings.shape\n",
      "type(embeddings)"
     ],
     "language": "python",
     "metadata": {},
     "outputs": [
      {
       "metadata": {},
       "output_type": "pyout",
       "prompt_number": 5,
       "text": [
        "pandas.core.frame.DataFrame"
       ]
      }
     ],
     "prompt_number": 5
    },
    {
     "cell_type": "code",
     "collapsed": false,
     "input": [
      "map(lambda xi: str(xi).lower(), X)\n",
      "len(X[0:10])"
     ],
     "language": "python",
     "metadata": {},
     "outputs": [
      {
       "metadata": {},
       "output_type": "pyout",
       "prompt_number": 21,
       "text": [
        "10"
       ]
      }
     ],
     "prompt_number": 21
    },
    {
     "cell_type": "code",
     "collapsed": false,
     "input": [
      "import re\n",
      "\n",
      "def ngram2vector(ngram):\n",
      "    \"\"\"\n",
      "    Converts an n-gram phrase into a single brown vector by summing element-wise \n",
      "    the brown vectors of the individual words of the phrase\n",
      "    \"\"\"\n",
      "    ngram_vect = [0 for i in range(1,51)]\n",
      "    #print ngram\n",
      "    #print ngram_vect\n",
      "    \n",
      "    terms_list = re.findall(r\"[\\w']+|[!\\\"#$%&\\'()*+,-./:;<=>?@\\[\\\\\\]^_`{|}~]\", str(ngram).lower())\n",
      "    for term in terms_list:\n",
      "        term_vect = (embeddings.loc[embeddings['word'] == term, range(1,51)]).values.tolist() # start at 1 to not include 'word' column\n",
      "        if not term_vect:\n",
      "            term_vect = [0 for i in range(1,51)]\n",
      "        else:\n",
      "            term_vect = term_vect[0]\n",
      "            \n",
      "        ngram_vect = [sum(x) for x in zip(term_vect, ngram_vect)]\n",
      "        \n",
      "    return ngram_vect        "
     ],
     "language": "python",
     "metadata": {},
     "outputs": [],
     "prompt_number": 60
    },
    {
     "cell_type": "code",
     "collapsed": false,
     "input": [
      "lst = map(lambda xi: ngram2vector(xi), X)\n",
      "lst[0:5]\n",
      "#embeddings.loc[embeddings['word'] == 'goose', range(1,51)]"
     ],
     "language": "python",
     "metadata": {},
     "outputs": []
    },
    {
     "cell_type": "code",
     "collapsed": false,
     "input": [
      "for i in range(1):\n",
      "    print i, X[i], lst[i]"
     ],
     "language": "python",
     "metadata": {},
     "outputs": [
      {
       "output_type": "stream",
       "stream": "stdout",
       "text": [
        "0 A series of escapades demonstrating the adage that what is good for the goose is also good for the gander , some of which occasionally amuses but none of which amounts to much of a story . []\n"
       ]
      }
     ],
     "prompt_number": 30
    },
    {
     "cell_type": "code",
     "collapsed": false,
     "input": [
      "range(1,51)"
     ],
     "language": "python",
     "metadata": {},
     "outputs": [
      {
       "metadata": {},
       "output_type": "pyout",
       "prompt_number": 25,
       "text": [
        "[1,\n",
        " 2,\n",
        " 3,\n",
        " 4,\n",
        " 5,\n",
        " 6,\n",
        " 7,\n",
        " 8,\n",
        " 9,\n",
        " 10,\n",
        " 11,\n",
        " 12,\n",
        " 13,\n",
        " 14,\n",
        " 15,\n",
        " 16,\n",
        " 17,\n",
        " 18,\n",
        " 19,\n",
        " 20,\n",
        " 21,\n",
        " 22,\n",
        " 23,\n",
        " 24,\n",
        " 25,\n",
        " 26,\n",
        " 27,\n",
        " 28,\n",
        " 29,\n",
        " 30,\n",
        " 31,\n",
        " 32,\n",
        " 33,\n",
        " 34,\n",
        " 35,\n",
        " 36,\n",
        " 37,\n",
        " 38,\n",
        " 39,\n",
        " 40,\n",
        " 41,\n",
        " 42,\n",
        " 43,\n",
        " 44,\n",
        " 45,\n",
        " 46,\n",
        " 47,\n",
        " 48,\n",
        " 49,\n",
        " 50]"
       ]
      }
     ],
     "prompt_number": 25
    },
    {
     "cell_type": "code",
     "collapsed": false,
     "input": [],
     "language": "python",
     "metadata": {},
     "outputs": []
    }
   ],
   "metadata": {}
  }
 ]
}