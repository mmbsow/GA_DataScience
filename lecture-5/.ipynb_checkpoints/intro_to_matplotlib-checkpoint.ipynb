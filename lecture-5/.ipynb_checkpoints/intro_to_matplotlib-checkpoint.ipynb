{
 "metadata": {
  "name": "",
  "signature": "sha256:67e302ca48ac6ebb2f82df8a883e391cd0e47ac5ee905fbacaf1c20fd15fac40"
 },
 "nbformat": 3,
 "nbformat_minor": 0,
 "worksheets": [
  {
   "cells": [
    {
     "cell_type": "markdown",
     "metadata": {},
     "source": [
      "# An Introduction to matplotlib\n",
      "\n",
      "\"matplotlib is a python 2D plotting library which produces publication quality figures in a variety of hardcopy formats and interactive environments across platforms. matplotlib can be used in python scripts, the python and ipython shell (ala MATLAB\u00ae* or Mathematica\u00ae\u2020), web application servers, and six graphical user interface toolkits.\"  \n",
      "\n",
      "\"matplotlib tries to make easy things easy and hard things possible. You can generate plots, histograms, power spectra, bar charts, errorcharts, scatterplots, etc, with just a few lines of code. For a sampling, see the screenshots, thumbnail gallery, and examples directory.\"  \n",
      "\n",
      "See [http://matplotlib.org/examples/index.html](http://matplotlib.org/examples/index.html) for more examples.\n",
      "\n",
      "matplotlib's functionality is exposed through a MATLAB-style API and an object-oriented API. We will mostly use the former in this class."
     ]
    },
    {
     "cell_type": "code",
     "collapsed": false,
     "input": [
      "%pylab inline"
     ],
     "language": "python",
     "metadata": {},
     "outputs": [
      {
       "output_type": "stream",
       "stream": "stdout",
       "text": [
        "Populating the interactive namespace from numpy and matplotlib\n"
       ]
      }
     ],
     "prompt_number": 3
    },
    {
     "cell_type": "code",
     "collapsed": false,
     "input": [
      "# TODO import numpy as np\n",
      "import numpy as np\n",
      "\n",
      "# TODO import pandas as pd\n",
      "import pandas as pd\n",
      "\n",
      "# TODO import pyplot as plt from matplotlib\n",
      "from matplotlib import pyplot as plt"
     ],
     "language": "python",
     "metadata": {},
     "outputs": [],
     "prompt_number": 4
    },
    {
     "cell_type": "code",
     "collapsed": false,
     "input": [
      "# TODO Let's scatter plot the points (1, 1), (2, 2), (3, 3), (4, 4)\n",
      "# plt.scatter() accepts a list of x coordinates and a list of y coordinates.\n",
      "plt.scatter([1,2,3,4], [1,2,3,4])\n",
      "# TODO now show the plot. The image will be inserted into this document's HTML since we used the magic method %pylab inline.\n",
      "plt.show()\n",
      "# Ordinarily, the plot will be displayed in an interactive applet that can be used to view and save the plot."
     ],
     "language": "python",
     "metadata": {},
     "outputs": [
      {
       "metadata": {},
       "output_type": "display_data",
       "png": "[encoded data removed]",
       "text": [
        "<matplotlib.figure.Figure at 0x1096bf090>"
       ]
      }
     ],
     "prompt_number": 5
    },
    {
     "cell_type": "code",
     "collapsed": false,
     "input": [
      "# Now let's plot a line. Like plt.scatter(), plt.plot() accepts a list of x coordinates and \n",
      "# a list of y coordinates. matplotlib will draw line segments between these points.\n",
      "# TODO plot a line segment between the points (1, 1) and (4, 4)\n",
      "plt.plot([1,4],[1,4], 'b-')\n",
      "plt.show()"
     ],
     "language": "python",
     "metadata": {},
     "outputs": [
      {
       "metadata": {},
       "output_type": "display_data",
       "png": "[encoded data removed]",
       "text": [
        "<matplotlib.figure.Figure at 0x10b1c32d0>"
       ]
      }
     ],
     "prompt_number": 7
    },
    {
     "cell_type": "code",
     "collapsed": false,
     "input": [
      "# The ranges of the axes can be set using plt.xlim() and plt.ylim().\n",
      "# TODO plot a line segment between the points (1, 2) and (4, 3).\n",
      "# TODO set the ranges of the x and y axes to (0, 5).\n",
      "plt.plot([1,4], [2,3], 'ro-')\n",
      "plt.xlim(0,5)\n",
      "plt.ylim(0,5)\n",
      "# TODO show the plot.\n",
      "plt.show()"
     ],
     "language": "python",
     "metadata": {},
     "outputs": [
      {
       "metadata": {},
       "output_type": "display_data",
       "png": "[encoded data removed]",
       "text": [
        "<matplotlib.figure.Figure at 0x107e185d0>"
       ]
      }
     ],
     "prompt_number": 8
    },
    {
     "cell_type": "code",
     "collapsed": false,
     "input": [
      "# Let's create a histogram. A histogram is a graphical representation of how data is distributed.\n",
      "num_toppings = [2, 1, 0, 0, 1, 2, 4, 3, 2]\n",
      "plt.hist(num_toppings, 5)\n",
      "plt.show()\n",
      "# TODO now change the histogram to use two bins instead of five.\n",
      "plt.hist(num_toppings, 2)\n",
      "# TODO add a title\n",
      "plt.title('My first historgram')\n",
      "# TODO add labels for the x and y axes\n",
      "plt.xlabel('X')\n",
      "plt.ylabel('Count')\n",
      "plt.show()"
     ],
     "language": "python",
     "metadata": {},
     "outputs": [
      {
       "metadata": {},
       "output_type": "display_data",
       "png": "[encoded data removed]",
       "text": [
        "<matplotlib.figure.Figure at 0x10c6b6350>"
       ]
      },
      {
       "metadata": {},
       "output_type": "display_data",
       "png": "[encoded data removed]",
       "text": [
        "<matplotlib.figure.Figure at 0x10c6cc490>"
       ]
      }
     ],
     "prompt_number": 11
    },
    {
     "cell_type": "code",
     "collapsed": false,
     "input": [
      "# TODO load `apartment_prices.csv` into a DataFrame.\n",
      "df = pd.read_csv(\"apartment_prices.csv\")"
     ],
     "language": "python",
     "metadata": {},
     "outputs": [],
     "prompt_number": 12
    },
    {
     "cell_type": "code",
     "collapsed": false,
     "input": [
      "# TODO inspect the data. Print the DataFrame's columns.\n",
      "print df.columns\n",
      "df"
     ],
     "language": "python",
     "metadata": {},
     "outputs": [
      {
       "output_type": "stream",
       "stream": "stdout",
       "text": [
        "Index([u'price', u'size', u'num_bedrooms', u'age', u'city'], dtype='object')\n"
       ]
      },
      {
       "html": [
        "<div style=\"max-height:1000px;max-width:1500px;overflow:auto;\">\n",
        "<table border=\"1\" class=\"dataframe\">\n",
        "  <thead>\n",
        "    <tr style=\"text-align: right;\">\n",
        "      <th></th>\n",
        "      <th>price</th>\n",
        "      <th>size</th>\n",
        "      <th>num_bedrooms</th>\n",
        "      <th>age</th>\n",
        "      <th>city</th>\n",
        "    </tr>\n",
        "  </thead>\n",
        "  <tbody>\n",
        "    <tr>\n",
        "      <th>0</th>\n",
        "      <td> 2500</td>\n",
        "      <td> 500</td>\n",
        "      <td> 1</td>\n",
        "      <td>  1</td>\n",
        "      <td>    New York</td>\n",
        "    </tr>\n",
        "    <tr>\n",
        "      <th>1</th>\n",
        "      <td> 2400</td>\n",
        "      <td> 600</td>\n",
        "      <td> 1</td>\n",
        "      <td> 40</td>\n",
        "      <td>    New York</td>\n",
        "    </tr>\n",
        "    <tr>\n",
        "      <th>2</th>\n",
        "      <td>  900</td>\n",
        "      <td> 800</td>\n",
        "      <td> 2</td>\n",
        "      <td>  2</td>\n",
        "      <td> Chapel Hill</td>\n",
        "    </tr>\n",
        "    <tr>\n",
        "      <th>3</th>\n",
        "      <td> 1700</td>\n",
        "      <td> 400</td>\n",
        "      <td> 0</td>\n",
        "      <td> 10</td>\n",
        "      <td>    New York</td>\n",
        "    </tr>\n",
        "    <tr>\n",
        "      <th>4</th>\n",
        "      <td> 2100</td>\n",
        "      <td> 450</td>\n",
        "      <td> 0</td>\n",
        "      <td> 25</td>\n",
        "      <td>    New York</td>\n",
        "    </tr>\n",
        "    <tr>\n",
        "      <th>5</th>\n",
        "      <td> 3000</td>\n",
        "      <td> 900</td>\n",
        "      <td> 2</td>\n",
        "      <td>  5</td>\n",
        "      <td>    New York</td>\n",
        "    </tr>\n",
        "    <tr>\n",
        "      <th>6</th>\n",
        "      <td>  700</td>\n",
        "      <td> 700</td>\n",
        "      <td> 1</td>\n",
        "      <td>  6</td>\n",
        "      <td> Chapel Hill</td>\n",
        "    </tr>\n",
        "  </tbody>\n",
        "</table>\n",
        "</div>"
       ],
       "metadata": {},
       "output_type": "pyout",
       "prompt_number": 15,
       "text": [
        "   price  size  num_bedrooms  age         city\n",
        "0   2500   500             1    1     New York\n",
        "1   2400   600             1   40     New York\n",
        "2    900   800             2    2  Chapel Hill\n",
        "3   1700   400             0   10     New York\n",
        "4   2100   450             0   25     New York\n",
        "5   3000   900             2    5     New York\n",
        "6    700   700             1    6  Chapel Hill"
       ]
      }
     ],
     "prompt_number": 15
    },
    {
     "cell_type": "code",
     "collapsed": false,
     "input": [
      "df[df['city'] == 'New York']['size']"
     ],
     "language": "python",
     "metadata": {},
     "outputs": [
      {
       "metadata": {},
       "output_type": "pyout",
       "prompt_number": 18,
       "text": [
        "0    500\n",
        "1    600\n",
        "3    400\n",
        "4    450\n",
        "5    900\n",
        "Name: size, dtype: int64"
       ]
      }
     ],
     "prompt_number": 18
    },
    {
     "cell_type": "code",
     "collapsed": false,
     "input": [
      "# TODO let's make a scatter plot with the sizes of apartments in New York on the x axis and the corresponding prices on the y axis.\n",
      "# Hint: Select only the rows from the `size` and `price` columns where `city` is equal to 'New York'.\n",
      "X = df[df['city'] == 'New York']['size']\n",
      "y = df[df['city'] == 'New York']['price']\n",
      "# TODO scatter plot X and y\n",
      "plt.scatter(X, y)\n",
      "# TODO show the plot\n",
      "plt.show()"
     ],
     "language": "python",
     "metadata": {},
     "outputs": [
      {
       "metadata": {},
       "output_type": "display_data",
       "png": "[encoded data removed]",
       "text": [
        "<matplotlib.figure.Figure at 0x10c8bad10>"
       ]
      }
     ],
     "prompt_number": 19
    },
    {
     "cell_type": "code",
     "collapsed": false,
     "input": [
      "# Let's train and visualize a simple linear regression model.\n",
      "# TODO import LinearRegression from sklearn.linear_model\n",
      "from sklearn.linear_model import LinearRegression\n",
      "# TODO instantiate a regressor\n",
      "regressor = LinearRegression()"
     ],
     "language": "python",
     "metadata": {},
     "outputs": [],
     "prompt_number": 20
    },
    {
     "cell_type": "code",
     "collapsed": false,
     "input": [
      "# Let's see if the data we selected from the DataFrame is shaped appropriately.\n",
      "# TODO print the shapes of X and y\n",
      "print X.shape\n",
      "print y.shape"
     ],
     "language": "python",
     "metadata": {},
     "outputs": [
      {
       "output_type": "stream",
       "stream": "stdout",
       "text": [
        "(5,)\n",
        "(5,)\n"
       ]
      }
     ],
     "prompt_number": 22
    },
    {
     "cell_type": "code",
     "collapsed": false,
     "input": [
      "# y can be a vector, but our design matrix, X, must be two-dimensional.\n",
      "# TODO use the reshape() method of ndarrays to set the shape of X to (5, 1).\n",
      "X = X.reshape((5,1))\n",
      "# TODO train the regressor.\n",
      "regressor.fit(X, y)"
     ],
     "language": "python",
     "metadata": {},
     "outputs": [
      {
       "metadata": {},
       "output_type": "pyout",
       "prompt_number": 25,
       "text": [
        "LinearRegression(copy_X=True, fit_intercept=True, normalize=False)"
       ]
      }
     ],
     "prompt_number": 25
    },
    {
     "cell_type": "code",
     "collapsed": false,
     "input": [
      "# Let's scatter plot our training data, and plot the model.\n",
      "# There are many ways to plot the model. We will do so by predicting the value of y for many values of x, and connecting the points.\n",
      "# TODO print the minimum and maximum values of X.\n",
      "xmin = np.min(X)-100\n",
      "xmax = np.max(X)+100\n",
      "# np.linspace(start, end, numberOfPoints) can produce an array of points that are evenly spaced between the start and end points.\n",
      "# TODO create 100 points between the minimum and maximum values of X.\n",
      "xx = np.linspace(xmin, xmax, 100)\n",
      "# TODO reshape xx so that it has two dimensions, i.e., (xx.shape[0], 1)\n",
      "xx = xx.reshape(xx.shape[0], 1)\n",
      "# TODO set the ranges of the x and y axes.\n",
      "plt.xlim(xmin, xmax)\n",
      "# TODO now we need to generate the y values for xx. Predict the value of y for each xx.\n",
      "yy = regressor.predict(xx)\n",
      "# TODO now plot xx and yy\n",
      "plt.plot(xx,yy)\n",
      "# TODO scatter plot the training instances.\n",
      "plt.scatter(X, y)\n",
      "# TODO show the plot.\n",
      "plt.show()"
     ],
     "language": "python",
     "metadata": {},
     "outputs": [
      {
       "metadata": {},
       "output_type": "display_data",
       "png": "[encoded data removed]",
       "text": [
        "<matplotlib.figure.Figure at 0x10e1e8250>"
       ]
      }
     ],
     "prompt_number": 31
    },
    {
     "cell_type": "code",
     "collapsed": true,
     "input": [
      "# TODO scatter plot your toy data set, or a few instances from it. \n",
      "\n",
      "# TODO plot your model."
     ],
     "language": "python",
     "metadata": {},
     "outputs": []
    }
   ],
   "metadata": {}
  }
 ]
}