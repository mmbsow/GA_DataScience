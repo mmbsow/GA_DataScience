{
 "metadata": {
  "name": "",
  "signature": "sha256:c2c636414a6a129a39f31acc16a07f7e9c304e6368f38f132adde7abf12e901b"
 },
 "nbformat": 3,
 "nbformat_minor": 0,
 "worksheets": [
  {
   "cells": [
    {
     "cell_type": "markdown",
     "metadata": {},
     "source": [
      "# Polynomial Regression and Regularization Lab"
     ]
    },
    {
     "cell_type": "markdown",
     "metadata": {},
     "source": [
      "Execute this magic command to display plots in-line."
     ]
    },
    {
     "cell_type": "code",
     "collapsed": false,
     "input": [
      "%pylab inline"
     ],
     "language": "python",
     "metadata": {},
     "outputs": [
      {
       "output_type": "stream",
       "stream": "stdout",
       "text": [
        "Populating the interactive namespace from numpy and matplotlib\n"
       ]
      }
     ],
     "prompt_number": 1
    },
    {
     "cell_type": "code",
     "collapsed": false,
     "input": [
      "# TODO import numpy aliased as np\n",
      "import numpy as np\n",
      "# TODO import LinearRegression from the linear_model module of sklearn\n",
      "from sklearn.linear_model import LinearRegression\n",
      "# TODO Import the pyplot module from matplotlib under the alias plt\n",
      "from matplotlib import pyplot as plt"
     ],
     "language": "python",
     "metadata": {},
     "outputs": [],
     "prompt_number": 2
    },
    {
     "cell_type": "markdown",
     "metadata": {},
     "source": [
      "Let's create toy training and testing sets."
     ]
    },
    {
     "cell_type": "code",
     "collapsed": false,
     "input": [
      "X_train = [ [2], [4], [5], [8], [10] ]\n",
      "X_test = [ [2.5], [3], [7], [9] ]\n",
      "y_train = [2, 7, 8, 8.5, 9]\n",
      "y_test = [4, 6, 9, 9]"
     ],
     "language": "python",
     "metadata": {},
     "outputs": [],
     "prompt_number": 3
    },
    {
     "cell_type": "markdown",
     "metadata": {},
     "source": [
      "## Visualizing the Training Data"
     ]
    },
    {
     "cell_type": "code",
     "collapsed": false,
     "input": [
      "# TODO scatter plot the training data\n",
      "plt.scatter(X_train, y_train)\n",
      "plt.show()"
     ],
     "language": "python",
     "metadata": {},
     "outputs": [
      {
       "metadata": {},
       "output_type": "display_data",
       "png": "[encoded data removed]",
       "text": [
        "<matplotlib.figure.Figure at 0x107a18250>"
       ]
      }
     ],
     "prompt_number": 4
    },
    {
     "cell_type": "markdown",
     "metadata": {},
     "source": [
      "## Fitting a Simple Linear Regression Model"
     ]
    },
    {
     "cell_type": "markdown",
     "metadata": {},
     "source": [
      "Add the code to instantiate and train (fit) the linear regression model."
     ]
    },
    {
     "cell_type": "code",
     "collapsed": false,
     "input": [
      "# TODO you add the code to instantiate and fit the linear regression model\n",
      "regressor = LinearRegression()\n",
      "\n",
      "regressor.fit(X_train, y_train)\n",
      "print regressor.intercept_\n",
      "print regressor.coef_\n"
     ],
     "language": "python",
     "metadata": {},
     "outputs": [
      {
       "output_type": "stream",
       "stream": "stdout",
       "text": [
        "2.64950980392\n",
        "[ 0.73284314]\n"
       ]
      }
     ],
     "prompt_number": 7
    },
    {
     "cell_type": "markdown",
     "metadata": {},
     "source": [
      "The folloing will create some points that we can use to visualize the regression hyperlane."
     ]
    },
    {
     "cell_type": "code",
     "collapsed": false,
     "input": [
      "xx = np.linspace(0, 12, 100)\n",
      "xx = xx.reshape(xx.shape[0], 1)\n",
      "yy = regressor.predict(xx)"
     ],
     "language": "python",
     "metadata": {},
     "outputs": [],
     "prompt_number": 8
    },
    {
     "cell_type": "markdown",
     "metadata": {},
     "source": [
      "### Evaluating the Model"
     ]
    },
    {
     "cell_type": "markdown",
     "metadata": {},
     "source": [
      "Let's visualize the model. Add the code the scatter plot the training data."
     ]
    },
    {
     "cell_type": "code",
     "collapsed": false,
     "input": [
      "# TODO you add the code to scatter plot the training data.\n",
      "plt.scatter(X_train, y_train)\n",
      "# TODO set the ranges of the x and y axes to (0, 11)\n",
      "plt.xlim(0,11)\n",
      "plt.ylim(0,11)\n",
      "# TODO plot the hyperplane\n",
      "plt.plot(xx,yy)"
     ],
     "language": "python",
     "metadata": {},
     "outputs": [
      {
       "metadata": {},
       "output_type": "pyout",
       "prompt_number": 9,
       "text": [
        "[<matplotlib.lines.Line2D at 0x107a7df50>]"
       ]
      },
      {
       "metadata": {},
       "output_type": "display_data",
       "png": "[encoded data removed]",
       "text": [
        "<matplotlib.figure.Figure at 0x107a7d2d0>"
       ]
      }
     ],
     "prompt_number": 9
    },
    {
     "cell_type": "markdown",
     "metadata": {},
     "source": [
      "Now let's calculate r-squared for the model."
     ]
    },
    {
     "cell_type": "code",
     "collapsed": false,
     "input": [
      "# TODO you add the code to calculate r-squared\n",
      "regressor.score(X_test, y_test)"
     ],
     "language": "python",
     "metadata": {},
     "outputs": [
      {
       "metadata": {},
       "output_type": "pyout",
       "prompt_number": 11,
       "text": [
        "0.82728456135994721"
       ]
      }
     ],
     "prompt_number": 11
    },
    {
     "cell_type": "markdown",
     "metadata": {},
     "source": [
      "The r-squared score is not bad. That is, ~80% of the variance in the response variable is explained by the model. Let's see if we can improve the r-squared score by using polynomial regression."
     ]
    },
    {
     "cell_type": "markdown",
     "metadata": {},
     "source": [
      "## Fitting a Polynomial Regression Model"
     ]
    },
    {
     "cell_type": "markdown",
     "metadata": {},
     "source": [
      "First we will add quadratic features. Add the code to instantiate a PolynomialFeatures transformer and add quadratic features.  \n",
      "[http://scikit-learn.org/stable/modules/generated/sklearn.preprocessing.PolynomialFeatures.html](http://scikit-learn.org/stable/modules/generated/sklearn.preprocessing.PolynomialFeatures.html).  \n",
      "Hint: don't forget to import the class.  \n",
      "Note: PolynomialFeatures is only available in scikit-learn >= 0.15.0. If you have an older version, skip this section by setting the following variables:\n",
      "\n",
      "`X_train_quadratic = [ [1, 2, 4], [1, 4, 16], [1, 5, 25], [1, 8, 64], [1, 10, 100] ]`  \n",
      "`X_test_quadratic = [ [1.0, 2.5, 6.25], [1.0, 3.0, 9.0], [1.0, 7.0, 49.0], [1.0, 9.0, 81.0] ]`"
     ]
    },
    {
     "cell_type": "code",
     "collapsed": false,
     "input": [
      "# TODO you add the code to instantiate a PolynomialFeatures transformer to add quadratic features (degree=2)\n",
      "from sklearn.preprocessing import PolynomialFeatures\n",
      "quadratic_featurizer = PolynomialFeatures(degree=2)\n"
     ],
     "language": "python",
     "metadata": {},
     "outputs": [],
     "prompt_number": 13
    },
    {
     "cell_type": "markdown",
     "metadata": {},
     "source": [
      "Now we will transform the training and test features."
     ]
    },
    {
     "cell_type": "code",
     "collapsed": false,
     "input": [
      "# TODO transform the training and test sets by adding quadratic features.\n",
      "X_train_quadratic = quadratic_featurizer.fit_transform(X_train)\n",
      "X_test_quadratic = quadratic_featurizer.transform(X_test) # already fitted, so transform only\n",
      "# Note that we usually fit transformers on the training data, and then use them to transform both the training and test data.\n",
      "# We will still do that here, though fitting is not required as the transformer simply squares the inputs."
     ],
     "language": "python",
     "metadata": {},
     "outputs": [],
     "prompt_number": 10
    },
    {
     "cell_type": "markdown",
     "metadata": {},
     "source": [
      "Now fit another regressor on the expanded features."
     ]
    },
    {
     "cell_type": "code",
     "collapsed": false,
     "input": [
      "# TODO you add the code to instantiate and train the quadratic_regressor\n",
      "# Hint: Recall that polynomial regression is the same model as multiple linear regression; we have just transformed the feature representation.\n",
      "# quadratic_regressor = ..."
     ],
     "language": "python",
     "metadata": {},
     "outputs": [
      {
       "metadata": {},
       "output_type": "pyout",
       "prompt_number": 14,
       "text": [
        "LinearRegression(copy_X=True, fit_intercept=True, normalize=False)"
       ]
      }
     ],
     "prompt_number": 14
    },
    {
     "cell_type": "markdown",
     "metadata": {},
     "source": [
      "Let's visualize the model."
     ]
    },
    {
     "cell_type": "code",
     "collapsed": false,
     "input": [
      "# TODO scatter plot the training and test data (not the quadratic feature representation of the training data).\n",
      "\n",
      "# TODO set the ranges of the x and y axes to (0, 11)\n",
      "\n",
      "xx_quadratic = quadratic_featurizer.transform(xx)\n",
      "yy_quadratic = quadratic_regressor.predict(xx_quadratic)\n",
      "plt.plot(xx, yy_quadratic)\n",
      "plt.show()"
     ],
     "language": "python",
     "metadata": {},
     "outputs": [
      {
       "output_type": "stream",
       "stream": "stdout",
       "text": [
        "[[2], [4], [5], [8], [10]] [2, 7, 8, 8.5, 9]\n",
        "(100, 1)\n",
        "(100, 3)\n"
       ]
      },
      {
       "metadata": {},
       "output_type": "display_data",
       "png": "[encoded data removed]"
      }
     ],
     "prompt_number": 17
    },
    {
     "cell_type": "markdown",
     "metadata": {},
     "source": [
      "Now evaluate the model's performance."
     ]
    },
    {
     "cell_type": "code",
     "collapsed": false,
     "input": [
      "# TODO add the code to score the model\n",
      "# quadratic_regressor..."
     ],
     "language": "python",
     "metadata": {},
     "outputs": [
      {
       "metadata": {},
       "output_type": "pyout",
       "prompt_number": 19,
       "text": [
        "0.87032688273130676"
       ]
      }
     ],
     "prompt_number": 19
    },
    {
     "cell_type": "markdown",
     "metadata": {},
     "source": [
      "Adding quadratic terms improved our model's r-squared score! Let's see if adding higher-order polynomial terms will help even more."
     ]
    },
    {
     "cell_type": "markdown",
     "metadata": {},
     "source": [
      "### Adding Higher Order Polynomial Features"
     ]
    },
    {
     "cell_type": "markdown",
     "metadata": {},
     "source": [
      "Now we will add degree=7 features.\n",
      "Again, PolynonomialFeaturizer requires scikit-learn >= 0.15.0.\n",
      "If you have an older version, set the following:\n",
      "\n",
      "    X_train_degree_7 = [  \n",
      "        [1 2 4 8 16 32 64 128],  \n",
      "        [1 4 16 64 256 1024 4096 16384],  \n",
      "        [1 5 25 125 625 3125 15625 78125],  \n",
      "        [1 8 64 512 4096 32768 262144 2097152],  \n",
      "        [1 10 100 1000 10000 100000 1000000 10000000]  \n",
      "    ]  \n",
      "    \n",
      "    X_test_degree_7 = [   \n",
      "        [1.00000000e+00, 2.50000000e+00, 6.25000000e+00, 1.56250000e+01, 3.90625000e+01, 9.76562500e+01, 2.44140625e+02, 6.10351562e+02],  \n",
      "        [ 1.00000000e+00, 3.00000000e+00, 9.00000000e+00, 2.70000000e+01, 8.10000000e+01, 2.43000000e+02, 7.29000000e+02, 2.18700000e+03],  \n",
      "        [ 1.00000000e+00, 7.00000000e+00, 4.90000000e+01, 3.43000000e+02, 2.40100000e+03, 1.68070000e+04, 1.17649000e+05, 8.23543000e+05],  \n",
      "        [ 1.00000000e+00, 9.00000000e+00, 8.10000000e+01, 7.29000000e+02, 6.56100000e+03, 5.90490000e+04, 5.31441000e+05, 4.78296900e+06]   \n",
      "    ]"
     ]
    },
    {
     "cell_type": "code",
     "collapsed": false,
     "input": [
      "degree_7_featurizer = PolynomialFeatures(degree=7)\n",
      "X_train_degree_7 = degree_7_featurizer.fit_transform(X_train)\n",
      "X_test_degree_7 = degree_7_featurizer.transform(X_test)"
     ],
     "language": "python",
     "metadata": {},
     "outputs": [
      {
       "output_type": "stream",
       "stream": "stdout",
       "text": [
        "[[       1        2        4        8       16       32       64      128]\n",
        " [       1        4       16       64      256     1024     4096    16384]\n",
        " [       1        5       25      125      625     3125    15625    78125]\n",
        " [       1        8       64      512     4096    32768   262144  2097152]\n",
        " [       1       10      100     1000    10000   100000  1000000 10000000]]\n",
        "[[  1.00000000e+00   2.50000000e+00   6.25000000e+00   1.56250000e+01\n",
        "    3.90625000e+01   9.76562500e+01   2.44140625e+02   6.10351562e+02]\n",
        " [  1.00000000e+00   3.00000000e+00   9.00000000e+00   2.70000000e+01\n",
        "    8.10000000e+01   2.43000000e+02   7.29000000e+02   2.18700000e+03]\n",
        " [  1.00000000e+00   7.00000000e+00   4.90000000e+01   3.43000000e+02\n",
        "    2.40100000e+03   1.68070000e+04   1.17649000e+05   8.23543000e+05]\n",
        " [  1.00000000e+00   9.00000000e+00   8.10000000e+01   7.29000000e+02\n",
        "    6.56100000e+03   5.90490000e+04   5.31441000e+05   4.78296900e+06]]\n"
       ]
      }
     ],
     "prompt_number": 20
    },
    {
     "cell_type": "markdown",
     "metadata": {},
     "source": [
      "Now instantiate and train the model."
     ]
    },
    {
     "cell_type": "code",
     "collapsed": false,
     "input": [
      "# TODO you add the code to instantiate and fit the regressor.\n",
      "# degree_7_regressor = ..."
     ],
     "language": "python",
     "metadata": {},
     "outputs": [
      {
       "metadata": {},
       "output_type": "pyout",
       "prompt_number": 22,
       "text": [
        "LinearRegression(copy_X=True, fit_intercept=True, normalize=False)"
       ]
      }
     ],
     "prompt_number": 22
    },
    {
     "cell_type": "markdown",
     "metadata": {},
     "source": [
      "Now evaluate the model."
     ]
    },
    {
     "cell_type": "code",
     "collapsed": false,
     "input": [
      "# TODO you add the code to score the model.\n",
      "# degree_7_regressor"
     ],
     "language": "python",
     "metadata": {},
     "outputs": [
      {
       "metadata": {},
       "output_type": "pyout",
       "prompt_number": 23,
       "text": [
        "-0.69595014172134428"
       ]
      }
     ],
     "prompt_number": 23
    },
    {
     "cell_type": "markdown",
     "metadata": {},
     "source": [
      "The model's performance on the test set is terrible! What happened? Let's see if visualizing the problem will help.  \n",
      "(How can r-squared be negative? In the case of simple linear regression, r-squared is the square of the Pearson product-moment correlation coefficient, or r. For other cases, r-squared is calculated as $ 1 - \\frac{SS_{res}}{SS_{tot}}$; it is not a square, and can be negative. However, a negative r-squared score means that the model is completely inappropriate for the task)."
     ]
    },
    {
     "cell_type": "code",
     "collapsed": false,
     "input": [
      "plt.xlim(0, 11)\n",
      "plt.ylim(0, 20)\n",
      "xx_degree_7 = degree_7_featurizer.transform(xx)\n",
      "yy_degree_7 = degree_7_regressor.predict(xx_degree_7)\n",
      "plt.scatter(X_train, y_train)\n",
      "plt.plot(xx, yy_degree_7)\n",
      "plt.scatter(X_test, y_test, marker='x', color='r')"
     ],
     "language": "python",
     "metadata": {},
     "outputs": [
      {
       "metadata": {},
       "output_type": "pyout",
       "prompt_number": 25,
       "text": [
        "<matplotlib.collections.PathCollection at 0x47174d0>"
       ]
      },
      {
       "metadata": {},
       "output_type": "display_data",
       "png": "[encoded data removed]"
      }
     ],
     "prompt_number": 25
    },
    {
     "cell_type": "markdown",
     "metadata": {},
     "source": [
      "The training instances are plotted with dots, and the test instances are plotted with x's. Our model badly over-fits the training data; it predicts the values of the response variable for the training instances exactly, but fails to generalize. Let's add regularization to reduce over-fitting."
     ]
    },
    {
     "cell_type": "code",
     "collapsed": false,
     "input": [
      "# TODO train and evaluate a Ridge regressor"
     ],
     "language": "python",
     "metadata": {},
     "outputs": [
      {
       "output_type": "stream",
       "stream": "stdout",
       "text": [
        "0.744562489821\n"
       ]
      }
     ],
     "prompt_number": 31
    },
    {
     "cell_type": "code",
     "collapsed": false,
     "input": [
      "plt.xlim(0, 11)\n",
      "plt.ylim(0, 20)\n",
      "xx_degree_7 = degree_7_featurizer.transform(xx)\n",
      "yy_degree_7 = ridge_regressor.predict(xx_degree_7)\n",
      "plt.scatter(X_train, y_train)\n",
      "plt.plot(xx, yy_degree_7)\n",
      "plt.scatter(X_test, y_test, marker='x', color='r')\n",
      "plt.show()"
     ],
     "language": "python",
     "metadata": {},
     "outputs": [
      {
       "metadata": {},
       "output_type": "display_data",
       "png": "[encoded data removed]"
      }
     ],
     "prompt_number": 30
    },
    {
     "cell_type": "markdown",
     "metadata": {},
     "source": [
      "alpha (in class we used $\\lambda$) is a hyperparameter that controls the strength of the regularization penalty. We added a massive penalty; the new model is better, but it is still outperformed by the quadratic and simple linear regression models."
     ]
    },
    {
     "cell_type": "markdown",
     "metadata": {},
     "source": [
      "Try the LASSO and ElasticNet regressors. Can you create a better model?"
     ]
    }
   ],
   "metadata": {}
  }
 ]
}