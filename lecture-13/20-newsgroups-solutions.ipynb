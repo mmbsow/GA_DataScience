{
 "metadata": {
  "name": "20-newsgroups-solutions"
 },
 "nbformat": 3,
 "nbformat_minor": 0,
 "worksheets": [
  {
   "cells": [
    {
     "cell_type": "markdown",
     "metadata": {},
     "source": [
      "# Document Classification with the Perceptron\n",
      "\n",
      "In this lab we will use the perceptron to "
     ]
    },
    {
     "cell_type": "code",
     "collapsed": false,
     "input": [
      "from sklearn.datasets import fetch_20newsgroups\n",
      "categories = ['rec.sport.hockey', 'rec.sport.baseball', 'rec.autos']\n",
      "newsgroups_train = fetch_20newsgroups(subset='train', categories=categories, remove=('headers', 'footers', 'quotes'))\n",
      "newsgroups_test = fetch_20newsgroups(subset='test', categories=categories, remove=('headers', 'footers', 'quotes'))"
     ],
     "language": "python",
     "metadata": {},
     "outputs": [],
     "prompt_number": 1
    },
    {
     "cell_type": "code",
     "collapsed": false,
     "input": [],
     "language": "python",
     "metadata": {},
     "outputs": [
      {
       "output_type": "pyout",
       "prompt_number": 6,
       "text": [
        "(u'I believe that Rusty Staub was also a jewish ball-player\\nAlso, Mordaci Brown back in the early 20th century.  He was a pitcher whose\\nnickname was \"3 fingers\" Brown....for obvious reasons....he had 3 fingers.\\n',\n",
        " 1)"
       ]
      }
     ],
     "prompt_number": 6
    },
    {
     "cell_type": "code",
     "collapsed": false,
     "input": [
      "from sklearn.feature_extraction.text import TfidfVectorizer"
     ],
     "language": "python",
     "metadata": {},
     "outputs": []
    },
    {
     "cell_type": "code",
     "collapsed": false,
     "input": [],
     "language": "python",
     "metadata": {},
     "outputs": []
    },
    {
     "cell_type": "code",
     "collapsed": false,
     "input": [
      "\n",
      "from sklearn.metrics.metrics import classification_report\n",
      "\n",
      "from sklearn.linear_model import Perceptron\n",
      "\n",
      "\n",
      "\n",
      "vectorizer = TfidfVectorizer()\n",
      "X_train = vectorizer.fit_transform(newsgroups_train.data)\n",
      "X_test = vectorizer.transform(newsgroups_test.data)\n",
      "\n",
      "classifier = Perceptron(n_iter=100, eta0=0.1)\n",
      "classifier.fit_transform(X_train, newsgroups_train.target )\n",
      "predictions = classifier.predict(X_test)\n",
      "print classification_report(newsgroups_test.target, predictions)"
     ],
     "language": "python",
     "metadata": {},
     "outputs": []
    }
   ],
   "metadata": {}
  }
 ]
}