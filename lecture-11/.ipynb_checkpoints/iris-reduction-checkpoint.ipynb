{
 "metadata": {
  "name": "iris-reduction"
 },
 "nbformat": 3,
 "nbformat_minor": 0,
 "worksheets": [
  {
   "cells": [
    {
     "cell_type": "markdown",
     "metadata": {},
     "source": [
      "# Dimensionality Reduction for Visualization\n",
      "\n",
      "It is easy to discover patterns by visualizing data with two or three dimensions. A high-dimensional data set cannot be represented graphically, but we can still gain some insights into its structure by reducing it to two or three principal components.  \n",
      "\n",
      "Let's reduce the iris data set's four dimensions to two principal components so that we can visualize it in two dimensions."
     ]
    },
    {
     "cell_type": "code",
     "collapsed": false,
     "input": [
      "%pylab inline"
     ],
     "language": "python",
     "metadata": {},
     "outputs": [
      {
       "output_type": "stream",
       "stream": "stdout",
       "text": [
        "\n",
        "Welcome to pylab, a matplotlib-based Python environment [backend: module://IPython.zmq.pylab.backend_inline].\n",
        "For more information, type 'help(pylab)'.\n"
       ]
      }
     ],
     "prompt_number": 1
    },
    {
     "cell_type": "code",
     "collapsed": false,
     "input": [
      "# TODO import matplotlib\n",
      "\n",
      "# TODO import PCA from sklearn.decomposition\n"
     ],
     "language": "python",
     "metadata": {},
     "outputs": [],
     "prompt_number": 7
    },
    {
     "cell_type": "code",
     "collapsed": false,
     "input": [
      "# TODO import the load_iris convenience function\n",
      "\n",
      "# TODO load the iris data\n",
      "# data = \n",
      "# TODO set y equal to the targets\n",
      "# y = \n",
      "# TODO set X equal to the features\n",
      "# X = \n",
      "# TODO print the shape of X. How many features are there?"
     ],
     "language": "python",
     "metadata": {},
     "outputs": [],
     "prompt_number": 3
    },
    {
     "cell_type": "code",
     "collapsed": false,
     "input": [
      "# TODO instantiate a PCA estimator. The number of principal components that will be returned is a hyperparameter\n",
      "# that is set by the keyword argument n_components.\n",
      "# pca = \n",
      "# TODO PCA implements both the estimator and transformer interfaces.\n",
      "# Fit it on X and use it to also transform X.\n",
      "# reduced_X = \n",
      "# TODO print the shape of reduced_X. How many synthetic features are there?"
     ],
     "language": "python",
     "metadata": {},
     "outputs": [],
     "prompt_number": 1
    },
    {
     "cell_type": "code",
     "collapsed": false,
     "input": [
      "# TODO now we will scatter plot the points.\n",
      "# Plot the first principal component on the x axis and the second principal component on the y axis.\n",
      "# Use a different color for the values of y."
     ],
     "language": "python",
     "metadata": {},
     "outputs": [],
     "prompt_number": 5
    }
   ],
   "metadata": {}
  }
 ]
}