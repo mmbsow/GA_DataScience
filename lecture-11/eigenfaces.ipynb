{
 "metadata": {
  "name": "",
  "signature": "sha256:9a08b5162aad38b236b8e3d57dae5f5493f15944a225c55214e96b4d4d9f383d"
 },
 "nbformat": 3,
 "nbformat_minor": 0,
 "worksheets": [
  {
   "cells": [
    {
     "cell_type": "markdown",
     "metadata": {},
     "source": [
      "# Face Recognition with Eigenfaces\n",
      "\n",
      "Now let's apply PCA to a face recognition problem. Face recognition is the supervised classification task of identifying a person from an image of his or her face. In this example we will use a data set called Our Database of Faces from ATT Laboratories Cambridge. The data set contains ten images of each of forty people. The images were created under different lighting conditions, and the subjects varied their facial expressions. The images are gray-scale and 92x112 pixels in dimension. Let's look at some of the images.  \n",
      "\n",
      "While these images are small, a feature vector that encodes the intensity of every pixel will have 10,304 dimensions. Training from such high-dimensional data could require many samples to avoid over-fitting and will be computationally expensive at large scales. Instead, we will use PCA to compactly represent the images in terms of a small number of principal components. These compressed representations will be much smaller at the expense of discarding some information. We will not discard information randomly; we will keep synthetic features that explain as much of the variance as possible. For faces, that means we will keep enough information to create _fuzzy ghost faces_."
     ]
    },
    {
     "cell_type": "markdown",
     "metadata": {},
     "source": [
      "![http://upload.wikimedia.org/wikipedia/commons/6/67/Eigenfaces.png](http://upload.wikimedia.org/wikipedia/commons/6/67/Eigenfaces.png)"
     ]
    },
    {
     "cell_type": "markdown",
     "metadata": {},
     "source": [
      "We can reshape the matrix of pixel intensities for an image into a vector, and create a matrix of these vectors for all of the training images. Each image is a linear combination of this data set's principal components. In the context of face recognition, these principal components are called eigenfaces. The eigenfaces can be thought of as standardized components of faces. Each face in the data set can be expressed as some combination of the eigenfaces, and can be approximated as a combination of the most important eigenfaces."
     ]
    },
    {
     "cell_type": "code",
     "collapsed": false,
     "input": [
      "# TODO import numpy\n",
      "import numpy as np\n",
      "# TODO import mahotas\n",
      "import mahotas as mh\n",
      "# TODO import os\n",
      "import os\n",
      "# TODO import walk form os\n",
      "from os import walk\n",
      "# TODO import the scale function from the preprocessing module\n",
      "from sklearn.preprocessing import scale"
     ],
     "language": "python",
     "metadata": {},
     "outputs": [],
     "prompt_number": 1
    },
    {
     "cell_type": "code",
     "collapsed": false,
     "input": [
      "# Loading the data is a bit hairy due to the directory structure and file names.\n",
      "X = []\n",
      "y = []\n",
      "for dirpath, dirnames, filenames in walk('data/att-faces/orl_faces'):\n",
      "    for fn in filenames:\n",
      "        if fn[-3:] == 'pgm':\n",
      "            # Get the path to the file\n",
      "            image_filename = os.path.join(dirpath, fn)\n",
      "            # Load the image, convert it to grayscale, and reshape the pixmap/matrix/grid to a vector.\n",
      "            X.append(scale(mh.imread(image_filename, as_grey=True).reshape(10304).astype('float32')))\n",
      "            y.append(dirpath)\n",
      "            # we just use the directory name as the response variable (all the images for subject 2 are in subject2 directory)\n",
      "\n",
      "X = np.array(X)\n",
      "print X.shape\n",
      "print len(y)"
     ],
     "language": "python",
     "metadata": {},
     "outputs": [
      {
       "output_type": "stream",
       "stream": "stdout",
       "text": [
        "(400, 10304)\n",
        "400\n"
       ]
      }
     ],
     "prompt_number": 4
    },
    {
     "cell_type": "code",
     "collapsed": false,
     "input": [
      "# TODO import the train_test_split convenience function\n",
      "from sklearn.cross_validation import train_test_split\n",
      "# TODO split the data into training and test sets\n",
      "X_train, X_test, y_train, y_test = train_test_split(X, y)"
     ],
     "language": "python",
     "metadata": {},
     "outputs": [],
     "prompt_number": 5
    },
    {
     "cell_type": "code",
     "collapsed": false,
     "input": [
      "# TODO import PCA from the decomposition module\n",
      "from sklearn.decomposition import PCA\n",
      "# TODO instantiate a PCA estimator that will return the first 150 principal components\n",
      "pca = PCA(n_components=150)\n",
      "# TODO fit the estimator on the training data\n",
      "# TODO transform the training data\n",
      "X_train_reduced = pca.fit_transform(X_train)\n",
      "# TODO transform the test data\n",
      "X_test_reduced = pca.transform(X_test)\n",
      "# TODO print the shapes of the reduced data\n",
      "print X_train_reduced.shape\n",
      "print X_test_reduced.shape"
     ],
     "language": "python",
     "metadata": {},
     "outputs": [
      {
       "output_type": "stream",
       "stream": "stdout",
       "text": [
        "(300, 150)\n",
        "(100, 150)\n"
       ]
      }
     ],
     "prompt_number": 6
    },
    {
     "cell_type": "code",
     "collapsed": false,
     "input": [
      "print pca.explained_variance_ratio_\n",
      "# are in descending order"
     ],
     "language": "python",
     "metadata": {},
     "outputs": [
      {
       "output_type": "stream",
       "stream": "stdout",
       "text": [
        "[ 0.17556177  0.08497669  0.07014506  0.04725676  0.04290526  0.03055119\n",
        "  0.02903266  0.02254765  0.0201154   0.01909485  0.01522839  0.01403165\n",
        "  0.01305242  0.01199886  0.01130086  0.01037936  0.00987738  0.00932241\n",
        "  0.00914922  0.00884463  0.00808053  0.00763711  0.00751714  0.00659173\n",
        "  0.00648608  0.00602402  0.00585856  0.00569947  0.00558351  0.00531741\n",
        "  0.00528146  0.00497771  0.00468851  0.0046186   0.00440326  0.00418417\n",
        "  0.00411997  0.00392026  0.00382865  0.00376296  0.00359875  0.00353822\n",
        "  0.00340592  0.00335551  0.00327111  0.00316091  0.0030958   0.00296222\n",
        "  0.00291785  0.00289311  0.00283612  0.00271325  0.00265487  0.00261572\n",
        "  0.00255617  0.00251153  0.00247044  0.00244677  0.00237382  0.00228626\n",
        "  0.00227583  0.00223398  0.00215477  0.00213811  0.00208977  0.00203573\n",
        "  0.00203098  0.00196851  0.00193104  0.00191124  0.00189773  0.00187591\n",
        "  0.00184921  0.00180771  0.00177207  0.00174617  0.001744    0.00170511\n",
        "  0.00168724  0.00163031  0.00160171  0.00157813  0.00155353  0.00154285\n",
        "  0.00151194  0.00149002  0.00147699  0.00146828  0.00143109  0.001426\n",
        "  0.00141317  0.00140152  0.00138541  0.00135879  0.00133927  0.00131435\n",
        "  0.00130339  0.00129456  0.00127697  0.00127311  0.00124184  0.00121423\n",
        "  0.00120894  0.001194    0.00118832  0.00117947  0.00116374  0.00115149\n",
        "  0.00112966  0.00112145  0.00110859  0.00110145  0.00108557  0.00107982\n",
        "  0.00107251  0.00106734  0.0010484   0.00102522  0.00102252  0.00099937\n",
        "  0.00099205  0.00098054  0.00097539  0.00096856  0.00095685  0.00094244\n",
        "  0.0009367   0.00092612  0.00091823  0.00090331  0.0009002   0.00089251\n",
        "  0.0008815   0.00087526  0.00086913  0.00086242  0.00085311  0.00084285\n",
        "  0.00083941  0.00082604  0.00081745  0.00081189  0.00080292  0.00079433\n",
        "  0.00078755  0.00078112  0.00077691  0.00077182  0.00076928  0.00075725]\n"
       ]
      }
     ],
     "prompt_number": 7
    },
    {
     "cell_type": "code",
     "collapsed": false,
     "input": [
      "# TODO import LogisticRegression from the linear_model module\n",
      "from sklearn.linear_model import LogisticRegression\n",
      "# TODO import classification_report from the metrics module\n",
      "from sklearn.metrics import classification_report\n",
      "# TODO instantiate a LogisticRegression classifier\n",
      "clf = LogisticRegression()\n",
      "# TOOD fit the classifier on the reduced training data\n",
      "clf.fit(X_train_reduced, y_train)\n",
      "# TODO make predictions for the test set\n",
      "predictions = clf.predict(X_test_reduced)\n",
      "# TODO print the classification report for the test set\n",
      "print classification_report(y_test, predictions)"
     ],
     "language": "python",
     "metadata": {},
     "outputs": [
      {
       "output_type": "stream",
       "stream": "stdout",
       "text": [
        "             precision    recall  f1-score   support\n",
        "\n",
        "data/att-faces/orl_faces/s1       1.00      0.67      0.80         3\n",
        "data/att-faces/orl_faces/s10       1.00      1.00      1.00         2\n",
        "data/att-faces/orl_faces/s11       1.00      1.00      1.00         2\n",
        "data/att-faces/orl_faces/s12       1.00      1.00      1.00         3\n",
        "data/att-faces/orl_faces/s13       1.00      0.40      0.57         5\n",
        "data/att-faces/orl_faces/s14       1.00      1.00      1.00         3\n",
        "data/att-faces/orl_faces/s15       1.00      1.00      1.00         5\n",
        "data/att-faces/orl_faces/s16       1.00      0.80      0.89         5\n",
        "data/att-faces/orl_faces/s17       1.00      1.00      1.00         1\n",
        "data/att-faces/orl_faces/s18       1.00      1.00      1.00         4\n",
        "data/att-faces/orl_faces/s19       1.00      1.00      1.00         1\n",
        "data/att-faces/orl_faces/s2       1.00      1.00      1.00         3\n",
        "data/att-faces/orl_faces/s20       1.00      1.00      1.00         1\n",
        "data/att-faces/orl_faces/s21       1.00      0.80      0.89         5\n",
        "data/att-faces/orl_faces/s22       1.00      1.00      1.00         2\n",
        "data/att-faces/orl_faces/s23       1.00      1.00      1.00         1\n",
        "data/att-faces/orl_faces/s24       1.00      1.00      1.00         2\n",
        "data/att-faces/orl_faces/s25       1.00      1.00      1.00         2\n",
        "data/att-faces/orl_faces/s26       1.00      1.00      1.00         2\n",
        "data/att-faces/orl_faces/s27       0.75      1.00      0.86         3\n",
        "data/att-faces/orl_faces/s28       1.00      0.33      0.50         3\n",
        "data/att-faces/orl_faces/s29       1.00      1.00      1.00         1\n",
        "data/att-faces/orl_faces/s3       1.00      1.00      1.00         3\n",
        "data/att-faces/orl_faces/s30       1.00      1.00      1.00         4\n",
        "data/att-faces/orl_faces/s31       0.25      1.00      0.40         1\n",
        "data/att-faces/orl_faces/s32       1.00      0.50      0.67         2\n",
        "data/att-faces/orl_faces/s33       0.00      0.00      0.00         1\n",
        "data/att-faces/orl_faces/s34       1.00      1.00      1.00         5\n",
        "data/att-faces/orl_faces/s35       1.00      1.00      1.00         2\n",
        "data/att-faces/orl_faces/s36       1.00      1.00      1.00         1\n",
        "data/att-faces/orl_faces/s37       0.33      1.00      0.50         1\n",
        "data/att-faces/orl_faces/s38       1.00      1.00      1.00         3\n",
        "data/att-faces/orl_faces/s39       1.00      1.00      1.00         2\n",
        "data/att-faces/orl_faces/s4       1.00      1.00      1.00         2\n",
        "data/att-faces/orl_faces/s40       1.00      1.00      1.00         1\n",
        "data/att-faces/orl_faces/s5       1.00      1.00      1.00         4\n",
        "data/att-faces/orl_faces/s6       0.00      0.00      0.00         0\n",
        "data/att-faces/orl_faces/s7       1.00      1.00      1.00         2\n",
        "data/att-faces/orl_faces/s8       1.00      1.00      1.00         3\n",
        "data/att-faces/orl_faces/s9       1.00      1.00      1.00         4\n",
        "\n",
        "avg / total       0.97      0.90      0.91       100\n",
        "\n"
       ]
      },
      {
       "output_type": "stream",
       "stream": "stderr",
       "text": [
        "/Library/Anaconda/anaconda/lib/python2.7/site-packages/sklearn/metrics/metrics.py:1773: UndefinedMetricWarning: Recall and F-score are ill-defined and being set to 0.0 in labels with no true samples.\n",
        "  'recall', 'true', average, warn_for)\n"
       ]
      }
     ],
     "prompt_number": 10
    },
    {
     "cell_type": "code",
     "collapsed": false,
     "input": [
      "# TODO print some predictions and the corresponding true labels\n",
      "for p,v in zip(y_test, predictions):\n",
      "    print p, '\\t', v, '\\t', p == v"
     ],
     "language": "python",
     "metadata": {},
     "outputs": [
      {
       "output_type": "stream",
       "stream": "stdout",
       "text": [
        "data/att-faces/orl_faces/s18 \tdata/att-faces/orl_faces/s18 \tTrue\n",
        "data/att-faces/orl_faces/s34 \tdata/att-faces/orl_faces/s34 \tTrue\n",
        "data/att-faces/orl_faces/s15 \tdata/att-faces/orl_faces/s15 \tTrue\n",
        "data/att-faces/orl_faces/s26 \tdata/att-faces/orl_faces/s26 \tTrue\n",
        "data/att-faces/orl_faces/s1 \tdata/att-faces/orl_faces/s37 \tFalse\n",
        "data/att-faces/orl_faces/s38 \tdata/att-faces/orl_faces/s38 \tTrue\n",
        "data/att-faces/orl_faces/s33 \tdata/att-faces/orl_faces/s6 \tFalse\n",
        "data/att-faces/orl_faces/s34 \tdata/att-faces/orl_faces/s34 \tTrue\n",
        "data/att-faces/orl_faces/s35 \tdata/att-faces/orl_faces/s35 \tTrue\n",
        "data/att-faces/orl_faces/s14 \tdata/att-faces/orl_faces/s14 \tTrue\n",
        "data/att-faces/orl_faces/s9 \tdata/att-faces/orl_faces/s9 \tTrue\n",
        "data/att-faces/orl_faces/s15 \tdata/att-faces/orl_faces/s15 \tTrue\n",
        "data/att-faces/orl_faces/s12 \tdata/att-faces/orl_faces/s12 \tTrue\n",
        "data/att-faces/orl_faces/s7 \tdata/att-faces/orl_faces/s7 \tTrue\n",
        "data/att-faces/orl_faces/s5 \tdata/att-faces/orl_faces/s5 \tTrue\n",
        "data/att-faces/orl_faces/s10 \tdata/att-faces/orl_faces/s10 \tTrue\n",
        "data/att-faces/orl_faces/s1 \tdata/att-faces/orl_faces/s1 \tTrue\n",
        "data/att-faces/orl_faces/s39 \tdata/att-faces/orl_faces/s39 \tTrue\n",
        "data/att-faces/orl_faces/s11 \tdata/att-faces/orl_faces/s11 \tTrue\n",
        "data/att-faces/orl_faces/s22 \tdata/att-faces/orl_faces/s22 \tTrue\n",
        "data/att-faces/orl_faces/s3 \tdata/att-faces/orl_faces/s3 \tTrue\n",
        "data/att-faces/orl_faces/s20 \tdata/att-faces/orl_faces/s20 \tTrue\n",
        "data/att-faces/orl_faces/s17 \tdata/att-faces/orl_faces/s17 \tTrue\n",
        "data/att-faces/orl_faces/s26 \tdata/att-faces/orl_faces/s26 \tTrue\n",
        "data/att-faces/orl_faces/s8 \tdata/att-faces/orl_faces/s8 \tTrue\n",
        "data/att-faces/orl_faces/s34 \tdata/att-faces/orl_faces/s34 \tTrue\n",
        "data/att-faces/orl_faces/s13 \tdata/att-faces/orl_faces/s6 \tFalse\n",
        "data/att-faces/orl_faces/s8 \tdata/att-faces/orl_faces/s8 \tTrue\n",
        "data/att-faces/orl_faces/s15 \tdata/att-faces/orl_faces/s15 \tTrue\n",
        "data/att-faces/orl_faces/s12 \tdata/att-faces/orl_faces/s12 \tTrue\n",
        "data/att-faces/orl_faces/s18 \tdata/att-faces/orl_faces/s18 \tTrue\n",
        "data/att-faces/orl_faces/s30 \tdata/att-faces/orl_faces/s30 \tTrue\n",
        "data/att-faces/orl_faces/s9 \tdata/att-faces/orl_faces/s9 \tTrue\n",
        "data/att-faces/orl_faces/s4 \tdata/att-faces/orl_faces/s4 \tTrue\n",
        "data/att-faces/orl_faces/s5 \tdata/att-faces/orl_faces/s5 \tTrue\n",
        "data/att-faces/orl_faces/s25 \tdata/att-faces/orl_faces/s25 \tTrue\n",
        "data/att-faces/orl_faces/s21 \tdata/att-faces/orl_faces/s21 \tTrue\n",
        "data/att-faces/orl_faces/s23 \tdata/att-faces/orl_faces/s23 \tTrue\n",
        "data/att-faces/orl_faces/s21 \tdata/att-faces/orl_faces/s21 \tTrue\n",
        "data/att-faces/orl_faces/s32 \tdata/att-faces/orl_faces/s32 \tTrue\n",
        "data/att-faces/orl_faces/s34 \tdata/att-faces/orl_faces/s34 \tTrue\n",
        "data/att-faces/orl_faces/s19 \tdata/att-faces/orl_faces/s19 \tTrue\n",
        "data/att-faces/orl_faces/s36 \tdata/att-faces/orl_faces/s36 \tTrue\n",
        "data/att-faces/orl_faces/s37 \tdata/att-faces/orl_faces/s37 \tTrue\n",
        "data/att-faces/orl_faces/s5 \tdata/att-faces/orl_faces/s5 \tTrue\n",
        "data/att-faces/orl_faces/s9 \tdata/att-faces/orl_faces/s9 \tTrue\n",
        "data/att-faces/orl_faces/s40 \tdata/att-faces/orl_faces/s40 \tTrue\n",
        "data/att-faces/orl_faces/s21 \tdata/att-faces/orl_faces/s21 \tTrue\n",
        "data/att-faces/orl_faces/s24 \tdata/att-faces/orl_faces/s24 \tTrue\n",
        "data/att-faces/orl_faces/s21 \tdata/att-faces/orl_faces/s31 \tFalse\n",
        "data/att-faces/orl_faces/s18 \tdata/att-faces/orl_faces/s18 \tTrue\n",
        "data/att-faces/orl_faces/s15 \tdata/att-faces/orl_faces/s15 \tTrue\n",
        "data/att-faces/orl_faces/s34 \tdata/att-faces/orl_faces/s34 \tTrue\n",
        "data/att-faces/orl_faces/s30 \tdata/att-faces/orl_faces/s30 \tTrue\n",
        "data/att-faces/orl_faces/s16 \tdata/att-faces/orl_faces/s16 \tTrue\n",
        "data/att-faces/orl_faces/s3 \tdata/att-faces/orl_faces/s3 \tTrue\n",
        "data/att-faces/orl_faces/s30 \tdata/att-faces/orl_faces/s30 \tTrue\n",
        "data/att-faces/orl_faces/s30 \tdata/att-faces/orl_faces/s30 \tTrue\n",
        "data/att-faces/orl_faces/s28 \tdata/att-faces/orl_faces/s37 \tFalse\n",
        "data/att-faces/orl_faces/s13 \tdata/att-faces/orl_faces/s33 \tFalse\n",
        "data/att-faces/orl_faces/s35 \tdata/att-faces/orl_faces/s35 \tTrue\n",
        "data/att-faces/orl_faces/s14 \tdata/att-faces/orl_faces/s14 \tTrue\n",
        "data/att-faces/orl_faces/s3 \tdata/att-faces/orl_faces/s3 \tTrue\n",
        "data/att-faces/orl_faces/s12 \tdata/att-faces/orl_faces/s12 \tTrue\n",
        "data/att-faces/orl_faces/s24 \tdata/att-faces/orl_faces/s24 \tTrue\n",
        "data/att-faces/orl_faces/s2 \tdata/att-faces/orl_faces/s2 \tTrue\n",
        "data/att-faces/orl_faces/s8 \tdata/att-faces/orl_faces/s8 \tTrue\n",
        "data/att-faces/orl_faces/s10 \tdata/att-faces/orl_faces/s10 \tTrue\n",
        "data/att-faces/orl_faces/s16 \tdata/att-faces/orl_faces/s16 \tTrue\n",
        "data/att-faces/orl_faces/s27 \tdata/att-faces/orl_faces/s27 \tTrue\n",
        "data/att-faces/orl_faces/s2 \tdata/att-faces/orl_faces/s2 \tTrue\n",
        "data/att-faces/orl_faces/s28 \tdata/att-faces/orl_faces/s31 \tFalse\n",
        "data/att-faces/orl_faces/s14 \tdata/att-faces/orl_faces/s14 \tTrue\n",
        "data/att-faces/orl_faces/s1 \tdata/att-faces/orl_faces/s1 \tTrue\n",
        "data/att-faces/orl_faces/s2 \tdata/att-faces/orl_faces/s2 \tTrue\n",
        "data/att-faces/orl_faces/s16 \tdata/att-faces/orl_faces/s16 \tTrue\n",
        "data/att-faces/orl_faces/s5 \tdata/att-faces/orl_faces/s5 \tTrue\n",
        "data/att-faces/orl_faces/s22 \tdata/att-faces/orl_faces/s22 \tTrue\n",
        "data/att-faces/orl_faces/s27 \tdata/att-faces/orl_faces/s27 \tTrue\n",
        "data/att-faces/orl_faces/s38 \tdata/att-faces/orl_faces/s38 \tTrue\n",
        "data/att-faces/orl_faces/s13 \tdata/att-faces/orl_faces/s33 \tFalse\n",
        "data/att-faces/orl_faces/s25 \tdata/att-faces/orl_faces/s25 \tTrue\n",
        "data/att-faces/orl_faces/s9 \tdata/att-faces/orl_faces/s9 \tTrue\n",
        "data/att-faces/orl_faces/s38 \tdata/att-faces/orl_faces/s38 \tTrue\n",
        "data/att-faces/orl_faces/s31 \tdata/att-faces/orl_faces/s31 \tTrue\n",
        "data/att-faces/orl_faces/s32 \tdata/att-faces/orl_faces/s31 \tFalse\n",
        "data/att-faces/orl_faces/s21 \tdata/att-faces/orl_faces/s21 \tTrue\n",
        "data/att-faces/orl_faces/s39 \tdata/att-faces/orl_faces/s39 \tTrue\n",
        "data/att-faces/orl_faces/s16 \tdata/att-faces/orl_faces/s27 \tFalse\n",
        "data/att-faces/orl_faces/s4 \tdata/att-faces/orl_faces/s4 \tTrue\n",
        "data/att-faces/orl_faces/s16 \tdata/att-faces/orl_faces/s16 \tTrue\n",
        "data/att-faces/orl_faces/s18 \tdata/att-faces/orl_faces/s18 \tTrue\n",
        "data/att-faces/orl_faces/s27 \tdata/att-faces/orl_faces/s27 \tTrue\n",
        "data/att-faces/orl_faces/s15 \tdata/att-faces/orl_faces/s15 \tTrue\n",
        "data/att-faces/orl_faces/s11 \tdata/att-faces/orl_faces/s11 \tTrue\n",
        "data/att-faces/orl_faces/s7 \tdata/att-faces/orl_faces/s7 \tTrue\n",
        "data/att-faces/orl_faces/s13 \tdata/att-faces/orl_faces/s13 \tTrue\n",
        "data/att-faces/orl_faces/s29 \tdata/att-faces/orl_faces/s29 \tTrue\n",
        "data/att-faces/orl_faces/s13 \tdata/att-faces/orl_faces/s13 \tTrue\n",
        "data/att-faces/orl_faces/s28 \tdata/att-faces/orl_faces/s28 \tTrue\n"
       ]
      }
     ],
     "prompt_number": 13
    },
    {
     "cell_type": "code",
     "collapsed": false,
     "input": [
      "from sklearn.metrics import confusion_matrix"
     ],
     "language": "python",
     "metadata": {},
     "outputs": [],
     "prompt_number": 14
    },
    {
     "cell_type": "code",
     "collapsed": false,
     "input": [
      "print confusion_matrix"
     ],
     "language": "python",
     "metadata": {},
     "outputs": []
    }
   ],
   "metadata": {}
  }
 ]
}