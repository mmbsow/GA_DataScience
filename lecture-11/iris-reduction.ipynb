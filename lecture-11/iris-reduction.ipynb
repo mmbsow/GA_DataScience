{
 "metadata": {
  "name": "",
  "signature": "sha256:a3231c86837463303bf9d3c93292e19b752f1f3ff63ae6ae51eae3e3d952bdc3"
 },
 "nbformat": 3,
 "nbformat_minor": 0,
 "worksheets": [
  {
   "cells": [
    {
     "cell_type": "markdown",
     "metadata": {},
     "source": [
      "# Dimensionality Reduction for Visualization\n",
      "\n",
      "It is easy to discover patterns by visualizing data with two or three dimensions. A high-dimensional data set cannot be represented graphically, but we can still gain some insights into its structure by reducing it to two or three principal components.  \n",
      "\n",
      "Let's reduce the iris data set's four dimensions to two principal components so that we can visualize it in two dimensions."
     ]
    },
    {
     "cell_type": "code",
     "collapsed": false,
     "input": [
      "%pylab inline"
     ],
     "language": "python",
     "metadata": {},
     "outputs": [
      {
       "output_type": "stream",
       "stream": "stdout",
       "text": [
        "Populating the interactive namespace from numpy and matplotlib\n"
       ]
      }
     ],
     "prompt_number": 1
    },
    {
     "cell_type": "code",
     "collapsed": false,
     "input": [
      "# TODO import matplotlib\n",
      "import matplotlib.pyplot as plt\n",
      "# TODO import PCA from sklearn.decomposition\n",
      "from sklearn.decomposition import PCA"
     ],
     "language": "python",
     "metadata": {},
     "outputs": [],
     "prompt_number": 2
    },
    {
     "cell_type": "code",
     "collapsed": false,
     "input": [
      "# TODO import the load_iris convenience function\n",
      "from sklearn.datasets import load_iris\n",
      "# TODO load the iris data\n",
      "iris = load_iris()\n",
      "# TODO set y equal to the targets\n",
      "y = iris.target\n",
      "# TODO set X equal to the features\n",
      "X = iris.data\n",
      "# TODO print the shape of X. How many features are there?\n",
      "print X.shape"
     ],
     "language": "python",
     "metadata": {},
     "outputs": [
      {
       "output_type": "stream",
       "stream": "stdout",
       "text": [
        "(150, 4)\n"
       ]
      }
     ],
     "prompt_number": 4
    },
    {
     "cell_type": "code",
     "collapsed": false,
     "input": [
      "# TODO instantiate a PCA estimator. The number of principal components that will be returned is a hyperparameter\n",
      "# that is set by the keyword argument n_components.\n",
      "pca = PCA(n_components=2)\n",
      "# TODO PCA implements both the estimator and transformer interfaces.\n",
      "# Fit it on X and use it to also transform X.\n",
      "pca.fit(X)\n",
      "reduced_X = pca.transform(X)\n",
      "# TODO print the shape of reduced_X. How many synthetic features are there?\n",
      "print reduced_X.shape"
     ],
     "language": "python",
     "metadata": {},
     "outputs": [
      {
       "output_type": "stream",
       "stream": "stdout",
       "text": [
        "(150, 2)\n"
       ]
      }
     ],
     "prompt_number": 5
    },
    {
     "cell_type": "code",
     "collapsed": false,
     "input": [
      "# TODO now we will scatter plot the points.\n",
      "plt.scatter(reduced_X[:,0], reduced_X[:,1], c=y)\n",
      "# Plot the first principal component on the x axis and the second principal component on the y axis.\n",
      "# Use a different color for the values of y."
     ],
     "language": "python",
     "metadata": {},
     "outputs": [
      {
       "metadata": {},
       "output_type": "pyout",
       "prompt_number": 6,
       "text": [
        "<matplotlib.collections.PathCollection at 0x107abb250>"
       ]
      },
      {
       "metadata": {},
       "output_type": "display_data",
       "png": "[encoded data removed]",
       "text": [
        "<matplotlib.figure.Figure at 0x104925b50>"
       ]
      }
     ],
     "prompt_number": 6
    },
    {
     "cell_type": "code",
     "collapsed": false,
     "input": [
      "# TODO import the train_test_split convenience function\n",
      "from sklearn.cross_validation import train_test_split\n",
      "# TODO split the data into training and test sets\n",
      "X_train, X_test, y_train, y_test = train_test_split(reduced_X, y)\n",
      "\n",
      "# TODO import LogisticRegression from the linear_model module\n",
      "from sklearn.linear_model import LogisticRegression\n",
      "# TODO import classification_report from the metrics module\n",
      "from sklearn.metrics import classification_report\n",
      "# TODO instantiate a LogisticRegression classifier\n",
      "clf = LogisticRegression()\n",
      "# TOOD fit the classifier on the reduced training data\n",
      "clf.fit(X_train, y_train)\n",
      "# TODO make predictions for the test set\n",
      "predictions = clf.predict(X_test)\n",
      "# TODO print the classification report for the test set\n",
      "print classification_report(y_test, predictions)"
     ],
     "language": "python",
     "metadata": {},
     "outputs": [
      {
       "output_type": "stream",
       "stream": "stdout",
       "text": [
        "             precision    recall  f1-score   support\n",
        "\n",
        "          0       1.00      1.00      1.00        11\n",
        "          1       0.78      0.44      0.56        16\n",
        "          2       0.50      0.82      0.62        11\n",
        "\n",
        "avg / total       0.76      0.71      0.70        38\n",
        "\n"
       ]
      }
     ],
     "prompt_number": 8
    },
    {
     "cell_type": "code",
     "collapsed": false,
     "input": [
      "from sklearn.metrics import confusion_matrix\n",
      "print confusion_matrix(y_test, predictions)"
     ],
     "language": "python",
     "metadata": {},
     "outputs": [
      {
       "output_type": "stream",
       "stream": "stdout",
       "text": [
        "[[11  0  0]\n",
        " [ 0  7  9]\n",
        " [ 0  2  9]]\n"
       ]
      }
     ],
     "prompt_number": 9
    },
    {
     "cell_type": "code",
     "collapsed": false,
     "input": [],
     "language": "python",
     "metadata": {},
     "outputs": []
    }
   ],
   "metadata": {}
  }
 ]
}