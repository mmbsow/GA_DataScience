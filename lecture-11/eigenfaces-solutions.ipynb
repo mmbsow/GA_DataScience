{
 "metadata": {
  "name": "eigenfaces-solutions"
 },
 "nbformat": 3,
 "nbformat_minor": 0,
 "worksheets": [
  {
   "cells": [
    {
     "cell_type": "markdown",
     "metadata": {},
     "source": [
      "# Face Recognition with Eigenfaces\n",
      "\n",
      "Now let's apply PCA to a face recognition problem. Face recognition is the supervised classification task of identifying a person from an image of his or her face. In this example we will use a data set called Our Database of Faces from ATT Laboratories Cambridge. The data set contains ten images of each of forty people. The images were created under different lighting conditions, and the subjects varied their facial expressions. The images are gray-scale and pixels in dimension. Let's look at some of the images."
     ]
    },
    {
     "cell_type": "markdown",
     "metadata": {},
     "source": [
      "While these images are small, a feature vector that encodes the intensity of every pixel will have 10,304 dimensions. Training from such high-dimensional data could require many samples to avoid over-fitting and will be computationally expensive at large scales. Instead, we will use PCA to compactly represent the images in terms of a small number of principal components."
     ]
    },
    {
     "cell_type": "markdown",
     "metadata": {},
     "source": [
      "We can reshape the matrix of pixel intensities for an image into a vector, and create a matrix of these vectors for all of the training images. Each image is a linear combination of this data set's principal components. In the context of face recognition, these principal components are called eigenfaces. The eigenfaces can be thought of as standardized components of faces. Each face in the data set can be expressed as some combination of the eigenfaces, and can be approximated as a combination of the most important eigenfaces."
     ]
    },
    {
     "cell_type": "code",
     "collapsed": false,
     "input": [
      "# TODO import numpy\n",
      "import numpy as np\n",
      "# TODO import mahotas\n",
      "import mahotas as mh\n",
      "# TODO import os\n",
      "import os\n",
      "# TODO import walk form os\n",
      "from os import walk\n",
      "# TODO import the scale function from the preprocessing module\n",
      "from sklearn.preprocessing import scale"
     ],
     "language": "python",
     "metadata": {},
     "outputs": [
      {
       "output_type": "stream",
       "stream": "stderr",
       "text": [
        "/usr/local/lib/python2.7/dist-packages/sklearn/utils/sparsetools/__init__.py:3: RuntimeWarning: numpy.dtype size changed, may indicate binary incompatibility\n",
        "  from ._min_spanning_tree import minimum_spanning_tree\n",
        "/usr/local/lib/python2.7/dist-packages/sklearn/utils/sparsetools/__init__.py:3: RuntimeWarning: numpy.ufunc size changed, may indicate binary incompatibility\n",
        "  from ._min_spanning_tree import minimum_spanning_tree\n",
        "/usr/local/lib/python2.7/dist-packages/sklearn/utils/sparsetools/_graph_validation.py:5: RuntimeWarning: numpy.dtype size changed, may indicate binary incompatibility\n",
        "  from ._graph_tools import csgraph_to_dense, csgraph_from_dense,\\\n",
        "/usr/local/lib/python2.7/dist-packages/sklearn/utils/sparsetools/_graph_validation.py:5: RuntimeWarning: numpy.ufunc size changed, may indicate binary incompatibility\n",
        "  from ._graph_tools import csgraph_to_dense, csgraph_from_dense,\\\n",
        "/usr/local/lib/python2.7/dist-packages/sklearn/utils/sparsetools/__init__.py:4: RuntimeWarning: numpy.dtype size changed, may indicate binary incompatibility\n",
        "  from ._traversal import connected_components\n",
        "/usr/local/lib/python2.7/dist-packages/sklearn/utils/sparsetools/__init__.py:4: RuntimeWarning: numpy.ufunc size changed, may indicate binary incompatibility\n",
        "  from ._traversal import connected_components\n",
        "/usr/local/lib/python2.7/dist-packages/sklearn/utils/extmath.py:20: RuntimeWarning: numpy.dtype size changed, may indicate binary incompatibility\n",
        "  from ._logistic_sigmoid import _log_logistic_sigmoid\n",
        "/usr/local/lib/python2.7/dist-packages/sklearn/utils/extmath.py:20: RuntimeWarning: numpy.ufunc size changed, may indicate binary incompatibility\n",
        "  from ._logistic_sigmoid import _log_logistic_sigmoid\n",
        "/usr/local/lib/python2.7/dist-packages/sklearn/utils/extmath.py:22: RuntimeWarning: numpy.dtype size changed, may indicate binary incompatibility\n",
        "  from .sparsefuncs_fast import csr_row_norms\n",
        "/usr/local/lib/python2.7/dist-packages/sklearn/utils/extmath.py:22: RuntimeWarning: numpy.ufunc size changed, may indicate binary incompatibility\n",
        "  from .sparsefuncs_fast import csr_row_norms\n",
        "/usr/local/lib/python2.7/dist-packages/scipy/stats/distributions.py:35: RuntimeWarning: numpy.dtype size changed, may indicate binary incompatibility\n",
        "  from . import vonmises_cython\n"
       ]
      },
      {
       "output_type": "stream",
       "stream": "stderr",
       "text": [
        "/usr/local/lib/python2.7/dist-packages/scipy/stats/distributions.py:35: RuntimeWarning: numpy.ufunc size changed, may indicate binary incompatibility\n",
        "  from . import vonmises_cython\n",
        "/usr/local/lib/python2.7/dist-packages/scipy/stats/stats.py:252: RuntimeWarning: numpy.dtype size changed, may indicate binary incompatibility\n",
        "  from ._rank import rankdata, tiecorrect\n"
       ]
      },
      {
       "output_type": "stream",
       "stream": "stderr",
       "text": [
        "/usr/local/lib/python2.7/dist-packages/scipy/stats/stats.py:252: RuntimeWarning: numpy.ufunc size changed, may indicate binary incompatibility\n",
        "  from ._rank import rankdata, tiecorrect\n"
       ]
      }
     ],
     "prompt_number": 1
    },
    {
     "cell_type": "code",
     "collapsed": false,
     "input": [
      "# Loading the data is a bit hairy due to the directory structure and file names.\n",
      "X = []\n",
      "y = []\n",
      "for dirpath, dirnames, filenames in walk('data/att-faces/orl_faces'):\n",
      "    for fn in filenames:\n",
      "        if fn[-3:] == 'pgm':\n",
      "            # Get the path to the file\n",
      "            image_filename = os.path.join(dirpath, fn)\n",
      "            # Load the image, convert it to grayscale, and reshape the pixmap/matrix/grid to a vector.\n",
      "            X.append(scale(mh.imread(image_filename, as_grey=True).reshape(10304).astype('float32')))\n",
      "            y.append(dirpath)\n",
      "\n",
      "X = np.array(X)"
     ],
     "language": "python",
     "metadata": {},
     "outputs": [],
     "prompt_number": 2
    },
    {
     "cell_type": "code",
     "collapsed": false,
     "input": [
      "# TODO import the train_test_split convenience function\n",
      "from sklearn.cross_validation import train_test_split\n",
      "# TODO split the data into training and test sets\n",
      "X_train, X_test, y_train, y_test = train_test_split(X, y)"
     ],
     "language": "python",
     "metadata": {},
     "outputs": [
      {
       "output_type": "stream",
       "stream": "stderr",
       "text": [
        "/usr/local/lib/python2.7/dist-packages/scipy/spatial/__init__.py:90: RuntimeWarning: numpy.dtype size changed, may indicate binary incompatibility\n",
        "  from .ckdtree import *\n",
        "/usr/local/lib/python2.7/dist-packages/scipy/spatial/__init__.py:90: RuntimeWarning: numpy.ufunc size changed, may indicate binary incompatibility\n",
        "  from .ckdtree import *\n",
        "/usr/local/lib/python2.7/dist-packages/scipy/spatial/__init__.py:91: RuntimeWarning: numpy.dtype size changed, may indicate binary incompatibility\n",
        "  from .qhull import *\n",
        "/usr/local/lib/python2.7/dist-packages/scipy/spatial/__init__.py:91: RuntimeWarning: numpy.ufunc size changed, may indicate binary incompatibility\n",
        "  from .qhull import *\n",
        "/usr/local/lib/python2.7/dist-packages/sklearn/metrics/cluster/supervised.py:18: RuntimeWarning: numpy.dtype size changed, may indicate binary incompatibility\n",
        "  from .expected_mutual_info_fast import expected_mutual_information\n",
        "/usr/local/lib/python2.7/dist-packages/sklearn/metrics/cluster/supervised.py:18: RuntimeWarning: numpy.ufunc size changed, may indicate binary incompatibility\n",
        "  from .expected_mutual_info_fast import expected_mutual_information\n",
        "/usr/local/lib/python2.7/dist-packages/sklearn/metrics/pairwise.py:56: RuntimeWarning: numpy.dtype size changed, may indicate binary incompatibility\n",
        "  from .pairwise_fast import _chi2_kernel_fast, _sparse_manhattan\n",
        "/usr/local/lib/python2.7/dist-packages/sklearn/metrics/pairwise.py:56: RuntimeWarning: numpy.ufunc size changed, may indicate binary incompatibility\n",
        "  from .pairwise_fast import _chi2_kernel_fast, _sparse_manhattan\n"
       ]
      }
     ],
     "prompt_number": 3
    },
    {
     "cell_type": "code",
     "collapsed": false,
     "input": [
      "# TODO import PCA from the decomposition module\n",
      "from sklearn.decomposition import PCA\n",
      "# TODO instantiate a PCA estimator that will return the first 150 principal components\n",
      "pca = PCA(n_components=150)\n",
      "# TODO fit the estimator on the training data\n",
      "# TODO transform the training data\n",
      "X_train_reduced = pca.fit_transform(X_train)\n",
      "# TODO transform the test data\n",
      "X_test_reduced = pca.transform(X_test)\n",
      "# TODO print the shapes of the reduced data\n",
      "print X_train_reduced.shape\n",
      "print X_test_reduced.shape"
     ],
     "language": "python",
     "metadata": {},
     "outputs": [
      {
       "output_type": "stream",
       "stream": "stdout",
       "text": [
        "(300, 150)\n",
        "(100, 150)\n"
       ]
      }
     ],
     "prompt_number": 5
    },
    {
     "cell_type": "code",
     "collapsed": false,
     "input": [
      "# TODO import LogisticRegression from the linear_model module\n",
      "from sklearn.linear_model import LogisticRegression\n",
      "# TODO import classification_report from the metrics module\n",
      "from sklearn.metrics import classification_report\n",
      "# TODO instantiate a LogisticRegression classifier\n",
      "classifier = LogisticRegression()\n",
      "# TOOD fit the classifier on the reduced training data\n",
      "classifier.fit(X_train_reduced, y_train)\n",
      "# TODO make predictions for the test set\n",
      "predictions = classifier.predict(X_test_reduced)\n",
      "# TODO print the classification report for the test set\n",
      "print classification_report(y_test, predictions)"
     ],
     "language": "python",
     "metadata": {},
     "outputs": [
      {
       "output_type": "stream",
       "stream": "stdout",
       "text": [
        "             precision    recall  f1-score   support\n",
        "\n",
        "data/att-faces/orl_faces/s1       0.50      0.50      0.50         2\n",
        "data/att-faces/orl_faces/s10       1.00      1.00      1.00         3\n",
        "data/att-faces/orl_faces/s11       1.00      1.00      1.00         1\n",
        "data/att-faces/orl_faces/s12       0.75      1.00      0.86         3\n",
        "data/att-faces/orl_faces/s13       1.00      0.67      0.80         3\n",
        "data/att-faces/orl_faces/s14       1.00      1.00      1.00         3\n",
        "data/att-faces/orl_faces/s15       1.00      1.00      1.00         1\n",
        "data/att-faces/orl_faces/s16       1.00      0.67      0.80         3\n",
        "data/att-faces/orl_faces/s17       0.50      1.00      0.67         1\n",
        "data/att-faces/orl_faces/s18       1.00      1.00      1.00         4\n",
        "data/att-faces/orl_faces/s19       1.00      0.67      0.80         3\n",
        "data/att-faces/orl_faces/s2       1.00      1.00      1.00         2\n",
        "data/att-faces/orl_faces/s20       1.00      1.00      1.00         1\n",
        "data/att-faces/orl_faces/s21       1.00      1.00      1.00         3\n",
        "data/att-faces/orl_faces/s22       1.00      1.00      1.00         3\n",
        "data/att-faces/orl_faces/s23       1.00      1.00      1.00         3\n",
        "data/att-faces/orl_faces/s24       1.00      1.00      1.00         3\n",
        "data/att-faces/orl_faces/s25       1.00      0.33      0.50         3\n",
        "data/att-faces/orl_faces/s26       1.00      1.00      1.00         3\n",
        "data/att-faces/orl_faces/s27       1.00      1.00      1.00         4\n",
        "data/att-faces/orl_faces/s28       1.00      0.50      0.67         2\n",
        "data/att-faces/orl_faces/s29       0.00      0.00      0.00         0\n",
        "data/att-faces/orl_faces/s3       1.00      1.00      1.00         2\n",
        "data/att-faces/orl_faces/s30       1.00      0.80      0.89         5\n",
        "data/att-faces/orl_faces/s31       1.00      1.00      1.00         3\n",
        "data/att-faces/orl_faces/s32       1.00      1.00      1.00         2\n",
        "data/att-faces/orl_faces/s33       1.00      1.00      1.00         3\n",
        "data/att-faces/orl_faces/s34       0.33      1.00      0.50         1\n",
        "data/att-faces/orl_faces/s35       1.00      0.50      0.67         2\n",
        "data/att-faces/orl_faces/s36       0.67      1.00      0.80         2\n",
        "data/att-faces/orl_faces/s37       0.33      1.00      0.50         1\n",
        "data/att-faces/orl_faces/s38       1.00      1.00      1.00         2\n",
        "data/att-faces/orl_faces/s39       1.00      1.00      1.00         2\n",
        "data/att-faces/orl_faces/s4       1.00      1.00      1.00         3\n",
        "data/att-faces/orl_faces/s40       1.00      0.40      0.57         5\n",
        "data/att-faces/orl_faces/s5       0.33      0.50      0.40         2\n",
        "data/att-faces/orl_faces/s6       0.67      1.00      0.80         2\n",
        "data/att-faces/orl_faces/s7       1.00      1.00      1.00         3\n",
        "data/att-faces/orl_faces/s8       1.00      1.00      1.00         3\n",
        "data/att-faces/orl_faces/s9       1.00      1.00      1.00         3\n",
        "\n",
        "avg / total       0.94      0.87      0.88       100\n",
        "\n"
       ]
      },
      {
       "output_type": "stream",
       "stream": "stderr",
       "text": [
        "/usr/local/lib/python2.7/dist-packages/sklearn/metrics/metrics.py:1773: UndefinedMetricWarning: Recall and F-score are ill-defined and being set to 0.0 in labels with no true samples.\n",
        "  'recall', 'true', average, warn_for)\n"
       ]
      }
     ],
     "prompt_number": 7
    },
    {
     "cell_type": "code",
     "collapsed": false,
     "input": [
      "# TODO print some predictions and the corresponding true labels\n",
      "for i, p in enumerate(predictions):\n",
      "    print p, y_test[i]"
     ],
     "language": "python",
     "metadata": {},
     "outputs": [
      {
       "output_type": "stream",
       "stream": "stdout",
       "text": [
        "data/att-faces/orl_faces/s31 data/att-faces/orl_faces/s31\n",
        "data/att-faces/orl_faces/s27 data/att-faces/orl_faces/s27\n",
        "data/att-faces/orl_faces/s17 data/att-faces/orl_faces/s40\n",
        "data/att-faces/orl_faces/s34 data/att-faces/orl_faces/s34\n",
        "data/att-faces/orl_faces/s11 data/att-faces/orl_faces/s11\n",
        "data/att-faces/orl_faces/s36 data/att-faces/orl_faces/s36\n",
        "data/att-faces/orl_faces/s34 data/att-faces/orl_faces/s16\n",
        "data/att-faces/orl_faces/s5 data/att-faces/orl_faces/s25\n",
        "data/att-faces/orl_faces/s30 data/att-faces/orl_faces/s30\n",
        "data/att-faces/orl_faces/s38 data/att-faces/orl_faces/s38\n",
        "data/att-faces/orl_faces/s15 data/att-faces/orl_faces/s15\n",
        "data/att-faces/orl_faces/s37 data/att-faces/orl_faces/s37\n",
        "data/att-faces/orl_faces/s23 data/att-faces/orl_faces/s23\n",
        "data/att-faces/orl_faces/s36 data/att-faces/orl_faces/s5\n",
        "data/att-faces/orl_faces/s35 data/att-faces/orl_faces/s35\n",
        "data/att-faces/orl_faces/s4 data/att-faces/orl_faces/s4\n",
        "data/att-faces/orl_faces/s16 data/att-faces/orl_faces/s16\n",
        "data/att-faces/orl_faces/s37 data/att-faces/orl_faces/s1\n",
        "data/att-faces/orl_faces/s33 data/att-faces/orl_faces/s33\n",
        "data/att-faces/orl_faces/s39 data/att-faces/orl_faces/s39\n",
        "data/att-faces/orl_faces/s37 data/att-faces/orl_faces/s28\n",
        "data/att-faces/orl_faces/s8 data/att-faces/orl_faces/s8\n",
        "data/att-faces/orl_faces/s30 data/att-faces/orl_faces/s30\n",
        "data/att-faces/orl_faces/s32 data/att-faces/orl_faces/s32\n",
        "data/att-faces/orl_faces/s18 data/att-faces/orl_faces/s18\n",
        "data/att-faces/orl_faces/s14 data/att-faces/orl_faces/s14\n",
        "data/att-faces/orl_faces/s31 data/att-faces/orl_faces/s31\n",
        "data/att-faces/orl_faces/s22 data/att-faces/orl_faces/s22\n",
        "data/att-faces/orl_faces/s12 data/att-faces/orl_faces/s12\n",
        "data/att-faces/orl_faces/s2 data/att-faces/orl_faces/s2\n",
        "data/att-faces/orl_faces/s8 data/att-faces/orl_faces/s8\n",
        "data/att-faces/orl_faces/s21 data/att-faces/orl_faces/s21\n",
        "data/att-faces/orl_faces/s3 data/att-faces/orl_faces/s3\n",
        "data/att-faces/orl_faces/s40 data/att-faces/orl_faces/s40\n",
        "data/att-faces/orl_faces/s6 data/att-faces/orl_faces/s6\n",
        "data/att-faces/orl_faces/s27 data/att-faces/orl_faces/s27\n",
        "data/att-faces/orl_faces/s9 data/att-faces/orl_faces/s9\n",
        "data/att-faces/orl_faces/s23 data/att-faces/orl_faces/s23\n",
        "data/att-faces/orl_faces/s26 data/att-faces/orl_faces/s26\n",
        "data/att-faces/orl_faces/s2 data/att-faces/orl_faces/s2\n",
        "data/att-faces/orl_faces/s1 data/att-faces/orl_faces/s1\n",
        "data/att-faces/orl_faces/s17 data/att-faces/orl_faces/s17\n",
        "data/att-faces/orl_faces/s18 data/att-faces/orl_faces/s18\n",
        "data/att-faces/orl_faces/s26 data/att-faces/orl_faces/s26\n",
        "data/att-faces/orl_faces/s39 data/att-faces/orl_faces/s39\n",
        "data/att-faces/orl_faces/s10 data/att-faces/orl_faces/s10\n",
        "data/att-faces/orl_faces/s27 data/att-faces/orl_faces/s27\n",
        "data/att-faces/orl_faces/s10 data/att-faces/orl_faces/s10\n",
        "data/att-faces/orl_faces/s36 data/att-faces/orl_faces/s36\n",
        "data/att-faces/orl_faces/s23 data/att-faces/orl_faces/s23\n",
        "data/att-faces/orl_faces/s8 data/att-faces/orl_faces/s8\n",
        "data/att-faces/orl_faces/s9 data/att-faces/orl_faces/s9\n",
        "data/att-faces/orl_faces/s24 data/att-faces/orl_faces/s24\n",
        "data/att-faces/orl_faces/s38 data/att-faces/orl_faces/s38\n",
        "data/att-faces/orl_faces/s21 data/att-faces/orl_faces/s21\n",
        "data/att-faces/orl_faces/s27 data/att-faces/orl_faces/s27\n",
        "data/att-faces/orl_faces/s13 data/att-faces/orl_faces/s13\n",
        "data/att-faces/orl_faces/s29 data/att-faces/orl_faces/s25\n",
        "data/att-faces/orl_faces/s5 data/att-faces/orl_faces/s40\n",
        "data/att-faces/orl_faces/s19 data/att-faces/orl_faces/s19\n",
        "data/att-faces/orl_faces/s33 data/att-faces/orl_faces/s33\n",
        "data/att-faces/orl_faces/s28 data/att-faces/orl_faces/s28\n",
        "data/att-faces/orl_faces/s22 data/att-faces/orl_faces/s22\n",
        "data/att-faces/orl_faces/s13 data/att-faces/orl_faces/s13\n",
        "data/att-faces/orl_faces/s12 data/att-faces/orl_faces/s12\n",
        "data/att-faces/orl_faces/s33 data/att-faces/orl_faces/s33\n",
        "data/att-faces/orl_faces/s7 data/att-faces/orl_faces/s7\n",
        "data/att-faces/orl_faces/s12 data/att-faces/orl_faces/s40\n",
        "data/att-faces/orl_faces/s31 data/att-faces/orl_faces/s31\n",
        "data/att-faces/orl_faces/s40 data/att-faces/orl_faces/s40\n",
        "data/att-faces/orl_faces/s21 data/att-faces/orl_faces/s21\n",
        "data/att-faces/orl_faces/s5 data/att-faces/orl_faces/s5\n",
        "data/att-faces/orl_faces/s29 data/att-faces/orl_faces/s19\n",
        "data/att-faces/orl_faces/s12 data/att-faces/orl_faces/s12\n",
        "data/att-faces/orl_faces/s4 data/att-faces/orl_faces/s4\n",
        "data/att-faces/orl_faces/s25 data/att-faces/orl_faces/s25\n",
        "data/att-faces/orl_faces/s7 data/att-faces/orl_faces/s7\n",
        "data/att-faces/orl_faces/s3 data/att-faces/orl_faces/s3\n",
        "data/att-faces/orl_faces/s24 data/att-faces/orl_faces/s24\n",
        "data/att-faces/orl_faces/s32 data/att-faces/orl_faces/s32\n",
        "data/att-faces/orl_faces/s30 data/att-faces/orl_faces/s30\n",
        "data/att-faces/orl_faces/s6 data/att-faces/orl_faces/s6\n",
        "data/att-faces/orl_faces/s30 data/att-faces/orl_faces/s30\n",
        "data/att-faces/orl_faces/s10 data/att-faces/orl_faces/s10\n",
        "data/att-faces/orl_faces/s1 data/att-faces/orl_faces/s13\n",
        "data/att-faces/orl_faces/s22 data/att-faces/orl_faces/s22\n",
        "data/att-faces/orl_faces/s16 data/att-faces/orl_faces/s16\n",
        "data/att-faces/orl_faces/s19 data/att-faces/orl_faces/s19\n",
        "data/att-faces/orl_faces/s9 data/att-faces/orl_faces/s9\n",
        "data/att-faces/orl_faces/s14 data/att-faces/orl_faces/s14\n",
        "data/att-faces/orl_faces/s4 data/att-faces/orl_faces/s4\n",
        "data/att-faces/orl_faces/s18 data/att-faces/orl_faces/s18\n",
        "data/att-faces/orl_faces/s34 data/att-faces/orl_faces/s35\n",
        "data/att-faces/orl_faces/s14 data/att-faces/orl_faces/s14\n",
        "data/att-faces/orl_faces/s7 data/att-faces/orl_faces/s7\n",
        "data/att-faces/orl_faces/s26 data/att-faces/orl_faces/s26\n",
        "data/att-faces/orl_faces/s20 data/att-faces/orl_faces/s20\n",
        "data/att-faces/orl_faces/s24 data/att-faces/orl_faces/s24\n",
        "data/att-faces/orl_faces/s6 data/att-faces/orl_faces/s30\n",
        "data/att-faces/orl_faces/s18 data/att-faces/orl_faces/s18\n"
       ]
      }
     ],
     "prompt_number": 8
    },
    {
     "cell_type": "code",
     "collapsed": false,
     "input": [],
     "language": "python",
     "metadata": {},
     "outputs": []
    }
   ],
   "metadata": {}
  }
 ]
}